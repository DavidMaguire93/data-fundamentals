{
 "cells": [
  {
   "cell_type": "markdown",
   "metadata": {},
   "source": [
    "# An analysis of CAO point from 2019, 2020 and 2021\n",
    "\n",
    "---"
   ]
  },
  {
   "cell_type": "code",
   "execution_count": 1,
   "metadata": {},
   "outputs": [],
   "source": [
    "# Regular expressions\n",
    "import re\n",
    "\n",
    "# For HTTP requests\n",
    "import requests as rq\n",
    "\n",
    "# Dates and Times\n",
    "import datetime as dt\n",
    "\n",
    "# Pandas\n",
    "import pandas as pd\n",
    "\n",
    "# For saving urls\n",
    "import urllib.request as urlrq\n",
    "\n",
    "# For only printing top few lines of large datasets\n",
    "from itertools import islice\n",
    "\n",
    "import matplotlib.pyplot as plt\n",
    "\n",
    "import seaborn as sns"
   ]
  },
  {
   "cell_type": "code",
   "execution_count": 2,
   "metadata": {},
   "outputs": [],
   "source": [
    "# style for plots\n",
    "plt.style.use('classic')"
   ]
  },
  {
   "cell_type": "code",
   "execution_count": 3,
   "metadata": {},
   "outputs": [],
   "source": [
    "# Get current date and time\n",
    "now = dt.datetime.now()\n",
    "\n",
    "# Format as string\n",
    "nowstr = now.strftime('%Y%m%d_%H%M%S')"
   ]
  },
  {
   "cell_type": "markdown",
   "metadata": {},
   "source": [
    "***\n",
    "\n",
    "# 2021 CAO Points\n",
    "\n",
    "https://www.cao.ie/index.php?page=points&p=2021\n",
    "\n",
    "***"
   ]
  },
  {
   "cell_type": "markdown",
   "metadata": {},
   "source": [
    "## Note on HTML format for 2021 CAO Points\n",
    "\n",
    "At the time of starting this project, the CAO points for 2021 were only available in on a HTML webpage. The link above would have another link taking you to this webpage. Presently, that link now links to a .xlsx file. Although the web address for the old HTML webpage of 2021 points still works, it cannot be accessed from the main 2021 page linked to above. While the .xlsx will presumably be updated with any new points, the same cannot be said of the HTML page. I have left the code to access the HTML webpage in but for the analysis of the data, I will be using the data from the .xlsx file."
   ]
  },
  {
   "cell_type": "markdown",
   "metadata": {},
   "source": [
    "### Level 8 Courses (HTML)"
   ]
  },
  {
   "cell_type": "code",
   "execution_count": 4,
   "metadata": {},
   "outputs": [
    {
     "data": {
      "text/plain": [
       "<Response [200]>"
      ]
     },
     "execution_count": 4,
     "metadata": {},
     "output_type": "execute_result"
    }
   ],
   "source": [
    "resp = rq.get('http://www2.cao.ie/points/l8.php')\n",
    "\n",
    "# Check if working\n",
    "# Response [200] if working\n",
    "resp"
   ]
  },
  {
   "cell_type": "code",
   "execution_count": 5,
   "metadata": {},
   "outputs": [],
   "source": [
    "# Compile the regular expression for matching lines\n",
    "\n",
    "# This compiler has some issues and does not get all lines needed\n",
    "# A simpler compiler might be possible\n",
    "# re_course = re.compile('([A-Z]{2}[0-9]{3})  (.*)([0-9]{3})(\\*?) *')\n",
    "\n",
    "re_course = re.compile('([A-Z]{2}[0-9]{3}.*)')\n",
    "\n"
   ]
  },
  {
   "cell_type": "code",
   "execution_count": 6,
   "metadata": {
    "scrolled": true
   },
   "outputs": [
    {
     "name": "stdout",
     "output_type": "stream",
     "text": [
      "----------------------------------------------------------------------------- \n",
      " Total number of lines is 949.\n"
     ]
    }
   ],
   "source": [
    "# Loop through line of the response content\n",
    "no_lines = 0\n",
    "for line in resp.iter_lines():\n",
    "    dline = line.decode('cp1252')\n",
    "    # Only match lines with courses / points\n",
    "    if re_course.fullmatch(dline):\n",
    "        no_lines +=1\n",
    "        # print(line)\n",
    "        csv_version = re_course.sub(r'\\1', dline)\n",
    "        # print(csv_version)\n",
    "print(f\"----------------------------------------------------------------------------- \\n Total number of lines is {no_lines}.\")"
   ]
  },
  {
   "cell_type": "code",
   "execution_count": 7,
   "metadata": {},
   "outputs": [
    {
     "name": "stdout",
     "output_type": "stream",
     "text": [
      "Total number of lines is 949.\n"
     ]
    }
   ],
   "source": [
    "# Create file path for saving csv file\n",
    "path = 'data/cao2021_l8' + nowstr + '.csv'\n",
    "\n",
    "# Keep track of number of lines\n",
    "no_lines = 0\n",
    "\n",
    "with open(path, 'w') as f:\n",
    "    \n",
    "    for line in resp.iter_lines():\n",
    "        dline = line.decode('cp1252')\n",
    "        if re_course.fullmatch(dline):\n",
    "            no_lines = no_lines + 1\n",
    "            linesplit = re.split('  +', dline)\n",
    "            f.write(','.join(linesplit) + '\\n')\n",
    "        \n",
    "print(f\"Total number of lines is {no_lines}.\")"
   ]
  },
  {
   "cell_type": "markdown",
   "metadata": {},
   "source": [
    "### Level 6/7 Courses (HTML)"
   ]
  },
  {
   "cell_type": "code",
   "execution_count": 8,
   "metadata": {},
   "outputs": [
    {
     "data": {
      "text/plain": [
       "<Response [200]>"
      ]
     },
     "execution_count": 8,
     "metadata": {},
     "output_type": "execute_result"
    }
   ],
   "source": [
    "resp = rq.get('http://www2.cao.ie/points/l76.php')\n",
    "\n",
    "# Check if working\n",
    "# Response [200] if working\n",
    "resp"
   ]
  },
  {
   "cell_type": "code",
   "execution_count": 9,
   "metadata": {},
   "outputs": [],
   "source": [
    "# Compile the regular expression for matching lines\n",
    "\n",
    "# This compiler has some issues and does not get all lines needed\n",
    "# A simpler compiler might be possible\n",
    "# re_course = re.compile('([A-Z]{2}[0-9]{3})  (.*)([0-9]{3})(\\*?) *')\n",
    "\n",
    "re_course = re.compile('([A-Z]{2}[0-9]{3}.*)')\n",
    "\n"
   ]
  },
  {
   "cell_type": "code",
   "execution_count": 10,
   "metadata": {
    "scrolled": true
   },
   "outputs": [
    {
     "name": "stdout",
     "output_type": "stream",
     "text": [
      "----------------------------------------------------------------------------- \n",
      " Total number of lines is 416.\n"
     ]
    }
   ],
   "source": [
    "# Loop through line of the response content\n",
    "no_lines = 0\n",
    "for line in resp.iter_lines():\n",
    "    dline = line.decode('cp1252')\n",
    "    # Only match lines with courses / points\n",
    "    if re_course.fullmatch(dline):\n",
    "        no_lines +=1\n",
    "        # print(line)\n",
    "        csv_version = re_course.sub(r'\\1', dline)\n",
    "        # print(csv_version)\n",
    "print(f\"----------------------------------------------------------------------------- \\n Total number of lines is {no_lines}.\")"
   ]
  },
  {
   "cell_type": "code",
   "execution_count": 11,
   "metadata": {},
   "outputs": [
    {
     "name": "stdout",
     "output_type": "stream",
     "text": [
      "Total number of lines is 416.\n"
     ]
    }
   ],
   "source": [
    "# Create file path for saving csv file\n",
    "path = 'data/cao2021_l76' + nowstr + '.csv'\n",
    "\n",
    "# Keep track of number of lines\n",
    "no_lines = 0\n",
    "\n",
    "with open(path, 'w') as f:\n",
    "    \n",
    "    for line in resp.iter_lines():\n",
    "        dline = line.decode('cp1252')\n",
    "        if re_course.fullmatch(dline):\n",
    "            no_lines = no_lines + 1\n",
    "            linesplit = re.split('  +', dline)\n",
    "            f.write(','.join(linesplit) + '\\n')\n",
    "        \n",
    "print(f\"Total number of lines is {no_lines}.\")"
   ]
  },
  {
   "cell_type": "markdown",
   "metadata": {},
   "source": [
    "### Level 6/7/8 Courses (xlsx)"
   ]
  },
  {
   "cell_type": "code",
   "execution_count": 12,
   "metadata": {},
   "outputs": [],
   "source": [
    "# Name new excel save files\n",
    "path = 'data/cao2021_' + nowstr + '.xlsx'"
   ]
  },
  {
   "cell_type": "code",
   "execution_count": 13,
   "metadata": {},
   "outputs": [
    {
     "data": {
      "text/plain": [
       "('data/cao2021_20220102_232039.xlsx',\n",
       " <http.client.HTTPMessage at 0x153f6f94af0>)"
      ]
     },
     "execution_count": 13,
     "metadata": {},
     "output_type": "execute_result"
    }
   ],
   "source": [
    "# Save Excel File\n",
    "urlrq.urlretrieve('http://www2.cao.ie/points/CAOPointsCharts2021.xlsx', path)"
   ]
  },
  {
   "cell_type": "code",
   "execution_count": 14,
   "metadata": {},
   "outputs": [],
   "source": [
    "# Download and parse the excel spreadsheet\n",
    "df2021 = pd.read_excel('http://www2.cao.ie/points/CAOPointsCharts2021.xlsx', skiprows=11)"
   ]
  },
  {
   "cell_type": "code",
   "execution_count": 15,
   "metadata": {},
   "outputs": [],
   "source": [
    "# Save Pandas dataframe to file\n",
    "path = 'data/cao2021_' + nowstr + '.csv'\n",
    "\n",
    "df2021.to_csv(path)"
   ]
  },
  {
   "cell_type": "code",
   "execution_count": 16,
   "metadata": {},
   "outputs": [],
   "source": [
    "# Filter columns that we want to see\n",
    "df2021 = df2021[[\"Course Code\", \"Course Title\", \"EOS Points\", \"EOS Midpoints\", \"Course Level\"]]"
   ]
  },
  {
   "cell_type": "code",
   "execution_count": 17,
   "metadata": {},
   "outputs": [],
   "source": [
    " columns = [\"Code\", \"Title\", \"Points\", \"MidPoints\", \"Level\"]"
   ]
  },
  {
   "cell_type": "code",
   "execution_count": 18,
   "metadata": {},
   "outputs": [],
   "source": [
    "df2021.columns = columns"
   ]
  },
  {
   "cell_type": "code",
   "execution_count": 19,
   "metadata": {},
   "outputs": [
    {
     "data": {
      "text/html": [
       "<div>\n",
       "<style scoped>\n",
       "    .dataframe tbody tr th:only-of-type {\n",
       "        vertical-align: middle;\n",
       "    }\n",
       "\n",
       "    .dataframe tbody tr th {\n",
       "        vertical-align: top;\n",
       "    }\n",
       "\n",
       "    .dataframe thead th {\n",
       "        text-align: right;\n",
       "    }\n",
       "</style>\n",
       "<table border=\"1\" class=\"dataframe\">\n",
       "  <thead>\n",
       "    <tr style=\"text-align: right;\">\n",
       "      <th></th>\n",
       "      <th>Code</th>\n",
       "      <th>Title</th>\n",
       "      <th>Points</th>\n",
       "      <th>MidPoints</th>\n",
       "      <th>Level</th>\n",
       "    </tr>\n",
       "  </thead>\n",
       "  <tbody>\n",
       "    <tr>\n",
       "      <th>0</th>\n",
       "      <td>AL605</td>\n",
       "      <td>Music and Instrument Technology</td>\n",
       "      <td>211</td>\n",
       "      <td>319</td>\n",
       "      <td>6</td>\n",
       "    </tr>\n",
       "    <tr>\n",
       "      <th>1</th>\n",
       "      <td>AL630</td>\n",
       "      <td>Pharmacy Technician</td>\n",
       "      <td>308</td>\n",
       "      <td>409</td>\n",
       "      <td>6</td>\n",
       "    </tr>\n",
       "    <tr>\n",
       "      <th>2</th>\n",
       "      <td>AL631</td>\n",
       "      <td>Dental Nursing</td>\n",
       "      <td>311</td>\n",
       "      <td>400</td>\n",
       "      <td>6</td>\n",
       "    </tr>\n",
       "    <tr>\n",
       "      <th>3</th>\n",
       "      <td>AL632</td>\n",
       "      <td>Applied Science</td>\n",
       "      <td>297</td>\n",
       "      <td>454</td>\n",
       "      <td>6</td>\n",
       "    </tr>\n",
       "    <tr>\n",
       "      <th>4</th>\n",
       "      <td>AL650</td>\n",
       "      <td>Business</td>\n",
       "      <td>AQA</td>\n",
       "      <td>351</td>\n",
       "      <td>6</td>\n",
       "    </tr>\n",
       "  </tbody>\n",
       "</table>\n",
       "</div>"
      ],
      "text/plain": [
       "    Code                            Title Points MidPoints  Level\n",
       "0  AL605  Music and Instrument Technology    211       319      6\n",
       "1  AL630              Pharmacy Technician    308       409      6\n",
       "2  AL631                   Dental Nursing    311       400      6\n",
       "3  AL632                  Applied Science    297       454      6\n",
       "4  AL650                         Business    AQA       351      6"
      ]
     },
     "execution_count": 19,
     "metadata": {},
     "output_type": "execute_result"
    }
   ],
   "source": [
    "df2021.head()"
   ]
  },
  {
   "cell_type": "markdown",
   "metadata": {},
   "source": [
    "***\n",
    "\n",
    "# 2020 CAO Points\n",
    "\n",
    "https://www.cao.ie/index.php?page=points&p=2020\n",
    "\n",
    "***"
   ]
  },
  {
   "cell_type": "code",
   "execution_count": 20,
   "metadata": {},
   "outputs": [],
   "source": [
    "# Name new excel save files\n",
    "path = 'data/cao2020_' + nowstr + '.xlsx'"
   ]
  },
  {
   "cell_type": "code",
   "execution_count": 21,
   "metadata": {},
   "outputs": [
    {
     "data": {
      "text/plain": [
       "('data/cao2020_20220102_232039.xlsx',\n",
       " <http.client.HTTPMessage at 0x153f7219f10>)"
      ]
     },
     "execution_count": 21,
     "metadata": {},
     "output_type": "execute_result"
    }
   ],
   "source": [
    "# Save Excel File\n",
    "urlrq.urlretrieve('http://www2.cao.ie/points/CAOPointsCharts2020.xlsx', path)"
   ]
  },
  {
   "cell_type": "code",
   "execution_count": 22,
   "metadata": {},
   "outputs": [],
   "source": [
    "# Download and parse the excel spreadsheet\n",
    "df2020 = pd.read_excel('http://www2.cao.ie/points/CAOPointsCharts2020.xlsx', skiprows=10)"
   ]
  },
  {
   "cell_type": "code",
   "execution_count": 23,
   "metadata": {},
   "outputs": [],
   "source": [
    "# Save Pandas dataframe to file\n",
    "path = 'data/cao2020_' + nowstr + '.csv'\n",
    "\n",
    "df2020.to_csv(path)"
   ]
  },
  {
   "cell_type": "code",
   "execution_count": 24,
   "metadata": {},
   "outputs": [],
   "source": [
    "# Filter columns that we want to see\n",
    "df2020 = df2020[[\"COURSE CODE2\", \"COURSE TITLE\", \"EOS\", \"EOS Mid-point\", \"LEVEL\"]]"
   ]
  },
  {
   "cell_type": "code",
   "execution_count": 25,
   "metadata": {},
   "outputs": [],
   "source": [
    "df2020.columns = columns"
   ]
  },
  {
   "cell_type": "code",
   "execution_count": 26,
   "metadata": {},
   "outputs": [
    {
     "data": {
      "text/html": [
       "<div>\n",
       "<style scoped>\n",
       "    .dataframe tbody tr th:only-of-type {\n",
       "        vertical-align: middle;\n",
       "    }\n",
       "\n",
       "    .dataframe tbody tr th {\n",
       "        vertical-align: top;\n",
       "    }\n",
       "\n",
       "    .dataframe thead th {\n",
       "        text-align: right;\n",
       "    }\n",
       "</style>\n",
       "<table border=\"1\" class=\"dataframe\">\n",
       "  <thead>\n",
       "    <tr style=\"text-align: right;\">\n",
       "      <th></th>\n",
       "      <th>Code</th>\n",
       "      <th>Title</th>\n",
       "      <th>Points</th>\n",
       "      <th>MidPoints</th>\n",
       "      <th>Level</th>\n",
       "    </tr>\n",
       "  </thead>\n",
       "  <tbody>\n",
       "    <tr>\n",
       "      <th>0</th>\n",
       "      <td>AC120</td>\n",
       "      <td>International Business</td>\n",
       "      <td>209</td>\n",
       "      <td>280</td>\n",
       "      <td>8</td>\n",
       "    </tr>\n",
       "    <tr>\n",
       "      <th>1</th>\n",
       "      <td>AC137</td>\n",
       "      <td>Liberal Arts</td>\n",
       "      <td>252</td>\n",
       "      <td>270</td>\n",
       "      <td>8</td>\n",
       "    </tr>\n",
       "    <tr>\n",
       "      <th>2</th>\n",
       "      <td>AD101</td>\n",
       "      <td>First Year Art &amp; Design (Common Entry,portfolio)</td>\n",
       "      <td>#+matric</td>\n",
       "      <td>#+matric</td>\n",
       "      <td>8</td>\n",
       "    </tr>\n",
       "    <tr>\n",
       "      <th>3</th>\n",
       "      <td>AD102</td>\n",
       "      <td>Graphic Design and Moving Image Design (portfo...</td>\n",
       "      <td>#+matric</td>\n",
       "      <td>#+matric</td>\n",
       "      <td>8</td>\n",
       "    </tr>\n",
       "    <tr>\n",
       "      <th>4</th>\n",
       "      <td>AD103</td>\n",
       "      <td>Textile &amp; Surface Design and Jewellery &amp; Objec...</td>\n",
       "      <td>#+matric</td>\n",
       "      <td>#+matric</td>\n",
       "      <td>8</td>\n",
       "    </tr>\n",
       "  </tbody>\n",
       "</table>\n",
       "</div>"
      ],
      "text/plain": [
       "    Code                                              Title    Points  \\\n",
       "0  AC120                             International Business       209   \n",
       "1  AC137                                       Liberal Arts       252   \n",
       "2  AD101   First Year Art & Design (Common Entry,portfolio)  #+matric   \n",
       "3  AD102  Graphic Design and Moving Image Design (portfo...  #+matric   \n",
       "4  AD103  Textile & Surface Design and Jewellery & Objec...  #+matric   \n",
       "\n",
       "  MidPoints  Level  \n",
       "0       280      8  \n",
       "1       270      8  \n",
       "2  #+matric      8  \n",
       "3  #+matric      8  \n",
       "4  #+matric      8  "
      ]
     },
     "execution_count": 26,
     "metadata": {},
     "output_type": "execute_result"
    }
   ],
   "source": [
    "df2020.head()"
   ]
  },
  {
   "cell_type": "markdown",
   "metadata": {},
   "source": [
    "***\n",
    "\n",
    "# 2019 CAO Points\n",
    "\n",
    "https://www.cao.ie/index.php?page=points&p=2019\n",
    "\n",
    "***"
   ]
  },
  {
   "cell_type": "markdown",
   "metadata": {},
   "source": [
    "### Steps to reproduce\n",
    "\n",
    "1. Download original pdf file\n",
    "2. Open original pdf file in Microsoft Word\n",
    "3. Save Microsoft Word's converted pdf in docx format\n",
    "4. Re-save Word document for editing\n",
    "5. Delete headers and footers\n",
    "6. Delete preamble on page 1\n",
    "7. Select all and copy\n",
    "8. Paste into Excel\n",
    "9. Manually delete blank lines\n",
    "10. Save as xlsx document"
   ]
  },
  {
   "cell_type": "markdown",
   "metadata": {},
   "source": [
    "### Level 8 Courses"
   ]
  },
  {
   "cell_type": "code",
   "execution_count": 27,
   "metadata": {},
   "outputs": [],
   "source": [
    "# assign name for saving data\n",
    "path = 'data/cao2019_l8' + nowstr + '.tsv'"
   ]
  },
  {
   "cell_type": "code",
   "execution_count": 28,
   "metadata": {},
   "outputs": [],
   "source": [
    "# Convert downlaoded excel to dataframe\n",
    "df2019L8 = pd.read_excel('data/cao2019_20211102_200630.xlsx')"
   ]
  },
  {
   "cell_type": "code",
   "execution_count": 29,
   "metadata": {},
   "outputs": [],
   "source": [
    "# Save as csv\n",
    "df2019L8.to_csv(path, sep= '\\t')"
   ]
  },
  {
   "cell_type": "code",
   "execution_count": 30,
   "metadata": {},
   "outputs": [],
   "source": [
    "# Rename columns to match other dfs\n",
    "df2019L8.columns = columns[:-1]"
   ]
  },
  {
   "cell_type": "code",
   "execution_count": 31,
   "metadata": {},
   "outputs": [],
   "source": [
    "df2019L8[\"Level\"] = \"8\""
   ]
  },
  {
   "cell_type": "code",
   "execution_count": 32,
   "metadata": {},
   "outputs": [
    {
     "data": {
      "text/html": [
       "<div>\n",
       "<style scoped>\n",
       "    .dataframe tbody tr th:only-of-type {\n",
       "        vertical-align: middle;\n",
       "    }\n",
       "\n",
       "    .dataframe tbody tr th {\n",
       "        vertical-align: top;\n",
       "    }\n",
       "\n",
       "    .dataframe thead th {\n",
       "        text-align: right;\n",
       "    }\n",
       "</style>\n",
       "<table border=\"1\" class=\"dataframe\">\n",
       "  <thead>\n",
       "    <tr style=\"text-align: right;\">\n",
       "      <th></th>\n",
       "      <th>Code</th>\n",
       "      <th>Title</th>\n",
       "      <th>Points</th>\n",
       "      <th>MidPoints</th>\n",
       "      <th>Level</th>\n",
       "    </tr>\n",
       "  </thead>\n",
       "  <tbody>\n",
       "    <tr>\n",
       "      <th>0</th>\n",
       "      <td>AL801</td>\n",
       "      <td>Software Design with Virtual Reality and Gaming</td>\n",
       "      <td>304</td>\n",
       "      <td>328.0</td>\n",
       "      <td>8</td>\n",
       "    </tr>\n",
       "    <tr>\n",
       "      <th>1</th>\n",
       "      <td>AL802</td>\n",
       "      <td>Software Design with Cloud Computing</td>\n",
       "      <td>301</td>\n",
       "      <td>306.0</td>\n",
       "      <td>8</td>\n",
       "    </tr>\n",
       "    <tr>\n",
       "      <th>2</th>\n",
       "      <td>AL803</td>\n",
       "      <td>Software Design with Mobile Apps and Connected...</td>\n",
       "      <td>309</td>\n",
       "      <td>337.0</td>\n",
       "      <td>8</td>\n",
       "    </tr>\n",
       "    <tr>\n",
       "      <th>3</th>\n",
       "      <td>AL805</td>\n",
       "      <td>Network Management and Cloud Infrastructure</td>\n",
       "      <td>329</td>\n",
       "      <td>442.0</td>\n",
       "      <td>8</td>\n",
       "    </tr>\n",
       "    <tr>\n",
       "      <th>4</th>\n",
       "      <td>AL810</td>\n",
       "      <td>Quantity Surveying</td>\n",
       "      <td>307</td>\n",
       "      <td>349.0</td>\n",
       "      <td>8</td>\n",
       "    </tr>\n",
       "  </tbody>\n",
       "</table>\n",
       "</div>"
      ],
      "text/plain": [
       "    Code                                              Title Points  MidPoints  \\\n",
       "0  AL801    Software Design with Virtual Reality and Gaming    304      328.0   \n",
       "1  AL802               Software Design with Cloud Computing    301      306.0   \n",
       "2  AL803  Software Design with Mobile Apps and Connected...    309      337.0   \n",
       "3  AL805        Network Management and Cloud Infrastructure    329      442.0   \n",
       "4  AL810                                 Quantity Surveying    307      349.0   \n",
       "\n",
       "  Level  \n",
       "0     8  \n",
       "1     8  \n",
       "2     8  \n",
       "3     8  \n",
       "4     8  "
      ]
     },
     "execution_count": 32,
     "metadata": {},
     "output_type": "execute_result"
    }
   ],
   "source": [
    "df2019L8.head()"
   ]
  },
  {
   "cell_type": "markdown",
   "metadata": {},
   "source": [
    "### Level 6/7 Courses"
   ]
  },
  {
   "cell_type": "code",
   "execution_count": 33,
   "metadata": {},
   "outputs": [],
   "source": [
    "# assign name for saving data\n",
    "path = 'data/cao2019_l67' + nowstr + '.tsv'"
   ]
  },
  {
   "cell_type": "code",
   "execution_count": 34,
   "metadata": {},
   "outputs": [],
   "source": [
    "# Convert downlaoded excel to dataframe\n",
    "df2019L67 = pd.read_excel('data/cao2019_20211202_193530_l67.xlsx')"
   ]
  },
  {
   "cell_type": "code",
   "execution_count": 35,
   "metadata": {},
   "outputs": [],
   "source": [
    "# Save as csv\n",
    "df2019L67.to_csv(path, sep= '\\t')"
   ]
  },
  {
   "cell_type": "code",
   "execution_count": 36,
   "metadata": {},
   "outputs": [],
   "source": [
    "# Rename columns to match other dfs\n",
    "df2019L67.columns = columns[:-1]"
   ]
  },
  {
   "cell_type": "code",
   "execution_count": 37,
   "metadata": {},
   "outputs": [],
   "source": [
    "df2019L67[\"Level\"] = \"6/7\""
   ]
  },
  {
   "cell_type": "code",
   "execution_count": 38,
   "metadata": {},
   "outputs": [
    {
     "data": {
      "text/html": [
       "<div>\n",
       "<style scoped>\n",
       "    .dataframe tbody tr th:only-of-type {\n",
       "        vertical-align: middle;\n",
       "    }\n",
       "\n",
       "    .dataframe tbody tr th {\n",
       "        vertical-align: top;\n",
       "    }\n",
       "\n",
       "    .dataframe thead th {\n",
       "        text-align: right;\n",
       "    }\n",
       "</style>\n",
       "<table border=\"1\" class=\"dataframe\">\n",
       "  <thead>\n",
       "    <tr style=\"text-align: right;\">\n",
       "      <th></th>\n",
       "      <th>Code</th>\n",
       "      <th>Title</th>\n",
       "      <th>Points</th>\n",
       "      <th>MidPoints</th>\n",
       "      <th>Level</th>\n",
       "    </tr>\n",
       "  </thead>\n",
       "  <tbody>\n",
       "    <tr>\n",
       "      <th>0</th>\n",
       "      <td>AL600</td>\n",
       "      <td>Software Design</td>\n",
       "      <td>205</td>\n",
       "      <td>306.0</td>\n",
       "      <td>6/7</td>\n",
       "    </tr>\n",
       "    <tr>\n",
       "      <th>1</th>\n",
       "      <td>AL601</td>\n",
       "      <td>Computer Engineering</td>\n",
       "      <td>196</td>\n",
       "      <td>272.0</td>\n",
       "      <td>6/7</td>\n",
       "    </tr>\n",
       "    <tr>\n",
       "      <th>2</th>\n",
       "      <td>AL602</td>\n",
       "      <td>Mechanical Engineering</td>\n",
       "      <td>258</td>\n",
       "      <td>424.0</td>\n",
       "      <td>6/7</td>\n",
       "    </tr>\n",
       "    <tr>\n",
       "      <th>3</th>\n",
       "      <td>AL604</td>\n",
       "      <td>Civil Engineering</td>\n",
       "      <td>252</td>\n",
       "      <td>360.0</td>\n",
       "      <td>6/7</td>\n",
       "    </tr>\n",
       "    <tr>\n",
       "      <th>4</th>\n",
       "      <td>AL630</td>\n",
       "      <td>Pharmacy Technician</td>\n",
       "      <td>306</td>\n",
       "      <td>366.0</td>\n",
       "      <td>6/7</td>\n",
       "    </tr>\n",
       "  </tbody>\n",
       "</table>\n",
       "</div>"
      ],
      "text/plain": [
       "    Code                   Title Points  MidPoints Level\n",
       "0  AL600         Software Design    205      306.0   6/7\n",
       "1  AL601    Computer Engineering    196      272.0   6/7\n",
       "2  AL602  Mechanical Engineering    258      424.0   6/7\n",
       "3  AL604       Civil Engineering    252      360.0   6/7\n",
       "4  AL630     Pharmacy Technician    306      366.0   6/7"
      ]
     },
     "execution_count": 38,
     "metadata": {},
     "output_type": "execute_result"
    }
   ],
   "source": [
    "df2019L67.head()"
   ]
  },
  {
   "cell_type": "markdown",
   "metadata": {},
   "source": [
    "## Joining of Years"
   ]
  },
  {
   "cell_type": "code",
   "execution_count": 39,
   "metadata": {},
   "outputs": [],
   "source": [
    "# Append level 6/7s to level 8s\n",
    "df2019 = df2019L8.append(df2019L67)"
   ]
  },
  {
   "cell_type": "code",
   "execution_count": 40,
   "metadata": {},
   "outputs": [
    {
     "data": {
      "text/plain": [
       "Code         930\n",
       "Title        930\n",
       "Points       926\n",
       "MidPoints    915\n",
       "Level        930\n",
       "dtype: int64"
      ]
     },
     "execution_count": 40,
     "metadata": {},
     "output_type": "execute_result"
    }
   ],
   "source": [
    "df2019L8.count()"
   ]
  },
  {
   "cell_type": "code",
   "execution_count": 41,
   "metadata": {},
   "outputs": [
    {
     "data": {
      "text/plain": [
       "Code         461\n",
       "Title        461\n",
       "Points       454\n",
       "MidPoints    453\n",
       "Level        461\n",
       "dtype: int64"
      ]
     },
     "execution_count": 41,
     "metadata": {},
     "output_type": "execute_result"
    }
   ],
   "source": [
    "df2019L67.count()"
   ]
  },
  {
   "cell_type": "code",
   "execution_count": 42,
   "metadata": {},
   "outputs": [
    {
     "data": {
      "text/plain": [
       "Code         1391\n",
       "Title        1391\n",
       "Points       1380\n",
       "MidPoints    1368\n",
       "Level        1391\n",
       "dtype: int64"
      ]
     },
     "execution_count": 42,
     "metadata": {},
     "output_type": "execute_result"
    }
   ],
   "source": [
    "df2019.count()"
   ]
  },
  {
   "cell_type": "markdown",
   "metadata": {},
   "source": [
    "## Joining of Dataframes"
   ]
  },
  {
   "cell_type": "code",
   "execution_count": 43,
   "metadata": {},
   "outputs": [],
   "source": [
    "# Assign different column names in preparation for merging\n",
    "columns2021 = [\"Code\", \"Title\", \"2021Points\", \"2021MidPoints\", \"2021Level\"]\n",
    "columns2020 = [\"Code\", \"Title\", \"2020Points\", \"2020MidPoints\", \"2020Level\"]\n",
    "columns2019 = [\"Code\", \"Title\", \"2019Points\", \"2019MidPoints\", \"2019Level\"]"
   ]
  },
  {
   "cell_type": "code",
   "execution_count": 44,
   "metadata": {},
   "outputs": [],
   "source": [
    "# Name columns all the same\n",
    "df2021.columns = columns2021\n",
    "df2020.columns = columns2020\n",
    "df2019.columns = columns2019"
   ]
  },
  {
   "cell_type": "code",
   "execution_count": 45,
   "metadata": {},
   "outputs": [
    {
     "data": {
      "text/html": [
       "<div>\n",
       "<style scoped>\n",
       "    .dataframe tbody tr th:only-of-type {\n",
       "        vertical-align: middle;\n",
       "    }\n",
       "\n",
       "    .dataframe tbody tr th {\n",
       "        vertical-align: top;\n",
       "    }\n",
       "\n",
       "    .dataframe thead th {\n",
       "        text-align: right;\n",
       "    }\n",
       "</style>\n",
       "<table border=\"1\" class=\"dataframe\">\n",
       "  <thead>\n",
       "    <tr style=\"text-align: right;\">\n",
       "      <th></th>\n",
       "      <th>Code</th>\n",
       "      <th>Title</th>\n",
       "      <th>2021Points</th>\n",
       "      <th>2021MidPoints</th>\n",
       "      <th>2021Level</th>\n",
       "    </tr>\n",
       "  </thead>\n",
       "  <tbody>\n",
       "    <tr>\n",
       "      <th>0</th>\n",
       "      <td>AL605</td>\n",
       "      <td>Music and Instrument Technology</td>\n",
       "      <td>211</td>\n",
       "      <td>319</td>\n",
       "      <td>6</td>\n",
       "    </tr>\n",
       "    <tr>\n",
       "      <th>1</th>\n",
       "      <td>AL630</td>\n",
       "      <td>Pharmacy Technician</td>\n",
       "      <td>308</td>\n",
       "      <td>409</td>\n",
       "      <td>6</td>\n",
       "    </tr>\n",
       "    <tr>\n",
       "      <th>2</th>\n",
       "      <td>AL631</td>\n",
       "      <td>Dental Nursing</td>\n",
       "      <td>311</td>\n",
       "      <td>400</td>\n",
       "      <td>6</td>\n",
       "    </tr>\n",
       "    <tr>\n",
       "      <th>3</th>\n",
       "      <td>AL632</td>\n",
       "      <td>Applied Science</td>\n",
       "      <td>297</td>\n",
       "      <td>454</td>\n",
       "      <td>6</td>\n",
       "    </tr>\n",
       "    <tr>\n",
       "      <th>4</th>\n",
       "      <td>AL650</td>\n",
       "      <td>Business</td>\n",
       "      <td>AQA</td>\n",
       "      <td>351</td>\n",
       "      <td>6</td>\n",
       "    </tr>\n",
       "  </tbody>\n",
       "</table>\n",
       "</div>"
      ],
      "text/plain": [
       "    Code                            Title 2021Points 2021MidPoints  2021Level\n",
       "0  AL605  Music and Instrument Technology        211           319          6\n",
       "1  AL630              Pharmacy Technician        308           409          6\n",
       "2  AL631                   Dental Nursing        311           400          6\n",
       "3  AL632                  Applied Science        297           454          6\n",
       "4  AL650                         Business        AQA           351          6"
      ]
     },
     "execution_count": 45,
     "metadata": {},
     "output_type": "execute_result"
    }
   ],
   "source": [
    "df2021.head()"
   ]
  },
  {
   "cell_type": "code",
   "execution_count": 46,
   "metadata": {},
   "outputs": [
    {
     "data": {
      "text/html": [
       "<div>\n",
       "<style scoped>\n",
       "    .dataframe tbody tr th:only-of-type {\n",
       "        vertical-align: middle;\n",
       "    }\n",
       "\n",
       "    .dataframe tbody tr th {\n",
       "        vertical-align: top;\n",
       "    }\n",
       "\n",
       "    .dataframe thead th {\n",
       "        text-align: right;\n",
       "    }\n",
       "</style>\n",
       "<table border=\"1\" class=\"dataframe\">\n",
       "  <thead>\n",
       "    <tr style=\"text-align: right;\">\n",
       "      <th></th>\n",
       "      <th>Code</th>\n",
       "      <th>Title</th>\n",
       "      <th>2020Points</th>\n",
       "      <th>2020MidPoints</th>\n",
       "      <th>2020Level</th>\n",
       "    </tr>\n",
       "  </thead>\n",
       "  <tbody>\n",
       "    <tr>\n",
       "      <th>0</th>\n",
       "      <td>AC120</td>\n",
       "      <td>International Business</td>\n",
       "      <td>209</td>\n",
       "      <td>280</td>\n",
       "      <td>8</td>\n",
       "    </tr>\n",
       "    <tr>\n",
       "      <th>1</th>\n",
       "      <td>AC137</td>\n",
       "      <td>Liberal Arts</td>\n",
       "      <td>252</td>\n",
       "      <td>270</td>\n",
       "      <td>8</td>\n",
       "    </tr>\n",
       "    <tr>\n",
       "      <th>2</th>\n",
       "      <td>AD101</td>\n",
       "      <td>First Year Art &amp; Design (Common Entry,portfolio)</td>\n",
       "      <td>#+matric</td>\n",
       "      <td>#+matric</td>\n",
       "      <td>8</td>\n",
       "    </tr>\n",
       "    <tr>\n",
       "      <th>3</th>\n",
       "      <td>AD102</td>\n",
       "      <td>Graphic Design and Moving Image Design (portfo...</td>\n",
       "      <td>#+matric</td>\n",
       "      <td>#+matric</td>\n",
       "      <td>8</td>\n",
       "    </tr>\n",
       "    <tr>\n",
       "      <th>4</th>\n",
       "      <td>AD103</td>\n",
       "      <td>Textile &amp; Surface Design and Jewellery &amp; Objec...</td>\n",
       "      <td>#+matric</td>\n",
       "      <td>#+matric</td>\n",
       "      <td>8</td>\n",
       "    </tr>\n",
       "  </tbody>\n",
       "</table>\n",
       "</div>"
      ],
      "text/plain": [
       "    Code                                              Title 2020Points  \\\n",
       "0  AC120                             International Business        209   \n",
       "1  AC137                                       Liberal Arts        252   \n",
       "2  AD101   First Year Art & Design (Common Entry,portfolio)   #+matric   \n",
       "3  AD102  Graphic Design and Moving Image Design (portfo...   #+matric   \n",
       "4  AD103  Textile & Surface Design and Jewellery & Objec...   #+matric   \n",
       "\n",
       "  2020MidPoints  2020Level  \n",
       "0           280          8  \n",
       "1           270          8  \n",
       "2      #+matric          8  \n",
       "3      #+matric          8  \n",
       "4      #+matric          8  "
      ]
     },
     "execution_count": 46,
     "metadata": {},
     "output_type": "execute_result"
    }
   ],
   "source": [
    "df2020.head()"
   ]
  },
  {
   "cell_type": "code",
   "execution_count": 47,
   "metadata": {},
   "outputs": [
    {
     "data": {
      "text/html": [
       "<div>\n",
       "<style scoped>\n",
       "    .dataframe tbody tr th:only-of-type {\n",
       "        vertical-align: middle;\n",
       "    }\n",
       "\n",
       "    .dataframe tbody tr th {\n",
       "        vertical-align: top;\n",
       "    }\n",
       "\n",
       "    .dataframe thead th {\n",
       "        text-align: right;\n",
       "    }\n",
       "</style>\n",
       "<table border=\"1\" class=\"dataframe\">\n",
       "  <thead>\n",
       "    <tr style=\"text-align: right;\">\n",
       "      <th></th>\n",
       "      <th>Code</th>\n",
       "      <th>Title</th>\n",
       "      <th>2019Points</th>\n",
       "      <th>2019MidPoints</th>\n",
       "      <th>2019Level</th>\n",
       "    </tr>\n",
       "  </thead>\n",
       "  <tbody>\n",
       "    <tr>\n",
       "      <th>0</th>\n",
       "      <td>AL801</td>\n",
       "      <td>Software Design with Virtual Reality and Gaming</td>\n",
       "      <td>304</td>\n",
       "      <td>328.0</td>\n",
       "      <td>8</td>\n",
       "    </tr>\n",
       "    <tr>\n",
       "      <th>1</th>\n",
       "      <td>AL802</td>\n",
       "      <td>Software Design with Cloud Computing</td>\n",
       "      <td>301</td>\n",
       "      <td>306.0</td>\n",
       "      <td>8</td>\n",
       "    </tr>\n",
       "    <tr>\n",
       "      <th>2</th>\n",
       "      <td>AL803</td>\n",
       "      <td>Software Design with Mobile Apps and Connected...</td>\n",
       "      <td>309</td>\n",
       "      <td>337.0</td>\n",
       "      <td>8</td>\n",
       "    </tr>\n",
       "    <tr>\n",
       "      <th>3</th>\n",
       "      <td>AL805</td>\n",
       "      <td>Network Management and Cloud Infrastructure</td>\n",
       "      <td>329</td>\n",
       "      <td>442.0</td>\n",
       "      <td>8</td>\n",
       "    </tr>\n",
       "    <tr>\n",
       "      <th>4</th>\n",
       "      <td>AL810</td>\n",
       "      <td>Quantity Surveying</td>\n",
       "      <td>307</td>\n",
       "      <td>349.0</td>\n",
       "      <td>8</td>\n",
       "    </tr>\n",
       "  </tbody>\n",
       "</table>\n",
       "</div>"
      ],
      "text/plain": [
       "    Code                                              Title 2019Points  \\\n",
       "0  AL801    Software Design with Virtual Reality and Gaming        304   \n",
       "1  AL802               Software Design with Cloud Computing        301   \n",
       "2  AL803  Software Design with Mobile Apps and Connected...        309   \n",
       "3  AL805        Network Management and Cloud Infrastructure        329   \n",
       "4  AL810                                 Quantity Surveying        307   \n",
       "\n",
       "   2019MidPoints 2019Level  \n",
       "0          328.0         8  \n",
       "1          306.0         8  \n",
       "2          337.0         8  \n",
       "3          442.0         8  \n",
       "4          349.0         8  "
      ]
     },
     "execution_count": 47,
     "metadata": {},
     "output_type": "execute_result"
    }
   ],
   "source": [
    "df2019.head()"
   ]
  },
  {
   "cell_type": "code",
   "execution_count": 48,
   "metadata": {},
   "outputs": [],
   "source": [
    "# Join datasets\n",
    "dfcao = pd.merge(df2021, df2020, on=\"Code\", how=\"outer\")"
   ]
  },
  {
   "cell_type": "code",
   "execution_count": 49,
   "metadata": {},
   "outputs": [
    {
     "data": {
      "text/plain": [
       "Code             1558\n",
       "Title_x          1451\n",
       "2021Points       1422\n",
       "2021MidPoints    1433\n",
       "2021Level        1451\n",
       "Title_y          1464\n",
       "2020Points       1448\n",
       "2020MidPoints    1437\n",
       "2020Level        1464\n",
       "dtype: int64"
      ]
     },
     "execution_count": 49,
     "metadata": {},
     "output_type": "execute_result"
    }
   ],
   "source": [
    "dfcao.count()"
   ]
  },
  {
   "cell_type": "code",
   "execution_count": 50,
   "metadata": {},
   "outputs": [],
   "source": [
    "# Join datasets\n",
    "dfcao = pd.merge(dfcao, df2019, on = \"Code\", how = \"outer\")"
   ]
  },
  {
   "cell_type": "code",
   "execution_count": 51,
   "metadata": {},
   "outputs": [
    {
     "data": {
      "text/plain": [
       "Code             1812\n",
       "Title_x          1451\n",
       "2021Points       1422\n",
       "2021MidPoints    1433\n",
       "2021Level        1451\n",
       "Title_y          1464\n",
       "2020Points       1448\n",
       "2020MidPoints    1437\n",
       "2020Level        1464\n",
       "Title            1391\n",
       "2019Points       1380\n",
       "2019MidPoints    1368\n",
       "2019Level        1391\n",
       "dtype: int64"
      ]
     },
     "execution_count": 51,
     "metadata": {},
     "output_type": "execute_result"
    }
   ],
   "source": [
    "dfcao.count()"
   ]
  },
  {
   "cell_type": "markdown",
   "metadata": {},
   "source": [
    "### Removing NaNs\n",
    "For the analysis of the points across the years, means etc will be thrown off if we include some courses that are present in some years and not in others. We will create a dataframe that only has courses that were present across all 3 years. We will also have to drop any courses that have non-number points as these cannot be analysed. Likewise for courses requiring portfolios (denoted with a # in the dataset) as we do not know the graded of these portfolios."
   ]
  },
  {
   "cell_type": "code",
   "execution_count": 52,
   "metadata": {},
   "outputs": [],
   "source": [
    "# Remove Nans\n",
    "dfcao = dfcao.dropna()"
   ]
  },
  {
   "cell_type": "code",
   "execution_count": 53,
   "metadata": {},
   "outputs": [],
   "source": [
    "# search for rows not containing AQA and # in selected columns\n",
    "# ~ returns the opposite of the search\n",
    "dfcao = dfcao[~dfcao['2021Points'].str.contains(\"AQA\", na=False)]\n",
    "dfcao = dfcao[~dfcao['2020Points'].str.contains(\"AQA\", na=False)]\n",
    "dfcao = dfcao[~dfcao['2019Points'].str.contains(\"AQA\", na=False)]\n",
    "\n",
    "dfcao = dfcao[~dfcao['2021Points'].str.contains(\"#\", na=False)]\n",
    "dfcao = dfcao[~dfcao['2020Points'].str.contains(\"#\", na=False)]\n",
    "dfcao = dfcao[~dfcao['2019Points'].str.contains(\"#\", na=False)]"
   ]
  },
  {
   "cell_type": "code",
   "execution_count": 54,
   "metadata": {},
   "outputs": [
    {
     "data": {
      "text/plain": [
       "Code             936\n",
       "Title_x          936\n",
       "2021Points       936\n",
       "2021MidPoints    936\n",
       "2021Level        936\n",
       "Title_y          936\n",
       "2020Points       936\n",
       "2020MidPoints    936\n",
       "2020Level        936\n",
       "Title            936\n",
       "2019Points       936\n",
       "2019MidPoints    936\n",
       "2019Level        936\n",
       "dtype: int64"
      ]
     },
     "execution_count": 54,
     "metadata": {},
     "output_type": "execute_result"
    }
   ],
   "source": [
    "dfcao.count()"
   ]
  },
  {
   "cell_type": "code",
   "execution_count": 55,
   "metadata": {},
   "outputs": [],
   "source": [
    "# Drop unneded titles\n",
    "dfcao = dfcao.drop([\"Title_y\", \"Title\"], axis = 1)"
   ]
  },
  {
   "cell_type": "code",
   "execution_count": 56,
   "metadata": {},
   "outputs": [
    {
     "data": {
      "text/html": [
       "<div>\n",
       "<style scoped>\n",
       "    .dataframe tbody tr th:only-of-type {\n",
       "        vertical-align: middle;\n",
       "    }\n",
       "\n",
       "    .dataframe tbody tr th {\n",
       "        vertical-align: top;\n",
       "    }\n",
       "\n",
       "    .dataframe thead th {\n",
       "        text-align: right;\n",
       "    }\n",
       "</style>\n",
       "<table border=\"1\" class=\"dataframe\">\n",
       "  <thead>\n",
       "    <tr style=\"text-align: right;\">\n",
       "      <th></th>\n",
       "      <th>Code</th>\n",
       "      <th>Title_x</th>\n",
       "      <th>2021Points</th>\n",
       "      <th>2021MidPoints</th>\n",
       "      <th>2021Level</th>\n",
       "      <th>2020Points</th>\n",
       "      <th>2020MidPoints</th>\n",
       "      <th>2020Level</th>\n",
       "      <th>2019Points</th>\n",
       "      <th>2019MidPoints</th>\n",
       "      <th>2019Level</th>\n",
       "    </tr>\n",
       "  </thead>\n",
       "  <tbody>\n",
       "    <tr>\n",
       "      <th>1</th>\n",
       "      <td>AL630</td>\n",
       "      <td>Pharmacy Technician</td>\n",
       "      <td>308</td>\n",
       "      <td>409</td>\n",
       "      <td>6.0</td>\n",
       "      <td>295</td>\n",
       "      <td>379</td>\n",
       "      <td>6.0</td>\n",
       "      <td>306</td>\n",
       "      <td>366.0</td>\n",
       "      <td>6/7</td>\n",
       "    </tr>\n",
       "    <tr>\n",
       "      <th>2</th>\n",
       "      <td>AL631</td>\n",
       "      <td>Dental Nursing</td>\n",
       "      <td>311</td>\n",
       "      <td>400</td>\n",
       "      <td>6.0</td>\n",
       "      <td>298</td>\n",
       "      <td>388</td>\n",
       "      <td>6.0</td>\n",
       "      <td>326</td>\n",
       "      <td>379.0</td>\n",
       "      <td>6/7</td>\n",
       "    </tr>\n",
       "    <tr>\n",
       "      <th>3</th>\n",
       "      <td>AL632</td>\n",
       "      <td>Applied Science</td>\n",
       "      <td>297</td>\n",
       "      <td>454</td>\n",
       "      <td>6.0</td>\n",
       "      <td>234</td>\n",
       "      <td>434</td>\n",
       "      <td>6.0</td>\n",
       "      <td>243</td>\n",
       "      <td>372.0</td>\n",
       "      <td>6/7</td>\n",
       "    </tr>\n",
       "    <tr>\n",
       "      <th>8</th>\n",
       "      <td>AL701</td>\n",
       "      <td>Computer Engineering for Network Infrastructure</td>\n",
       "      <td>207</td>\n",
       "      <td>382</td>\n",
       "      <td>7.0</td>\n",
       "      <td>216</td>\n",
       "      <td>337</td>\n",
       "      <td>7.0</td>\n",
       "      <td>235</td>\n",
       "      <td>310.0</td>\n",
       "      <td>6/7</td>\n",
       "    </tr>\n",
       "    <tr>\n",
       "      <th>11</th>\n",
       "      <td>AL704</td>\n",
       "      <td>Computer Engineering</td>\n",
       "      <td>210</td>\n",
       "      <td>368</td>\n",
       "      <td>7.0</td>\n",
       "      <td>204</td>\n",
       "      <td>403</td>\n",
       "      <td>7.0</td>\n",
       "      <td>205</td>\n",
       "      <td>307.0</td>\n",
       "      <td>6/7</td>\n",
       "    </tr>\n",
       "  </tbody>\n",
       "</table>\n",
       "</div>"
      ],
      "text/plain": [
       "     Code                                          Title_x 2021Points  \\\n",
       "1   AL630                              Pharmacy Technician        308   \n",
       "2   AL631                                   Dental Nursing        311   \n",
       "3   AL632                                  Applied Science        297   \n",
       "8   AL701  Computer Engineering for Network Infrastructure        207   \n",
       "11  AL704                             Computer Engineering        210   \n",
       "\n",
       "   2021MidPoints  2021Level 2020Points 2020MidPoints  2020Level 2019Points  \\\n",
       "1            409        6.0        295           379        6.0        306   \n",
       "2            400        6.0        298           388        6.0        326   \n",
       "3            454        6.0        234           434        6.0        243   \n",
       "8            382        7.0        216           337        7.0        235   \n",
       "11           368        7.0        204           403        7.0        205   \n",
       "\n",
       "    2019MidPoints 2019Level  \n",
       "1           366.0       6/7  \n",
       "2           379.0       6/7  \n",
       "3           372.0       6/7  \n",
       "8           310.0       6/7  \n",
       "11          307.0       6/7  "
      ]
     },
     "execution_count": 56,
     "metadata": {},
     "output_type": "execute_result"
    }
   ],
   "source": [
    "dfcao.head()"
   ]
  },
  {
   "cell_type": "code",
   "execution_count": 57,
   "metadata": {},
   "outputs": [],
   "source": [
    " #Enabling this option allows for a scan of all rows in dataframe\n",
    " #pd.options.display.max_rows = None"
   ]
  },
  {
   "cell_type": "code",
   "execution_count": 58,
   "metadata": {},
   "outputs": [
    {
     "data": {
      "text/html": [
       "<div>\n",
       "<style scoped>\n",
       "    .dataframe tbody tr th:only-of-type {\n",
       "        vertical-align: middle;\n",
       "    }\n",
       "\n",
       "    .dataframe tbody tr th {\n",
       "        vertical-align: top;\n",
       "    }\n",
       "\n",
       "    .dataframe thead th {\n",
       "        text-align: right;\n",
       "    }\n",
       "</style>\n",
       "<table border=\"1\" class=\"dataframe\">\n",
       "  <thead>\n",
       "    <tr style=\"text-align: right;\">\n",
       "      <th></th>\n",
       "      <th>Code</th>\n",
       "      <th>Title_x</th>\n",
       "      <th>2021Points</th>\n",
       "      <th>2021MidPoints</th>\n",
       "      <th>2021Level</th>\n",
       "      <th>2020Points</th>\n",
       "      <th>2020MidPoints</th>\n",
       "      <th>2020Level</th>\n",
       "      <th>2019Points</th>\n",
       "      <th>2019MidPoints</th>\n",
       "      <th>2019Level</th>\n",
       "    </tr>\n",
       "  </thead>\n",
       "  <tbody>\n",
       "  </tbody>\n",
       "</table>\n",
       "</div>"
      ],
      "text/plain": [
       "Empty DataFrame\n",
       "Columns: [Code, Title_x, 2021Points, 2021MidPoints, 2021Level, 2020Points, 2020MidPoints, 2020Level, 2019Points, 2019MidPoints, 2019Level]\n",
       "Index: []"
      ]
     },
     "execution_count": 58,
     "metadata": {},
     "output_type": "execute_result"
    }
   ],
   "source": [
    "# Check for different levels in courses across years\n",
    "dfcao.loc[(dfcao[\"2021Level\"] == 8.0) & (dfcao[\"2020Level\"] != 8.0)]"
   ]
  },
  {
   "cell_type": "code",
   "execution_count": 59,
   "metadata": {},
   "outputs": [
    {
     "data": {
      "text/html": [
       "<div>\n",
       "<style scoped>\n",
       "    .dataframe tbody tr th:only-of-type {\n",
       "        vertical-align: middle;\n",
       "    }\n",
       "\n",
       "    .dataframe tbody tr th {\n",
       "        vertical-align: top;\n",
       "    }\n",
       "\n",
       "    .dataframe thead th {\n",
       "        text-align: right;\n",
       "    }\n",
       "</style>\n",
       "<table border=\"1\" class=\"dataframe\">\n",
       "  <thead>\n",
       "    <tr style=\"text-align: right;\">\n",
       "      <th></th>\n",
       "      <th>Code</th>\n",
       "      <th>Title_x</th>\n",
       "      <th>2021Points</th>\n",
       "      <th>2021MidPoints</th>\n",
       "      <th>2021Level</th>\n",
       "      <th>2020Points</th>\n",
       "      <th>2020MidPoints</th>\n",
       "      <th>2020Level</th>\n",
       "      <th>2019Points</th>\n",
       "      <th>2019MidPoints</th>\n",
       "      <th>2019Level</th>\n",
       "    </tr>\n",
       "  </thead>\n",
       "  <tbody>\n",
       "  </tbody>\n",
       "</table>\n",
       "</div>"
      ],
      "text/plain": [
       "Empty DataFrame\n",
       "Columns: [Code, Title_x, 2021Points, 2021MidPoints, 2021Level, 2020Points, 2020MidPoints, 2020Level, 2019Points, 2019MidPoints, 2019Level]\n",
       "Index: []"
      ]
     },
     "execution_count": 59,
     "metadata": {},
     "output_type": "execute_result"
    }
   ],
   "source": [
    "dfcao.loc[(dfcao[\"2021Level\"] == 8.0) & (dfcao[\"2019Level\"] != \"8\")]"
   ]
  },
  {
   "cell_type": "code",
   "execution_count": 60,
   "metadata": {},
   "outputs": [
    {
     "data": {
      "text/html": [
       "<div>\n",
       "<style scoped>\n",
       "    .dataframe tbody tr th:only-of-type {\n",
       "        vertical-align: middle;\n",
       "    }\n",
       "\n",
       "    .dataframe tbody tr th {\n",
       "        vertical-align: top;\n",
       "    }\n",
       "\n",
       "    .dataframe thead th {\n",
       "        text-align: right;\n",
       "    }\n",
       "</style>\n",
       "<table border=\"1\" class=\"dataframe\">\n",
       "  <thead>\n",
       "    <tr style=\"text-align: right;\">\n",
       "      <th></th>\n",
       "      <th>Code</th>\n",
       "      <th>Title_x</th>\n",
       "      <th>2021Points</th>\n",
       "      <th>2021MidPoints</th>\n",
       "      <th>2021Level</th>\n",
       "      <th>2020Points</th>\n",
       "      <th>2020MidPoints</th>\n",
       "      <th>2020Level</th>\n",
       "      <th>2019Points</th>\n",
       "      <th>2019MidPoints</th>\n",
       "      <th>2019Level</th>\n",
       "    </tr>\n",
       "  </thead>\n",
       "  <tbody>\n",
       "  </tbody>\n",
       "</table>\n",
       "</div>"
      ],
      "text/plain": [
       "Empty DataFrame\n",
       "Columns: [Code, Title_x, 2021Points, 2021MidPoints, 2021Level, 2020Points, 2020MidPoints, 2020Level, 2019Points, 2019MidPoints, 2019Level]\n",
       "Index: []"
      ]
     },
     "execution_count": 60,
     "metadata": {},
     "output_type": "execute_result"
    }
   ],
   "source": [
    "dfcao.loc[(dfcao[\"2021Level\"] == 7.0) & (dfcao[\"2020Level\"] != 7.0)]"
   ]
  },
  {
   "cell_type": "code",
   "execution_count": 61,
   "metadata": {},
   "outputs": [
    {
     "data": {
      "text/html": [
       "<div>\n",
       "<style scoped>\n",
       "    .dataframe tbody tr th:only-of-type {\n",
       "        vertical-align: middle;\n",
       "    }\n",
       "\n",
       "    .dataframe tbody tr th {\n",
       "        vertical-align: top;\n",
       "    }\n",
       "\n",
       "    .dataframe thead th {\n",
       "        text-align: right;\n",
       "    }\n",
       "</style>\n",
       "<table border=\"1\" class=\"dataframe\">\n",
       "  <thead>\n",
       "    <tr style=\"text-align: right;\">\n",
       "      <th></th>\n",
       "      <th>Code</th>\n",
       "      <th>Title_x</th>\n",
       "      <th>2021Points</th>\n",
       "      <th>2021MidPoints</th>\n",
       "      <th>2021Level</th>\n",
       "      <th>2020Points</th>\n",
       "      <th>2020MidPoints</th>\n",
       "      <th>2020Level</th>\n",
       "      <th>2019Points</th>\n",
       "      <th>2019MidPoints</th>\n",
       "      <th>2019Level</th>\n",
       "    </tr>\n",
       "  </thead>\n",
       "  <tbody>\n",
       "  </tbody>\n",
       "</table>\n",
       "</div>"
      ],
      "text/plain": [
       "Empty DataFrame\n",
       "Columns: [Code, Title_x, 2021Points, 2021MidPoints, 2021Level, 2020Points, 2020MidPoints, 2020Level, 2019Points, 2019MidPoints, 2019Level]\n",
       "Index: []"
      ]
     },
     "execution_count": 61,
     "metadata": {},
     "output_type": "execute_result"
    }
   ],
   "source": [
    "dfcao.loc[(dfcao[\"2021Level\"] == 6.0) & (dfcao[\"2020Level\"] != 6.0)]"
   ]
  },
  {
   "cell_type": "code",
   "execution_count": 62,
   "metadata": {},
   "outputs": [
    {
     "data": {
      "text/html": [
       "<div>\n",
       "<style scoped>\n",
       "    .dataframe tbody tr th:only-of-type {\n",
       "        vertical-align: middle;\n",
       "    }\n",
       "\n",
       "    .dataframe tbody tr th {\n",
       "        vertical-align: top;\n",
       "    }\n",
       "\n",
       "    .dataframe thead th {\n",
       "        text-align: right;\n",
       "    }\n",
       "</style>\n",
       "<table border=\"1\" class=\"dataframe\">\n",
       "  <thead>\n",
       "    <tr style=\"text-align: right;\">\n",
       "      <th></th>\n",
       "      <th>Code</th>\n",
       "      <th>Title_x</th>\n",
       "      <th>2021Points</th>\n",
       "      <th>2021MidPoints</th>\n",
       "      <th>2021Level</th>\n",
       "      <th>2020Points</th>\n",
       "      <th>2020MidPoints</th>\n",
       "      <th>2020Level</th>\n",
       "      <th>2019Points</th>\n",
       "      <th>2019MidPoints</th>\n",
       "      <th>2019Level</th>\n",
       "    </tr>\n",
       "  </thead>\n",
       "  <tbody>\n",
       "  </tbody>\n",
       "</table>\n",
       "</div>"
      ],
      "text/plain": [
       "Empty DataFrame\n",
       "Columns: [Code, Title_x, 2021Points, 2021MidPoints, 2021Level, 2020Points, 2020MidPoints, 2020Level, 2019Points, 2019MidPoints, 2019Level]\n",
       "Index: []"
      ]
     },
     "execution_count": 62,
     "metadata": {},
     "output_type": "execute_result"
    }
   ],
   "source": [
    "dfcao.loc[(dfcao[\"2021Level\"] == 7.0) & (dfcao[\"2019Level\"] != \"6/7\")]"
   ]
  },
  {
   "cell_type": "code",
   "execution_count": 63,
   "metadata": {},
   "outputs": [
    {
     "data": {
      "text/html": [
       "<div>\n",
       "<style scoped>\n",
       "    .dataframe tbody tr th:only-of-type {\n",
       "        vertical-align: middle;\n",
       "    }\n",
       "\n",
       "    .dataframe tbody tr th {\n",
       "        vertical-align: top;\n",
       "    }\n",
       "\n",
       "    .dataframe thead th {\n",
       "        text-align: right;\n",
       "    }\n",
       "</style>\n",
       "<table border=\"1\" class=\"dataframe\">\n",
       "  <thead>\n",
       "    <tr style=\"text-align: right;\">\n",
       "      <th></th>\n",
       "      <th>Code</th>\n",
       "      <th>Title_x</th>\n",
       "      <th>2021Points</th>\n",
       "      <th>2021MidPoints</th>\n",
       "      <th>2021Level</th>\n",
       "      <th>2020Points</th>\n",
       "      <th>2020MidPoints</th>\n",
       "      <th>2020Level</th>\n",
       "      <th>2019Points</th>\n",
       "      <th>2019MidPoints</th>\n",
       "      <th>2019Level</th>\n",
       "    </tr>\n",
       "  </thead>\n",
       "  <tbody>\n",
       "  </tbody>\n",
       "</table>\n",
       "</div>"
      ],
      "text/plain": [
       "Empty DataFrame\n",
       "Columns: [Code, Title_x, 2021Points, 2021MidPoints, 2021Level, 2020Points, 2020MidPoints, 2020Level, 2019Points, 2019MidPoints, 2019Level]\n",
       "Index: []"
      ]
     },
     "execution_count": 63,
     "metadata": {},
     "output_type": "execute_result"
    }
   ],
   "source": [
    "dfcao.loc[(dfcao[\"2021Level\"] == 6.0) & (dfcao[\"2019Level\"] != \"6/7\")]"
   ]
  },
  {
   "cell_type": "markdown",
   "metadata": {},
   "source": [
    "Because all course levels are the same across the years, we can remove the 2020 and 2019 levels."
   ]
  },
  {
   "cell_type": "code",
   "execution_count": 64,
   "metadata": {},
   "outputs": [],
   "source": [
    "#Remove 2020 and 2019 levels\n",
    "dfcao = dfcao.drop([\"2020Level\", \"2019Level\"], axis = 1)"
   ]
  },
  {
   "cell_type": "code",
   "execution_count": 65,
   "metadata": {},
   "outputs": [
    {
     "data": {
      "text/html": [
       "<div>\n",
       "<style scoped>\n",
       "    .dataframe tbody tr th:only-of-type {\n",
       "        vertical-align: middle;\n",
       "    }\n",
       "\n",
       "    .dataframe tbody tr th {\n",
       "        vertical-align: top;\n",
       "    }\n",
       "\n",
       "    .dataframe thead th {\n",
       "        text-align: right;\n",
       "    }\n",
       "</style>\n",
       "<table border=\"1\" class=\"dataframe\">\n",
       "  <thead>\n",
       "    <tr style=\"text-align: right;\">\n",
       "      <th></th>\n",
       "      <th>Code</th>\n",
       "      <th>Title_x</th>\n",
       "      <th>2021Points</th>\n",
       "      <th>2021MidPoints</th>\n",
       "      <th>2021Level</th>\n",
       "      <th>2020Points</th>\n",
       "      <th>2020MidPoints</th>\n",
       "      <th>2019Points</th>\n",
       "      <th>2019MidPoints</th>\n",
       "    </tr>\n",
       "  </thead>\n",
       "  <tbody>\n",
       "    <tr>\n",
       "      <th>1</th>\n",
       "      <td>AL630</td>\n",
       "      <td>Pharmacy Technician</td>\n",
       "      <td>308</td>\n",
       "      <td>409</td>\n",
       "      <td>6.0</td>\n",
       "      <td>295</td>\n",
       "      <td>379</td>\n",
       "      <td>306</td>\n",
       "      <td>366.0</td>\n",
       "    </tr>\n",
       "    <tr>\n",
       "      <th>2</th>\n",
       "      <td>AL631</td>\n",
       "      <td>Dental Nursing</td>\n",
       "      <td>311</td>\n",
       "      <td>400</td>\n",
       "      <td>6.0</td>\n",
       "      <td>298</td>\n",
       "      <td>388</td>\n",
       "      <td>326</td>\n",
       "      <td>379.0</td>\n",
       "    </tr>\n",
       "    <tr>\n",
       "      <th>3</th>\n",
       "      <td>AL632</td>\n",
       "      <td>Applied Science</td>\n",
       "      <td>297</td>\n",
       "      <td>454</td>\n",
       "      <td>6.0</td>\n",
       "      <td>234</td>\n",
       "      <td>434</td>\n",
       "      <td>243</td>\n",
       "      <td>372.0</td>\n",
       "    </tr>\n",
       "    <tr>\n",
       "      <th>8</th>\n",
       "      <td>AL701</td>\n",
       "      <td>Computer Engineering for Network Infrastructure</td>\n",
       "      <td>207</td>\n",
       "      <td>382</td>\n",
       "      <td>7.0</td>\n",
       "      <td>216</td>\n",
       "      <td>337</td>\n",
       "      <td>235</td>\n",
       "      <td>310.0</td>\n",
       "    </tr>\n",
       "    <tr>\n",
       "      <th>11</th>\n",
       "      <td>AL704</td>\n",
       "      <td>Computer Engineering</td>\n",
       "      <td>210</td>\n",
       "      <td>368</td>\n",
       "      <td>7.0</td>\n",
       "      <td>204</td>\n",
       "      <td>403</td>\n",
       "      <td>205</td>\n",
       "      <td>307.0</td>\n",
       "    </tr>\n",
       "  </tbody>\n",
       "</table>\n",
       "</div>"
      ],
      "text/plain": [
       "     Code                                          Title_x 2021Points  \\\n",
       "1   AL630                              Pharmacy Technician        308   \n",
       "2   AL631                                   Dental Nursing        311   \n",
       "3   AL632                                  Applied Science        297   \n",
       "8   AL701  Computer Engineering for Network Infrastructure        207   \n",
       "11  AL704                             Computer Engineering        210   \n",
       "\n",
       "   2021MidPoints  2021Level 2020Points 2020MidPoints 2019Points  2019MidPoints  \n",
       "1            409        6.0        295           379        306          366.0  \n",
       "2            400        6.0        298           388        326          379.0  \n",
       "3            454        6.0        234           434        243          372.0  \n",
       "8            382        7.0        216           337        235          310.0  \n",
       "11           368        7.0        204           403        205          307.0  "
      ]
     },
     "execution_count": 65,
     "metadata": {},
     "output_type": "execute_result"
    }
   ],
   "source": [
    "dfcao.head()"
   ]
  },
  {
   "cell_type": "code",
   "execution_count": 66,
   "metadata": {},
   "outputs": [],
   "source": [
    "# Rename title and level columns\n",
    "dfcao = dfcao.rename(columns = {\"Title_x\": \"Title\", \"2021Level\": \"Level\"})"
   ]
  },
  {
   "cell_type": "code",
   "execution_count": 67,
   "metadata": {},
   "outputs": [
    {
     "data": {
      "text/html": [
       "<div>\n",
       "<style scoped>\n",
       "    .dataframe tbody tr th:only-of-type {\n",
       "        vertical-align: middle;\n",
       "    }\n",
       "\n",
       "    .dataframe tbody tr th {\n",
       "        vertical-align: top;\n",
       "    }\n",
       "\n",
       "    .dataframe thead th {\n",
       "        text-align: right;\n",
       "    }\n",
       "</style>\n",
       "<table border=\"1\" class=\"dataframe\">\n",
       "  <thead>\n",
       "    <tr style=\"text-align: right;\">\n",
       "      <th></th>\n",
       "      <th>Code</th>\n",
       "      <th>Title</th>\n",
       "      <th>2021Points</th>\n",
       "      <th>2021MidPoints</th>\n",
       "      <th>Level</th>\n",
       "      <th>2020Points</th>\n",
       "      <th>2020MidPoints</th>\n",
       "      <th>2019Points</th>\n",
       "      <th>2019MidPoints</th>\n",
       "    </tr>\n",
       "  </thead>\n",
       "  <tbody>\n",
       "    <tr>\n",
       "      <th>1</th>\n",
       "      <td>AL630</td>\n",
       "      <td>Pharmacy Technician</td>\n",
       "      <td>308</td>\n",
       "      <td>409</td>\n",
       "      <td>6.0</td>\n",
       "      <td>295</td>\n",
       "      <td>379</td>\n",
       "      <td>306</td>\n",
       "      <td>366.0</td>\n",
       "    </tr>\n",
       "    <tr>\n",
       "      <th>2</th>\n",
       "      <td>AL631</td>\n",
       "      <td>Dental Nursing</td>\n",
       "      <td>311</td>\n",
       "      <td>400</td>\n",
       "      <td>6.0</td>\n",
       "      <td>298</td>\n",
       "      <td>388</td>\n",
       "      <td>326</td>\n",
       "      <td>379.0</td>\n",
       "    </tr>\n",
       "    <tr>\n",
       "      <th>3</th>\n",
       "      <td>AL632</td>\n",
       "      <td>Applied Science</td>\n",
       "      <td>297</td>\n",
       "      <td>454</td>\n",
       "      <td>6.0</td>\n",
       "      <td>234</td>\n",
       "      <td>434</td>\n",
       "      <td>243</td>\n",
       "      <td>372.0</td>\n",
       "    </tr>\n",
       "    <tr>\n",
       "      <th>8</th>\n",
       "      <td>AL701</td>\n",
       "      <td>Computer Engineering for Network Infrastructure</td>\n",
       "      <td>207</td>\n",
       "      <td>382</td>\n",
       "      <td>7.0</td>\n",
       "      <td>216</td>\n",
       "      <td>337</td>\n",
       "      <td>235</td>\n",
       "      <td>310.0</td>\n",
       "    </tr>\n",
       "    <tr>\n",
       "      <th>11</th>\n",
       "      <td>AL704</td>\n",
       "      <td>Computer Engineering</td>\n",
       "      <td>210</td>\n",
       "      <td>368</td>\n",
       "      <td>7.0</td>\n",
       "      <td>204</td>\n",
       "      <td>403</td>\n",
       "      <td>205</td>\n",
       "      <td>307.0</td>\n",
       "    </tr>\n",
       "  </tbody>\n",
       "</table>\n",
       "</div>"
      ],
      "text/plain": [
       "     Code                                            Title 2021Points  \\\n",
       "1   AL630                              Pharmacy Technician        308   \n",
       "2   AL631                                   Dental Nursing        311   \n",
       "3   AL632                                  Applied Science        297   \n",
       "8   AL701  Computer Engineering for Network Infrastructure        207   \n",
       "11  AL704                             Computer Engineering        210   \n",
       "\n",
       "   2021MidPoints  Level 2020Points 2020MidPoints 2019Points  2019MidPoints  \n",
       "1            409    6.0        295           379        306          366.0  \n",
       "2            400    6.0        298           388        326          379.0  \n",
       "3            454    6.0        234           434        243          372.0  \n",
       "8            382    7.0        216           337        235          310.0  \n",
       "11           368    7.0        204           403        205          307.0  "
      ]
     },
     "execution_count": 67,
     "metadata": {},
     "output_type": "execute_result"
    }
   ],
   "source": [
    "dfcao.head()"
   ]
  },
  {
   "cell_type": "code",
   "execution_count": 68,
   "metadata": {},
   "outputs": [],
   "source": [
    "# Rearrange columns\n",
    "dfcao = dfcao[[\"Code\", \"Title\",\"Level\",\"2021Points\",\"2021MidPoints\",\"2020Points\",\"2020MidPoints\",\"2019Points\",\"2019MidPoints\"]]"
   ]
  },
  {
   "cell_type": "code",
   "execution_count": 69,
   "metadata": {},
   "outputs": [
    {
     "data": {
      "text/html": [
       "<div>\n",
       "<style scoped>\n",
       "    .dataframe tbody tr th:only-of-type {\n",
       "        vertical-align: middle;\n",
       "    }\n",
       "\n",
       "    .dataframe tbody tr th {\n",
       "        vertical-align: top;\n",
       "    }\n",
       "\n",
       "    .dataframe thead th {\n",
       "        text-align: right;\n",
       "    }\n",
       "</style>\n",
       "<table border=\"1\" class=\"dataframe\">\n",
       "  <thead>\n",
       "    <tr style=\"text-align: right;\">\n",
       "      <th></th>\n",
       "      <th>Code</th>\n",
       "      <th>Title</th>\n",
       "      <th>Level</th>\n",
       "      <th>2021Points</th>\n",
       "      <th>2021MidPoints</th>\n",
       "      <th>2020Points</th>\n",
       "      <th>2020MidPoints</th>\n",
       "      <th>2019Points</th>\n",
       "      <th>2019MidPoints</th>\n",
       "    </tr>\n",
       "  </thead>\n",
       "  <tbody>\n",
       "    <tr>\n",
       "      <th>1</th>\n",
       "      <td>AL630</td>\n",
       "      <td>Pharmacy Technician</td>\n",
       "      <td>6.0</td>\n",
       "      <td>308</td>\n",
       "      <td>409</td>\n",
       "      <td>295</td>\n",
       "      <td>379</td>\n",
       "      <td>306</td>\n",
       "      <td>366.0</td>\n",
       "    </tr>\n",
       "    <tr>\n",
       "      <th>2</th>\n",
       "      <td>AL631</td>\n",
       "      <td>Dental Nursing</td>\n",
       "      <td>6.0</td>\n",
       "      <td>311</td>\n",
       "      <td>400</td>\n",
       "      <td>298</td>\n",
       "      <td>388</td>\n",
       "      <td>326</td>\n",
       "      <td>379.0</td>\n",
       "    </tr>\n",
       "    <tr>\n",
       "      <th>3</th>\n",
       "      <td>AL632</td>\n",
       "      <td>Applied Science</td>\n",
       "      <td>6.0</td>\n",
       "      <td>297</td>\n",
       "      <td>454</td>\n",
       "      <td>234</td>\n",
       "      <td>434</td>\n",
       "      <td>243</td>\n",
       "      <td>372.0</td>\n",
       "    </tr>\n",
       "    <tr>\n",
       "      <th>8</th>\n",
       "      <td>AL701</td>\n",
       "      <td>Computer Engineering for Network Infrastructure</td>\n",
       "      <td>7.0</td>\n",
       "      <td>207</td>\n",
       "      <td>382</td>\n",
       "      <td>216</td>\n",
       "      <td>337</td>\n",
       "      <td>235</td>\n",
       "      <td>310.0</td>\n",
       "    </tr>\n",
       "    <tr>\n",
       "      <th>11</th>\n",
       "      <td>AL704</td>\n",
       "      <td>Computer Engineering</td>\n",
       "      <td>7.0</td>\n",
       "      <td>210</td>\n",
       "      <td>368</td>\n",
       "      <td>204</td>\n",
       "      <td>403</td>\n",
       "      <td>205</td>\n",
       "      <td>307.0</td>\n",
       "    </tr>\n",
       "  </tbody>\n",
       "</table>\n",
       "</div>"
      ],
      "text/plain": [
       "     Code                                            Title  Level 2021Points  \\\n",
       "1   AL630                              Pharmacy Technician    6.0        308   \n",
       "2   AL631                                   Dental Nursing    6.0        311   \n",
       "3   AL632                                  Applied Science    6.0        297   \n",
       "8   AL701  Computer Engineering for Network Infrastructure    7.0        207   \n",
       "11  AL704                             Computer Engineering    7.0        210   \n",
       "\n",
       "   2021MidPoints 2020Points 2020MidPoints 2019Points  2019MidPoints  \n",
       "1            409        295           379        306          366.0  \n",
       "2            400        298           388        326          379.0  \n",
       "3            454        234           434        243          372.0  \n",
       "8            382        216           337        235          310.0  \n",
       "11           368        204           403        205          307.0  "
      ]
     },
     "execution_count": 69,
     "metadata": {},
     "output_type": "execute_result"
    }
   ],
   "source": [
    "dfcao.head()"
   ]
  },
  {
   "cell_type": "code",
   "execution_count": 70,
   "metadata": {},
   "outputs": [],
   "source": [
    "# Convert 2019 Points to string before removing * (* means not all points got on course)\n",
    "dfcao[\"2019Points\"] = dfcao[\"2019Points\"].astype(str)\n",
    "dfcao['2019Points'] = dfcao['2019Points'].str.replace(r\"\\*\",'')"
   ]
  },
  {
   "cell_type": "code",
   "execution_count": 71,
   "metadata": {},
   "outputs": [
    {
     "data": {
      "text/html": [
       "<div>\n",
       "<style scoped>\n",
       "    .dataframe tbody tr th:only-of-type {\n",
       "        vertical-align: middle;\n",
       "    }\n",
       "\n",
       "    .dataframe tbody tr th {\n",
       "        vertical-align: top;\n",
       "    }\n",
       "\n",
       "    .dataframe thead th {\n",
       "        text-align: right;\n",
       "    }\n",
       "</style>\n",
       "<table border=\"1\" class=\"dataframe\">\n",
       "  <thead>\n",
       "    <tr style=\"text-align: right;\">\n",
       "      <th></th>\n",
       "      <th>Code</th>\n",
       "      <th>Title</th>\n",
       "      <th>Level</th>\n",
       "      <th>2021Points</th>\n",
       "      <th>2021MidPoints</th>\n",
       "      <th>2020Points</th>\n",
       "      <th>2020MidPoints</th>\n",
       "      <th>2019Points</th>\n",
       "      <th>2019MidPoints</th>\n",
       "    </tr>\n",
       "  </thead>\n",
       "  <tbody>\n",
       "    <tr>\n",
       "      <th>1</th>\n",
       "      <td>AL630</td>\n",
       "      <td>Pharmacy Technician</td>\n",
       "      <td>6.0</td>\n",
       "      <td>308</td>\n",
       "      <td>409</td>\n",
       "      <td>295</td>\n",
       "      <td>379</td>\n",
       "      <td>306</td>\n",
       "      <td>366.0</td>\n",
       "    </tr>\n",
       "    <tr>\n",
       "      <th>2</th>\n",
       "      <td>AL631</td>\n",
       "      <td>Dental Nursing</td>\n",
       "      <td>6.0</td>\n",
       "      <td>311</td>\n",
       "      <td>400</td>\n",
       "      <td>298</td>\n",
       "      <td>388</td>\n",
       "      <td>326</td>\n",
       "      <td>379.0</td>\n",
       "    </tr>\n",
       "    <tr>\n",
       "      <th>3</th>\n",
       "      <td>AL632</td>\n",
       "      <td>Applied Science</td>\n",
       "      <td>6.0</td>\n",
       "      <td>297</td>\n",
       "      <td>454</td>\n",
       "      <td>234</td>\n",
       "      <td>434</td>\n",
       "      <td>243</td>\n",
       "      <td>372.0</td>\n",
       "    </tr>\n",
       "    <tr>\n",
       "      <th>8</th>\n",
       "      <td>AL701</td>\n",
       "      <td>Computer Engineering for Network Infrastructure</td>\n",
       "      <td>7.0</td>\n",
       "      <td>207</td>\n",
       "      <td>382</td>\n",
       "      <td>216</td>\n",
       "      <td>337</td>\n",
       "      <td>235</td>\n",
       "      <td>310.0</td>\n",
       "    </tr>\n",
       "    <tr>\n",
       "      <th>11</th>\n",
       "      <td>AL704</td>\n",
       "      <td>Computer Engineering</td>\n",
       "      <td>7.0</td>\n",
       "      <td>210</td>\n",
       "      <td>368</td>\n",
       "      <td>204</td>\n",
       "      <td>403</td>\n",
       "      <td>205</td>\n",
       "      <td>307.0</td>\n",
       "    </tr>\n",
       "  </tbody>\n",
       "</table>\n",
       "</div>"
      ],
      "text/plain": [
       "     Code                                            Title  Level 2021Points  \\\n",
       "1   AL630                              Pharmacy Technician    6.0        308   \n",
       "2   AL631                                   Dental Nursing    6.0        311   \n",
       "3   AL632                                  Applied Science    6.0        297   \n",
       "8   AL701  Computer Engineering for Network Infrastructure    7.0        207   \n",
       "11  AL704                             Computer Engineering    7.0        210   \n",
       "\n",
       "   2021MidPoints 2020Points 2020MidPoints 2019Points  2019MidPoints  \n",
       "1            409        295           379        306          366.0  \n",
       "2            400        298           388        326          379.0  \n",
       "3            454        234           434        243          372.0  \n",
       "8            382        216           337        235          310.0  \n",
       "11           368        204           403        205          307.0  "
      ]
     },
     "execution_count": 71,
     "metadata": {},
     "output_type": "execute_result"
    }
   ],
   "source": [
    "dfcao.head()"
   ]
  },
  {
   "cell_type": "code",
   "execution_count": 72,
   "metadata": {},
   "outputs": [],
   "source": [
    "# Convert Points columns to ints\n",
    "dfcao[\"2021Points\"] = pd.to_numeric(dfcao[\"2021Points\"])\n",
    "dfcao[\"2020Points\"] = pd.to_numeric(dfcao[\"2020Points\"])\n",
    "dfcao[\"2019Points\"] = pd.to_numeric(dfcao[\"2019Points\"])"
   ]
  },
  {
   "cell_type": "code",
   "execution_count": 73,
   "metadata": {},
   "outputs": [
    {
     "name": "stdout",
     "output_type": "stream",
     "text": [
      "                                                  Title  2021Points\n",
      "875                        Contemporary Art (portfolio)         775\n",
      "879                        Contemporary Art (portfolio)         790\n",
      "1362  Animation, Visual Effects and Motion Design (L...         718 \n",
      "\n",
      "\n",
      "                            Title  2020Points\n",
      "875  Contemporary Art (portfolio)         702\n",
      "879  Contemporary Art (portfolio)         679 \n",
      "\n",
      "\n",
      "Empty DataFrame\n",
      "Columns: [Title, 2019Points]\n",
      "Index: [] \n",
      "\n",
      "\n"
     ]
    }
   ],
   "source": [
    "print(dfcao[[\"Title\", \"2021Points\"]].loc[dfcao[\"2021Points\"] > 625], \"\\n\\n\")\n",
    "print(dfcao[[\"Title\", \"2020Points\"]].loc[dfcao[\"2020Points\"] > 625], \"\\n\\n\")\n",
    "print(dfcao[[\"Title\", \"2019Points\"]].loc[dfcao[\"2019Points\"] > 625], \"\\n\\n\")"
   ]
  },
  {
   "cell_type": "markdown",
   "metadata": {},
   "source": [
    "From the above results of points over 625, it appears that 3 courses have portfolios in their points grading but were not marked as such. These will be removed."
   ]
  },
  {
   "cell_type": "code",
   "execution_count": 74,
   "metadata": {},
   "outputs": [],
   "source": [
    "dfcao = dfcao.drop([875,879,1362])"
   ]
  },
  {
   "cell_type": "code",
   "execution_count": 75,
   "metadata": {},
   "outputs": [
    {
     "name": "stdout",
     "output_type": "stream",
     "text": [
      "Empty DataFrame\n",
      "Columns: [Title, 2021Points]\n",
      "Index: [] \n",
      "\n",
      "\n",
      "Empty DataFrame\n",
      "Columns: [Title, 2020Points]\n",
      "Index: [] \n",
      "\n",
      "\n",
      "Empty DataFrame\n",
      "Columns: [Title, 2019Points]\n",
      "Index: [] \n",
      "\n",
      "\n"
     ]
    }
   ],
   "source": [
    "print(dfcao[[\"Title\", \"2021Points\"]].loc[dfcao[\"2021Points\"] > 625], \"\\n\\n\")\n",
    "print(dfcao[[\"Title\", \"2020Points\"]].loc[dfcao[\"2020Points\"] > 625], \"\\n\\n\")\n",
    "print(dfcao[[\"Title\", \"2019Points\"]].loc[dfcao[\"2019Points\"] > 625], \"\\n\\n\")"
   ]
  },
  {
   "cell_type": "code",
   "execution_count": 76,
   "metadata": {},
   "outputs": [],
   "source": [
    "dfcao[\"2021Diff\"] = dfcao[\"2021Points\"] - dfcao[\"2020Points\"]\n",
    "dfcao[\"2020Diff\"] = dfcao[\"2020Points\"] - dfcao[\"2019Points\"]"
   ]
  },
  {
   "cell_type": "code",
   "execution_count": 77,
   "metadata": {},
   "outputs": [
    {
     "data": {
      "text/html": [
       "<div>\n",
       "<style scoped>\n",
       "    .dataframe tbody tr th:only-of-type {\n",
       "        vertical-align: middle;\n",
       "    }\n",
       "\n",
       "    .dataframe tbody tr th {\n",
       "        vertical-align: top;\n",
       "    }\n",
       "\n",
       "    .dataframe thead th {\n",
       "        text-align: right;\n",
       "    }\n",
       "</style>\n",
       "<table border=\"1\" class=\"dataframe\">\n",
       "  <thead>\n",
       "    <tr style=\"text-align: right;\">\n",
       "      <th></th>\n",
       "      <th>Code</th>\n",
       "      <th>Title</th>\n",
       "      <th>Level</th>\n",
       "      <th>2021Points</th>\n",
       "      <th>2021MidPoints</th>\n",
       "      <th>2020Points</th>\n",
       "      <th>2020MidPoints</th>\n",
       "      <th>2019Points</th>\n",
       "      <th>2019MidPoints</th>\n",
       "      <th>2021Diff</th>\n",
       "      <th>2020Diff</th>\n",
       "    </tr>\n",
       "  </thead>\n",
       "  <tbody>\n",
       "    <tr>\n",
       "      <th>1</th>\n",
       "      <td>AL630</td>\n",
       "      <td>Pharmacy Technician</td>\n",
       "      <td>6.0</td>\n",
       "      <td>308</td>\n",
       "      <td>409</td>\n",
       "      <td>295</td>\n",
       "      <td>379</td>\n",
       "      <td>306</td>\n",
       "      <td>366.0</td>\n",
       "      <td>13</td>\n",
       "      <td>-11</td>\n",
       "    </tr>\n",
       "    <tr>\n",
       "      <th>2</th>\n",
       "      <td>AL631</td>\n",
       "      <td>Dental Nursing</td>\n",
       "      <td>6.0</td>\n",
       "      <td>311</td>\n",
       "      <td>400</td>\n",
       "      <td>298</td>\n",
       "      <td>388</td>\n",
       "      <td>326</td>\n",
       "      <td>379.0</td>\n",
       "      <td>13</td>\n",
       "      <td>-28</td>\n",
       "    </tr>\n",
       "    <tr>\n",
       "      <th>3</th>\n",
       "      <td>AL632</td>\n",
       "      <td>Applied Science</td>\n",
       "      <td>6.0</td>\n",
       "      <td>297</td>\n",
       "      <td>454</td>\n",
       "      <td>234</td>\n",
       "      <td>434</td>\n",
       "      <td>243</td>\n",
       "      <td>372.0</td>\n",
       "      <td>63</td>\n",
       "      <td>-9</td>\n",
       "    </tr>\n",
       "    <tr>\n",
       "      <th>8</th>\n",
       "      <td>AL701</td>\n",
       "      <td>Computer Engineering for Network Infrastructure</td>\n",
       "      <td>7.0</td>\n",
       "      <td>207</td>\n",
       "      <td>382</td>\n",
       "      <td>216</td>\n",
       "      <td>337</td>\n",
       "      <td>235</td>\n",
       "      <td>310.0</td>\n",
       "      <td>-9</td>\n",
       "      <td>-19</td>\n",
       "    </tr>\n",
       "    <tr>\n",
       "      <th>11</th>\n",
       "      <td>AL704</td>\n",
       "      <td>Computer Engineering</td>\n",
       "      <td>7.0</td>\n",
       "      <td>210</td>\n",
       "      <td>368</td>\n",
       "      <td>204</td>\n",
       "      <td>403</td>\n",
       "      <td>205</td>\n",
       "      <td>307.0</td>\n",
       "      <td>6</td>\n",
       "      <td>-1</td>\n",
       "    </tr>\n",
       "  </tbody>\n",
       "</table>\n",
       "</div>"
      ],
      "text/plain": [
       "     Code                                            Title  Level  2021Points  \\\n",
       "1   AL630                              Pharmacy Technician    6.0         308   \n",
       "2   AL631                                   Dental Nursing    6.0         311   \n",
       "3   AL632                                  Applied Science    6.0         297   \n",
       "8   AL701  Computer Engineering for Network Infrastructure    7.0         207   \n",
       "11  AL704                             Computer Engineering    7.0         210   \n",
       "\n",
       "   2021MidPoints  2020Points 2020MidPoints  2019Points  2019MidPoints  \\\n",
       "1            409         295           379         306          366.0   \n",
       "2            400         298           388         326          379.0   \n",
       "3            454         234           434         243          372.0   \n",
       "8            382         216           337         235          310.0   \n",
       "11           368         204           403         205          307.0   \n",
       "\n",
       "    2021Diff  2020Diff  \n",
       "1         13       -11  \n",
       "2         13       -28  \n",
       "3         63        -9  \n",
       "8         -9       -19  \n",
       "11         6        -1  "
      ]
     },
     "execution_count": 77,
     "metadata": {},
     "output_type": "execute_result"
    }
   ],
   "source": [
    "dfcao.head()"
   ]
  },
  {
   "cell_type": "markdown",
   "metadata": {},
   "source": [
    "# Analysis of CAO Points"
   ]
  },
  {
   "cell_type": "code",
   "execution_count": 78,
   "metadata": {},
   "outputs": [
    {
     "data": {
      "text/plain": [
       "Code             933\n",
       "Title            933\n",
       "Level            933\n",
       "2021Points       933\n",
       "2021MidPoints    933\n",
       "2020Points       933\n",
       "2020MidPoints    933\n",
       "2019Points       933\n",
       "2019MidPoints    933\n",
       "2021Diff         933\n",
       "2020Diff         933\n",
       "dtype: int64"
      ]
     },
     "execution_count": 78,
     "metadata": {},
     "output_type": "execute_result"
    }
   ],
   "source": [
    "dfcao.count()"
   ]
  },
  {
   "cell_type": "markdown",
   "metadata": {},
   "source": [
    "### Total number of Courses Analysed\n",
    "In total, 933 course were analysed out of a potential 1812 courses. The majority of the courses not analysed were removed because they were not present across all 3 years. Other courses were removed due to some points data not being present or they courses requiring portfolios which data was not given for."
   ]
  },
  {
   "cell_type": "code",
   "execution_count": 79,
   "metadata": {},
   "outputs": [
    {
     "data": {
      "text/html": [
       "<div>\n",
       "<style scoped>\n",
       "    .dataframe tbody tr th:only-of-type {\n",
       "        vertical-align: middle;\n",
       "    }\n",
       "\n",
       "    .dataframe tbody tr th {\n",
       "        vertical-align: top;\n",
       "    }\n",
       "\n",
       "    .dataframe thead th {\n",
       "        text-align: right;\n",
       "    }\n",
       "</style>\n",
       "<table border=\"1\" class=\"dataframe\">\n",
       "  <thead>\n",
       "    <tr style=\"text-align: right;\">\n",
       "      <th></th>\n",
       "      <th>Level</th>\n",
       "      <th>2021Points</th>\n",
       "      <th>2020Points</th>\n",
       "      <th>2019Points</th>\n",
       "      <th>2019MidPoints</th>\n",
       "      <th>2021Diff</th>\n",
       "      <th>2020Diff</th>\n",
       "    </tr>\n",
       "  </thead>\n",
       "  <tbody>\n",
       "    <tr>\n",
       "      <th>count</th>\n",
       "      <td>933.0</td>\n",
       "      <td>933.0</td>\n",
       "      <td>933.0</td>\n",
       "      <td>933.0</td>\n",
       "      <td>933.0</td>\n",
       "      <td>933.0</td>\n",
       "      <td>933.0</td>\n",
       "    </tr>\n",
       "    <tr>\n",
       "      <th>mean</th>\n",
       "      <td>7.7</td>\n",
       "      <td>349.3</td>\n",
       "      <td>335.4</td>\n",
       "      <td>324.5</td>\n",
       "      <td>392.2</td>\n",
       "      <td>13.9</td>\n",
       "      <td>10.8</td>\n",
       "    </tr>\n",
       "    <tr>\n",
       "      <th>std</th>\n",
       "      <td>0.6</td>\n",
       "      <td>122.9</td>\n",
       "      <td>110.8</td>\n",
       "      <td>105.5</td>\n",
       "      <td>79.6</td>\n",
       "      <td>34.1</td>\n",
       "      <td>29.2</td>\n",
       "    </tr>\n",
       "    <tr>\n",
       "      <th>min</th>\n",
       "      <td>6.0</td>\n",
       "      <td>100.0</td>\n",
       "      <td>80.0</td>\n",
       "      <td>101.0</td>\n",
       "      <td>190.0</td>\n",
       "      <td>-181.0</td>\n",
       "      <td>-157.0</td>\n",
       "    </tr>\n",
       "    <tr>\n",
       "      <th>25%</th>\n",
       "      <td>7.0</td>\n",
       "      <td>260.0</td>\n",
       "      <td>252.0</td>\n",
       "      <td>249.0</td>\n",
       "      <td>330.0</td>\n",
       "      <td>-1.0</td>\n",
       "      <td>-2.0</td>\n",
       "    </tr>\n",
       "    <tr>\n",
       "      <th>50%</th>\n",
       "      <td>8.0</td>\n",
       "      <td>315.0</td>\n",
       "      <td>309.0</td>\n",
       "      <td>306.0</td>\n",
       "      <td>374.0</td>\n",
       "      <td>12.0</td>\n",
       "      <td>9.0</td>\n",
       "    </tr>\n",
       "    <tr>\n",
       "      <th>75%</th>\n",
       "      <td>8.0</td>\n",
       "      <td>444.0</td>\n",
       "      <td>419.0</td>\n",
       "      <td>401.0</td>\n",
       "      <td>445.0</td>\n",
       "      <td>32.0</td>\n",
       "      <td>25.0</td>\n",
       "    </tr>\n",
       "    <tr>\n",
       "      <th>max</th>\n",
       "      <td>8.0</td>\n",
       "      <td>625.0</td>\n",
       "      <td>613.0</td>\n",
       "      <td>601.0</td>\n",
       "      <td>613.0</td>\n",
       "      <td>238.0</td>\n",
       "      <td>188.0</td>\n",
       "    </tr>\n",
       "  </tbody>\n",
       "</table>\n",
       "</div>"
      ],
      "text/plain": [
       "       Level  2021Points  2020Points  2019Points  2019MidPoints  2021Diff  \\\n",
       "count  933.0       933.0       933.0       933.0          933.0     933.0   \n",
       "mean     7.7       349.3       335.4       324.5          392.2      13.9   \n",
       "std      0.6       122.9       110.8       105.5           79.6      34.1   \n",
       "min      6.0       100.0        80.0       101.0          190.0    -181.0   \n",
       "25%      7.0       260.0       252.0       249.0          330.0      -1.0   \n",
       "50%      8.0       315.0       309.0       306.0          374.0      12.0   \n",
       "75%      8.0       444.0       419.0       401.0          445.0      32.0   \n",
       "max      8.0       625.0       613.0       601.0          613.0     238.0   \n",
       "\n",
       "       2020Diff  \n",
       "count     933.0  \n",
       "mean       10.8  \n",
       "std        29.2  \n",
       "min      -157.0  \n",
       "25%        -2.0  \n",
       "50%         9.0  \n",
       "75%        25.0  \n",
       "max       188.0  "
      ]
     },
     "execution_count": 79,
     "metadata": {},
     "output_type": "execute_result"
    }
   ],
   "source": [
    "dfcao.describe().round(1)"
   ]
  },
  {
   "cell_type": "code",
   "execution_count": 80,
   "metadata": {},
   "outputs": [],
   "source": [
    "# Separate courses by level\n",
    "dfcaoL6 = dfcao.loc[dfcao[\"Level\"] == 6]\n",
    "dfcaoL7 = dfcao.loc[dfcao[\"Level\"] == 7]\n",
    "dfcaoL8 = dfcao.loc[dfcao[\"Level\"] == 8]"
   ]
  },
  {
   "cell_type": "code",
   "execution_count": 81,
   "metadata": {},
   "outputs": [
    {
     "data": {
      "text/html": [
       "<div>\n",
       "<style scoped>\n",
       "    .dataframe tbody tr th:only-of-type {\n",
       "        vertical-align: middle;\n",
       "    }\n",
       "\n",
       "    .dataframe tbody tr th {\n",
       "        vertical-align: top;\n",
       "    }\n",
       "\n",
       "    .dataframe thead th {\n",
       "        text-align: right;\n",
       "    }\n",
       "</style>\n",
       "<table border=\"1\" class=\"dataframe\">\n",
       "  <thead>\n",
       "    <tr style=\"text-align: right;\">\n",
       "      <th></th>\n",
       "      <th>Level</th>\n",
       "      <th>2021Points</th>\n",
       "      <th>2020Points</th>\n",
       "      <th>2019Points</th>\n",
       "      <th>2019MidPoints</th>\n",
       "      <th>2021Diff</th>\n",
       "      <th>2020Diff</th>\n",
       "    </tr>\n",
       "  </thead>\n",
       "  <tbody>\n",
       "    <tr>\n",
       "      <th>count</th>\n",
       "      <td>663.0</td>\n",
       "      <td>663.0</td>\n",
       "      <td>663.0</td>\n",
       "      <td>663.0</td>\n",
       "      <td>663.0</td>\n",
       "      <td>663.0</td>\n",
       "      <td>663.0</td>\n",
       "    </tr>\n",
       "    <tr>\n",
       "      <th>mean</th>\n",
       "      <td>8.0</td>\n",
       "      <td>394.5</td>\n",
       "      <td>377.7</td>\n",
       "      <td>365.9</td>\n",
       "      <td>410.1</td>\n",
       "      <td>16.8</td>\n",
       "      <td>11.8</td>\n",
       "    </tr>\n",
       "    <tr>\n",
       "      <th>std</th>\n",
       "      <td>0.0</td>\n",
       "      <td>110.7</td>\n",
       "      <td>98.8</td>\n",
       "      <td>91.4</td>\n",
       "      <td>81.4</td>\n",
       "      <td>30.2</td>\n",
       "      <td>25.8</td>\n",
       "    </tr>\n",
       "    <tr>\n",
       "      <th>min</th>\n",
       "      <td>8.0</td>\n",
       "      <td>176.0</td>\n",
       "      <td>195.0</td>\n",
       "      <td>168.0</td>\n",
       "      <td>262.0</td>\n",
       "      <td>-181.0</td>\n",
       "      <td>-99.0</td>\n",
       "    </tr>\n",
       "    <tr>\n",
       "      <th>25%</th>\n",
       "      <td>8.0</td>\n",
       "      <td>301.0</td>\n",
       "      <td>300.0</td>\n",
       "      <td>298.0</td>\n",
       "      <td>346.0</td>\n",
       "      <td>0.0</td>\n",
       "      <td>0.0</td>\n",
       "    </tr>\n",
       "    <tr>\n",
       "      <th>50%</th>\n",
       "      <td>8.0</td>\n",
       "      <td>384.0</td>\n",
       "      <td>363.0</td>\n",
       "      <td>349.0</td>\n",
       "      <td>393.0</td>\n",
       "      <td>18.0</td>\n",
       "      <td>11.0</td>\n",
       "    </tr>\n",
       "    <tr>\n",
       "      <th>75%</th>\n",
       "      <td>8.0</td>\n",
       "      <td>488.0</td>\n",
       "      <td>454.5</td>\n",
       "      <td>434.0</td>\n",
       "      <td>476.0</td>\n",
       "      <td>34.0</td>\n",
       "      <td>25.0</td>\n",
       "    </tr>\n",
       "    <tr>\n",
       "      <th>max</th>\n",
       "      <td>8.0</td>\n",
       "      <td>625.0</td>\n",
       "      <td>613.0</td>\n",
       "      <td>601.0</td>\n",
       "      <td>613.0</td>\n",
       "      <td>101.0</td>\n",
       "      <td>148.0</td>\n",
       "    </tr>\n",
       "  </tbody>\n",
       "</table>\n",
       "</div>"
      ],
      "text/plain": [
       "       Level  2021Points  2020Points  2019Points  2019MidPoints  2021Diff  \\\n",
       "count  663.0       663.0       663.0       663.0          663.0     663.0   \n",
       "mean     8.0       394.5       377.7       365.9          410.1      16.8   \n",
       "std      0.0       110.7        98.8        91.4           81.4      30.2   \n",
       "min      8.0       176.0       195.0       168.0          262.0    -181.0   \n",
       "25%      8.0       301.0       300.0       298.0          346.0       0.0   \n",
       "50%      8.0       384.0       363.0       349.0          393.0      18.0   \n",
       "75%      8.0       488.0       454.5       434.0          476.0      34.0   \n",
       "max      8.0       625.0       613.0       601.0          613.0     101.0   \n",
       "\n",
       "       2020Diff  \n",
       "count     663.0  \n",
       "mean       11.8  \n",
       "std        25.8  \n",
       "min       -99.0  \n",
       "25%         0.0  \n",
       "50%        11.0  \n",
       "75%        25.0  \n",
       "max       148.0  "
      ]
     },
     "execution_count": 81,
     "metadata": {},
     "output_type": "execute_result"
    }
   ],
   "source": [
    "dfcaoL8.describe().round(1)"
   ]
  },
  {
   "cell_type": "code",
   "execution_count": 82,
   "metadata": {},
   "outputs": [
    {
     "data": {
      "text/html": [
       "<div>\n",
       "<style scoped>\n",
       "    .dataframe tbody tr th:only-of-type {\n",
       "        vertical-align: middle;\n",
       "    }\n",
       "\n",
       "    .dataframe tbody tr th {\n",
       "        vertical-align: top;\n",
       "    }\n",
       "\n",
       "    .dataframe thead th {\n",
       "        text-align: right;\n",
       "    }\n",
       "</style>\n",
       "<table border=\"1\" class=\"dataframe\">\n",
       "  <thead>\n",
       "    <tr style=\"text-align: right;\">\n",
       "      <th></th>\n",
       "      <th>Level</th>\n",
       "      <th>2021Points</th>\n",
       "      <th>2020Points</th>\n",
       "      <th>2019Points</th>\n",
       "      <th>2019MidPoints</th>\n",
       "      <th>2021Diff</th>\n",
       "      <th>2020Diff</th>\n",
       "    </tr>\n",
       "  </thead>\n",
       "  <tbody>\n",
       "    <tr>\n",
       "      <th>count</th>\n",
       "      <td>221.0</td>\n",
       "      <td>221.0</td>\n",
       "      <td>221.0</td>\n",
       "      <td>221.0</td>\n",
       "      <td>221.0</td>\n",
       "      <td>221.0</td>\n",
       "      <td>221.0</td>\n",
       "    </tr>\n",
       "    <tr>\n",
       "      <th>mean</th>\n",
       "      <td>7.0</td>\n",
       "      <td>240.1</td>\n",
       "      <td>232.6</td>\n",
       "      <td>223.7</td>\n",
       "      <td>351.1</td>\n",
       "      <td>7.5</td>\n",
       "      <td>8.9</td>\n",
       "    </tr>\n",
       "    <tr>\n",
       "      <th>std</th>\n",
       "      <td>0.0</td>\n",
       "      <td>64.4</td>\n",
       "      <td>56.7</td>\n",
       "      <td>55.9</td>\n",
       "      <td>51.2</td>\n",
       "      <td>37.8</td>\n",
       "      <td>35.9</td>\n",
       "    </tr>\n",
       "    <tr>\n",
       "      <th>min</th>\n",
       "      <td>7.0</td>\n",
       "      <td>100.0</td>\n",
       "      <td>80.0</td>\n",
       "      <td>101.0</td>\n",
       "      <td>255.0</td>\n",
       "      <td>-154.0</td>\n",
       "      <td>-154.0</td>\n",
       "    </tr>\n",
       "    <tr>\n",
       "      <th>25%</th>\n",
       "      <td>7.0</td>\n",
       "      <td>200.0</td>\n",
       "      <td>195.0</td>\n",
       "      <td>186.0</td>\n",
       "      <td>311.0</td>\n",
       "      <td>-8.0</td>\n",
       "      <td>-8.0</td>\n",
       "    </tr>\n",
       "    <tr>\n",
       "      <th>50%</th>\n",
       "      <td>7.0</td>\n",
       "      <td>234.0</td>\n",
       "      <td>233.0</td>\n",
       "      <td>222.0</td>\n",
       "      <td>347.0</td>\n",
       "      <td>8.0</td>\n",
       "      <td>3.0</td>\n",
       "    </tr>\n",
       "    <tr>\n",
       "      <th>75%</th>\n",
       "      <td>7.0</td>\n",
       "      <td>280.0</td>\n",
       "      <td>269.0</td>\n",
       "      <td>260.0</td>\n",
       "      <td>382.0</td>\n",
       "      <td>20.0</td>\n",
       "      <td>21.0</td>\n",
       "    </tr>\n",
       "    <tr>\n",
       "      <th>max</th>\n",
       "      <td>7.0</td>\n",
       "      <td>433.0</td>\n",
       "      <td>400.0</td>\n",
       "      <td>393.0</td>\n",
       "      <td>520.0</td>\n",
       "      <td>136.0</td>\n",
       "      <td>188.0</td>\n",
       "    </tr>\n",
       "  </tbody>\n",
       "</table>\n",
       "</div>"
      ],
      "text/plain": [
       "       Level  2021Points  2020Points  2019Points  2019MidPoints  2021Diff  \\\n",
       "count  221.0       221.0       221.0       221.0          221.0     221.0   \n",
       "mean     7.0       240.1       232.6       223.7          351.1       7.5   \n",
       "std      0.0        64.4        56.7        55.9           51.2      37.8   \n",
       "min      7.0       100.0        80.0       101.0          255.0    -154.0   \n",
       "25%      7.0       200.0       195.0       186.0          311.0      -8.0   \n",
       "50%      7.0       234.0       233.0       222.0          347.0       8.0   \n",
       "75%      7.0       280.0       269.0       260.0          382.0      20.0   \n",
       "max      7.0       433.0       400.0       393.0          520.0     136.0   \n",
       "\n",
       "       2020Diff  \n",
       "count     221.0  \n",
       "mean        8.9  \n",
       "std        35.9  \n",
       "min      -154.0  \n",
       "25%        -8.0  \n",
       "50%         3.0  \n",
       "75%        21.0  \n",
       "max       188.0  "
      ]
     },
     "execution_count": 82,
     "metadata": {},
     "output_type": "execute_result"
    }
   ],
   "source": [
    "dfcaoL7.describe().round(1)"
   ]
  },
  {
   "cell_type": "code",
   "execution_count": 83,
   "metadata": {},
   "outputs": [
    {
     "data": {
      "text/html": [
       "<div>\n",
       "<style scoped>\n",
       "    .dataframe tbody tr th:only-of-type {\n",
       "        vertical-align: middle;\n",
       "    }\n",
       "\n",
       "    .dataframe tbody tr th {\n",
       "        vertical-align: top;\n",
       "    }\n",
       "\n",
       "    .dataframe thead th {\n",
       "        text-align: right;\n",
       "    }\n",
       "</style>\n",
       "<table border=\"1\" class=\"dataframe\">\n",
       "  <thead>\n",
       "    <tr style=\"text-align: right;\">\n",
       "      <th></th>\n",
       "      <th>Level</th>\n",
       "      <th>2021Points</th>\n",
       "      <th>2020Points</th>\n",
       "      <th>2019Points</th>\n",
       "      <th>2019MidPoints</th>\n",
       "      <th>2021Diff</th>\n",
       "      <th>2020Diff</th>\n",
       "    </tr>\n",
       "  </thead>\n",
       "  <tbody>\n",
       "    <tr>\n",
       "      <th>count</th>\n",
       "      <td>49.0</td>\n",
       "      <td>49.0</td>\n",
       "      <td>49.0</td>\n",
       "      <td>49.0</td>\n",
       "      <td>49.0</td>\n",
       "      <td>49.0</td>\n",
       "      <td>49.0</td>\n",
       "    </tr>\n",
       "    <tr>\n",
       "      <th>mean</th>\n",
       "      <td>6.0</td>\n",
       "      <td>229.7</td>\n",
       "      <td>226.0</td>\n",
       "      <td>219.3</td>\n",
       "      <td>335.9</td>\n",
       "      <td>3.7</td>\n",
       "      <td>6.7</td>\n",
       "    </tr>\n",
       "    <tr>\n",
       "      <th>std</th>\n",
       "      <td>0.0</td>\n",
       "      <td>86.9</td>\n",
       "      <td>60.2</td>\n",
       "      <td>70.0</td>\n",
       "      <td>64.1</td>\n",
       "      <td>54.9</td>\n",
       "      <td>36.4</td>\n",
       "    </tr>\n",
       "    <tr>\n",
       "      <th>min</th>\n",
       "      <td>6.0</td>\n",
       "      <td>113.0</td>\n",
       "      <td>148.0</td>\n",
       "      <td>116.0</td>\n",
       "      <td>190.0</td>\n",
       "      <td>-81.0</td>\n",
       "      <td>-157.0</td>\n",
       "    </tr>\n",
       "    <tr>\n",
       "      <th>25%</th>\n",
       "      <td>6.0</td>\n",
       "      <td>171.0</td>\n",
       "      <td>181.0</td>\n",
       "      <td>173.0</td>\n",
       "      <td>297.0</td>\n",
       "      <td>-24.0</td>\n",
       "      <td>-9.0</td>\n",
       "    </tr>\n",
       "    <tr>\n",
       "      <th>50%</th>\n",
       "      <td>6.0</td>\n",
       "      <td>214.0</td>\n",
       "      <td>210.0</td>\n",
       "      <td>206.0</td>\n",
       "      <td>329.0</td>\n",
       "      <td>-1.0</td>\n",
       "      <td>9.0</td>\n",
       "    </tr>\n",
       "    <tr>\n",
       "      <th>75%</th>\n",
       "      <td>6.0</td>\n",
       "      <td>259.0</td>\n",
       "      <td>251.0</td>\n",
       "      <td>245.0</td>\n",
       "      <td>377.0</td>\n",
       "      <td>11.0</td>\n",
       "      <td>29.0</td>\n",
       "    </tr>\n",
       "    <tr>\n",
       "      <th>max</th>\n",
       "      <td>6.0</td>\n",
       "      <td>463.0</td>\n",
       "      <td>451.0</td>\n",
       "      <td>454.0</td>\n",
       "      <td>499.0</td>\n",
       "      <td>238.0</td>\n",
       "      <td>82.0</td>\n",
       "    </tr>\n",
       "  </tbody>\n",
       "</table>\n",
       "</div>"
      ],
      "text/plain": [
       "       Level  2021Points  2020Points  2019Points  2019MidPoints  2021Diff  \\\n",
       "count   49.0        49.0        49.0        49.0           49.0      49.0   \n",
       "mean     6.0       229.7       226.0       219.3          335.9       3.7   \n",
       "std      0.0        86.9        60.2        70.0           64.1      54.9   \n",
       "min      6.0       113.0       148.0       116.0          190.0     -81.0   \n",
       "25%      6.0       171.0       181.0       173.0          297.0     -24.0   \n",
       "50%      6.0       214.0       210.0       206.0          329.0      -1.0   \n",
       "75%      6.0       259.0       251.0       245.0          377.0      11.0   \n",
       "max      6.0       463.0       451.0       454.0          499.0     238.0   \n",
       "\n",
       "       2020Diff  \n",
       "count      49.0  \n",
       "mean        6.7  \n",
       "std        36.4  \n",
       "min      -157.0  \n",
       "25%        -9.0  \n",
       "50%         9.0  \n",
       "75%        29.0  \n",
       "max        82.0  "
      ]
     },
     "execution_count": 83,
     "metadata": {},
     "output_type": "execute_result"
    }
   ],
   "source": [
    "dfcaoL6.describe().round(1)"
   ]
  },
  {
   "cell_type": "markdown",
   "metadata": {},
   "source": [
    "### Averages of CAO Points\n",
    "On average, CAO points increased each year from 2019 to 2021. The differences in points were greater in the level 8 courses (17 and 12 from 2020-2021, 2019-2020) than the 7 (7.5 and 9) and 6 (4 and 7). As the majority of courses were level 8, this affects the total a great deal.\n",
    "\n",
    "Of interest, the mean of the total course required points is 20-30 points higher than the median across all 3 years. This would suggest some positive skewness in the data. We will visualise this data now and see what kind of distribution that it has."
   ]
  },
  {
   "cell_type": "code",
   "execution_count": 84,
   "metadata": {},
   "outputs": [],
   "source": [
    "points21 = dfcao[\"2021Points\"]\n",
    "points20 = dfcao[\"2020Points\"]\n",
    "points19 = dfcao[\"2019Points\"]"
   ]
  },
  {
   "cell_type": "code",
   "execution_count": 85,
   "metadata": {},
   "outputs": [
    {
     "data": {
      "image/png": "[encoded data removed]",
      "text/plain": [
       "<Figure size 1280x480 with 3 Axes>"
      ]
     },
     "metadata": {},
     "output_type": "display_data"
    }
   ],
   "source": [
    "fig, (ax1, ax2, ax3) = plt.subplots(1,3, figsize = (16,6))\n",
    "\n",
    "ax1.hist(points21, bins = 20, range = [0,625])\n",
    "ax1.set_title(\"2021\")\n",
    "ax1.set_xlabel(\"points required\")\n",
    "\n",
    "ax2.hist(points20, bins = 20, range = [0,625])\n",
    "ax2.set_title(\"2020\")\n",
    "ax2.set_xlabel(\"points required\")\n",
    "\n",
    "ax3.hist(points19, bins = 20, range = [0,625])\n",
    "ax3.set_title(\"2019\")\n",
    "ax3.set_xlabel(\"points required\")\n",
    "\n",
    "fig.suptitle('CAO Points Requirements 2021 - 2019', fontsize=16)\n",
    "plt.show;"
   ]
  },
  {
   "cell_type": "code",
   "execution_count": 86,
   "metadata": {},
   "outputs": [
    {
     "data": {
      "image/png": "[encoded data removed]",
      "text/plain": [
       "<Figure size 1280x480 with 1 Axes>"
      ]
     },
     "metadata": {},
     "output_type": "display_data"
    }
   ],
   "source": [
    "all_data = [points21, points20, points19]\n",
    "labels = [\"2021 Points\", \"2020 Points\", \"2019 Points\"]\n",
    "\n",
    "fig, ax = plt.subplots(figsize = (16,6))\n",
    "\n",
    "ax.boxplot(all_data, labels = labels)\n",
    "\n",
    "fig.suptitle('CAO Points Requirements 2021 - 2019', fontsize=16)\n",
    "\n",
    "plt.show();"
   ]
  },
  {
   "cell_type": "markdown",
   "metadata": {},
   "source": [
    "### Visualisiation of Total Points\n",
    "The boxplot above does not tell us much, only that there is slight increase year to year and the the means are higher than the medians. When looking at the histograms, we can see the positive skewness that causes this, with the highest peak in all histograms being just below 300 points. Interestingly, there is also a smaller peak at around 400 points. This peak occurs in the bin below 400 in the 2019 histogram, then both sides of 400 in the 2020 histogram and finally after 400 in the 2021 histogram. This would support the steady increase of points from year to year."
   ]
  },
  {
   "cell_type": "code",
   "execution_count": 87,
   "metadata": {},
   "outputs": [],
   "source": [
    "points21 = dfcaoL8[\"2021Points\"]\n",
    "points20 = dfcaoL8[\"2020Points\"]\n",
    "points19 = dfcaoL8[\"2019Points\"]"
   ]
  },
  {
   "cell_type": "code",
   "execution_count": 88,
   "metadata": {},
   "outputs": [
    {
     "data": {
      "image/png": "[encoded data removed]",
      "text/plain": [
       "<Figure size 1280x480 with 3 Axes>"
      ]
     },
     "metadata": {},
     "output_type": "display_data"
    }
   ],
   "source": [
    "fig, (ax1, ax2, ax3) = plt.subplots(1,3, figsize = (16,6))\n",
    "\n",
    "ax1.hist(points21, bins = 20, range = [0,625])\n",
    "ax1.set_title(\"2021\")\n",
    "ax1.set_xlabel(\"points required\")\n",
    "\n",
    "ax2.hist(points20, bins = 20, range = [0,625])\n",
    "ax2.set_title(\"2020\")\n",
    "ax2.set_xlabel(\"points required\")\n",
    "\n",
    "ax3.hist(points19, bins = 20, range = [0,625])\n",
    "ax3.set_title(\"2019\")\n",
    "ax3.set_xlabel(\"points required\")\n",
    "\n",
    "fig.suptitle('CAO Level 8 Points Requirements 2021 - 2019', fontsize=16)\n",
    "plt.show;"
   ]
  },
  {
   "cell_type": "code",
   "execution_count": 89,
   "metadata": {},
   "outputs": [
    {
     "data": {
      "image/png": "[encoded data removed]",
      "text/plain": [
       "<Figure size 1280x480 with 1 Axes>"
      ]
     },
     "metadata": {},
     "output_type": "display_data"
    }
   ],
   "source": [
    "all_data = [points21, points20, points19]\n",
    "labels = [\"2021 Points\", \"2020 Points\", \"2019 Points\"]\n",
    "\n",
    "fig, ax = plt.subplots(figsize = (16,6))\n",
    "\n",
    "ax.boxplot(all_data, labels = labels)\n",
    "\n",
    "fig.suptitle('CAO Level 8 Points Requirements 2021 - 2019', fontsize=16)\n",
    "\n",
    "plt.show();"
   ]
  },
  {
   "cell_type": "code",
   "execution_count": 90,
   "metadata": {},
   "outputs": [],
   "source": [
    "points21 = dfcaoL7[\"2021Points\"]\n",
    "points20 = dfcaoL7[\"2020Points\"]\n",
    "points19 = dfcaoL7[\"2019Points\"]"
   ]
  },
  {
   "cell_type": "code",
   "execution_count": 91,
   "metadata": {},
   "outputs": [
    {
     "data": {
      "image/png": "[encoded data removed]",
      "text/plain": [
       "<Figure size 1280x480 with 3 Axes>"
      ]
     },
     "metadata": {},
     "output_type": "display_data"
    }
   ],
   "source": [
    "fig, (ax1, ax2, ax3) = plt.subplots(1,3, figsize = (16,6))\n",
    "\n",
    "ax1.hist(points21, bins = 20, range = [0,625])\n",
    "ax1.set_title(\"2021\")\n",
    "ax1.set_xlabel(\"points required\")\n",
    "\n",
    "ax2.hist(points20, bins = 20, range = [0,625])\n",
    "ax2.set_title(\"2020\")\n",
    "ax2.set_xlabel(\"points required\")\n",
    "\n",
    "ax3.hist(points19, bins = 20, range = [0,625])\n",
    "ax3.set_title(\"2019\")\n",
    "ax3.set_xlabel(\"points required\")\n",
    "\n",
    "fig.suptitle('CAO Level 7 Points Requirements 2021 - 2019', fontsize=16)\n",
    "plt.show;"
   ]
  },
  {
   "cell_type": "code",
   "execution_count": 92,
   "metadata": {},
   "outputs": [
    {
     "data": {
      "image/png": "[encoded data removed]",
      "text/plain": [
       "<Figure size 1280x480 with 1 Axes>"
      ]
     },
     "metadata": {},
     "output_type": "display_data"
    }
   ],
   "source": [
    "all_data = [points21, points20, points19]\n",
    "labels = [\"2021 Points\", \"2020 Points\", \"2019 Points\"]\n",
    "\n",
    "fig, ax = plt.subplots(figsize = (16,6))\n",
    "\n",
    "ax.boxplot(all_data, labels = labels)\n",
    "\n",
    "fig.suptitle('CAO Level 7 Points Requirements 2021 - 2019', fontsize=16)\n",
    "\n",
    "plt.show();"
   ]
  },
  {
   "cell_type": "code",
   "execution_count": 93,
   "metadata": {},
   "outputs": [],
   "source": [
    "points21 = dfcaoL6[\"2021Points\"]\n",
    "points20 = dfcaoL6[\"2020Points\"]\n",
    "points19 = dfcaoL6[\"2019Points\"]"
   ]
  },
  {
   "cell_type": "code",
   "execution_count": 94,
   "metadata": {},
   "outputs": [
    {
     "data": {
      "image/png": "[encoded data removed]",
      "text/plain": [
       "<Figure size 1280x480 with 3 Axes>"
      ]
     },
     "metadata": {},
     "output_type": "display_data"
    }
   ],
   "source": [
    "fig, (ax1, ax2, ax3) = plt.subplots(1,3, figsize = (16,6))\n",
    "\n",
    "ax1.hist(points21, bins = 10, range = [0,625])\n",
    "ax1.set_title(\"2021\")\n",
    "ax1.set_xlabel(\"points required\")\n",
    "\n",
    "ax2.hist(points20, bins = 10, range = [0,625])\n",
    "ax2.set_title(\"2020\")\n",
    "ax2.set_xlabel(\"points required\")\n",
    "\n",
    "ax3.hist(points19, bins = 10, range = [0,625])\n",
    "ax3.set_title(\"2019\")\n",
    "ax3.set_xlabel(\"points required\")\n",
    "\n",
    "fig.suptitle('CAO Level 6 Points Requirements 2021 - 2019', fontsize=16)\n",
    "plt.show;"
   ]
  },
  {
   "cell_type": "code",
   "execution_count": 95,
   "metadata": {},
   "outputs": [
    {
     "data": {
      "image/png": "[encoded data removed]",
      "text/plain": [
       "<Figure size 1280x480 with 1 Axes>"
      ]
     },
     "metadata": {},
     "output_type": "display_data"
    }
   ],
   "source": [
    "all_data = [points21, points20, points19]\n",
    "labels = [\"2021 Points\", \"2020 Points\", \"2019 Points\"]\n",
    "\n",
    "fig, ax = plt.subplots(figsize = (16,6))\n",
    "\n",
    "ax.boxplot(all_data, labels = labels)\n",
    "\n",
    "fig.suptitle('CAO Level 6 Points Requirements 2021 - 2019', fontsize=16)\n",
    "\n",
    "plt.show();"
   ]
  },
  {
   "cell_type": "code",
   "execution_count": 96,
   "metadata": {},
   "outputs": [
    {
     "data": {
      "image/png": "[encoded data removed]",
      "text/plain": [
       "<Figure size 1280x800 with 12 Axes>"
      ]
     },
     "metadata": {},
     "output_type": "display_data"
    }
   ],
   "source": [
    "x = dfcao[[\"Level\", \"2021Points\",\"2020Points\",\"2019Points\"]]\n",
    "\n",
    "# Seaborn pairplot\n",
    "ax = sns.pairplot(data=x, hue = \"Level\")\n",
    "ax.fig.set_figwidth(16)\n",
    "ax.fig.set_figheight(10)\n",
    "ax.fig.suptitle(\"CAO Points: Scatter and KDE Plots\", y=1.02, size = 18);"
   ]
  },
  {
   "cell_type": "markdown",
   "metadata": {},
   "source": [
    "### Level 8, 7 and 6 Courses\n",
    "Level 8 courses make up the majority of total courses in this analysis. Because of this, the histograms for level 8 courses look very similar to the total courses histogram. Points requirements for the level 6 and 7 courses seem to be more normally distributed than the level 8 courses. The highest points requirement for some level 6 course seem to be higher than the level 7 courses. This can be seen in the histograms, boxplots and KDE plots. We will look at these later when we look at the top points requirements for courses at each level."
   ]
  },
  {
   "cell_type": "markdown",
   "metadata": {},
   "source": [
    "### Highest Points Requirements"
   ]
  },
  {
   "cell_type": "code",
   "execution_count": 100,
   "metadata": {},
   "outputs": [
    {
     "data": {
      "text/html": [
       "<div>\n",
       "<style scoped>\n",
       "    .dataframe tbody tr th:only-of-type {\n",
       "        vertical-align: middle;\n",
       "    }\n",
       "\n",
       "    .dataframe tbody tr th {\n",
       "        vertical-align: top;\n",
       "    }\n",
       "\n",
       "    .dataframe thead th {\n",
       "        text-align: right;\n",
       "    }\n",
       "</style>\n",
       "<table border=\"1\" class=\"dataframe\">\n",
       "  <thead>\n",
       "    <tr style=\"text-align: right;\">\n",
       "      <th></th>\n",
       "      <th>Code</th>\n",
       "      <th>Title</th>\n",
       "      <th>2021Points</th>\n",
       "      <th>2020Points</th>\n",
       "      <th>2019Points</th>\n",
       "      <th>Level</th>\n",
       "    </tr>\n",
       "  </thead>\n",
       "  <tbody>\n",
       "    <tr>\n",
       "      <th>657</th>\n",
       "      <td>TR052</td>\n",
       "      <td>Dental Science</td>\n",
       "      <td>625</td>\n",
       "      <td>613</td>\n",
       "      <td>590</td>\n",
       "      <td>8.0</td>\n",
       "    </tr>\n",
       "    <tr>\n",
       "      <th>261</th>\n",
       "      <td>CK702</td>\n",
       "      <td>Dentistry</td>\n",
       "      <td>625</td>\n",
       "      <td>613</td>\n",
       "      <td>590</td>\n",
       "      <td>8.0</td>\n",
       "    </tr>\n",
       "    <tr>\n",
       "      <th>802</th>\n",
       "      <td>DN670</td>\n",
       "      <td>Economics and Finance</td>\n",
       "      <td>625</td>\n",
       "      <td>613</td>\n",
       "      <td>601</td>\n",
       "      <td>8.0</td>\n",
       "    </tr>\n",
       "    <tr>\n",
       "      <th>648</th>\n",
       "      <td>TR034</td>\n",
       "      <td>Management Science and Information Systems Stu...</td>\n",
       "      <td>625</td>\n",
       "      <td>613</td>\n",
       "      <td>589</td>\n",
       "      <td>8.0</td>\n",
       "    </tr>\n",
       "    <tr>\n",
       "      <th>668</th>\n",
       "      <td>TR080</td>\n",
       "      <td>Global Business</td>\n",
       "      <td>613</td>\n",
       "      <td>589</td>\n",
       "      <td>565</td>\n",
       "      <td>8.0</td>\n",
       "    </tr>\n",
       "    <tr>\n",
       "      <th>262</th>\n",
       "      <td>CK703</td>\n",
       "      <td>Pharmacy</td>\n",
       "      <td>613</td>\n",
       "      <td>589</td>\n",
       "      <td>577</td>\n",
       "      <td>8.0</td>\n",
       "    </tr>\n",
       "    <tr>\n",
       "      <th>790</th>\n",
       "      <td>DN440</td>\n",
       "      <td>Biomedical, Health and Life Sciences</td>\n",
       "      <td>613</td>\n",
       "      <td>589</td>\n",
       "      <td>565</td>\n",
       "      <td>8.0</td>\n",
       "    </tr>\n",
       "    <tr>\n",
       "      <th>998</th>\n",
       "      <td>GY303</td>\n",
       "      <td>Biomedical Science</td>\n",
       "      <td>613</td>\n",
       "      <td>556</td>\n",
       "      <td>533</td>\n",
       "      <td>8.0</td>\n",
       "    </tr>\n",
       "    <tr>\n",
       "      <th>332</th>\n",
       "      <td>DC116</td>\n",
       "      <td>Global Business (USA)</td>\n",
       "      <td>613</td>\n",
       "      <td>579</td>\n",
       "      <td>578</td>\n",
       "      <td>8.0</td>\n",
       "    </tr>\n",
       "    <tr>\n",
       "      <th>635</th>\n",
       "      <td>TR015</td>\n",
       "      <td>Philosophy, Political Science, Economics and S...</td>\n",
       "      <td>613</td>\n",
       "      <td>589</td>\n",
       "      <td>566</td>\n",
       "      <td>8.0</td>\n",
       "    </tr>\n",
       "  </tbody>\n",
       "</table>\n",
       "</div>"
      ],
      "text/plain": [
       "      Code                                              Title  2021Points  \\\n",
       "657  TR052                                     Dental Science         625   \n",
       "261  CK702                                          Dentistry         625   \n",
       "802  DN670                              Economics and Finance         625   \n",
       "648  TR034  Management Science and Information Systems Stu...         625   \n",
       "668  TR080                                    Global Business         613   \n",
       "262  CK703                                           Pharmacy         613   \n",
       "790  DN440               Biomedical, Health and Life Sciences         613   \n",
       "998  GY303                                 Biomedical Science         613   \n",
       "332  DC116                              Global Business (USA)         613   \n",
       "635  TR015  Philosophy, Political Science, Economics and S...         613   \n",
       "\n",
       "     2020Points  2019Points  Level  \n",
       "657         613         590    8.0  \n",
       "261         613         590    8.0  \n",
       "802         613         601    8.0  \n",
       "648         613         589    8.0  \n",
       "668         589         565    8.0  \n",
       "262         589         577    8.0  \n",
       "790         589         565    8.0  \n",
       "998         556         533    8.0  \n",
       "332         579         578    8.0  \n",
       "635         589         566    8.0  "
      ]
     },
     "execution_count": 100,
     "metadata": {},
     "output_type": "execute_result"
    }
   ],
   "source": [
    "# Sort by most points, top 10\n",
    "dfcaoL8[[\"Code\", \"Title\", \"2021Points\",\"2020Points\",\"2019Points\", \"Level\"]].sort_values(\"2021Points\", ascending = False)[:10]"
   ]
  },
  {
   "cell_type": "code",
   "execution_count": 98,
   "metadata": {},
   "outputs": [
    {
     "data": {
      "text/html": [
       "<div>\n",
       "<style scoped>\n",
       "    .dataframe tbody tr th:only-of-type {\n",
       "        vertical-align: middle;\n",
       "    }\n",
       "\n",
       "    .dataframe tbody tr th {\n",
       "        vertical-align: top;\n",
       "    }\n",
       "\n",
       "    .dataframe thead th {\n",
       "        text-align: right;\n",
       "    }\n",
       "</style>\n",
       "<table border=\"1\" class=\"dataframe\">\n",
       "  <thead>\n",
       "    <tr style=\"text-align: right;\">\n",
       "      <th></th>\n",
       "      <th>Code</th>\n",
       "      <th>Title</th>\n",
       "      <th>2021Points</th>\n",
       "      <th>2020Points</th>\n",
       "      <th>2019Points</th>\n",
       "      <th>Level</th>\n",
       "    </tr>\n",
       "  </thead>\n",
       "  <tbody>\n",
       "    <tr>\n",
       "      <th>764</th>\n",
       "      <td>TR801</td>\n",
       "      <td>Dental Nursing</td>\n",
       "      <td>433</td>\n",
       "      <td>367</td>\n",
       "      <td>379</td>\n",
       "      <td>7.0</td>\n",
       "    </tr>\n",
       "    <tr>\n",
       "      <th>20</th>\n",
       "      <td>AL731</td>\n",
       "      <td>Veterinary Nursing</td>\n",
       "      <td>421</td>\n",
       "      <td>400</td>\n",
       "      <td>393</td>\n",
       "      <td>7.0</td>\n",
       "    </tr>\n",
       "    <tr>\n",
       "      <th>136</th>\n",
       "      <td>CR006</td>\n",
       "      <td>Applied Biosciences</td>\n",
       "      <td>420</td>\n",
       "      <td>361</td>\n",
       "      <td>380</td>\n",
       "      <td>7.0</td>\n",
       "    </tr>\n",
       "    <tr>\n",
       "      <th>1120</th>\n",
       "      <td>LC267</td>\n",
       "      <td>Forensic and Pharmaceutical Sciences</td>\n",
       "      <td>400</td>\n",
       "      <td>329</td>\n",
       "      <td>278</td>\n",
       "      <td>7.0</td>\n",
       "    </tr>\n",
       "    <tr>\n",
       "      <th>829</th>\n",
       "      <td>DK784</td>\n",
       "      <td>Veterinary Nursing</td>\n",
       "      <td>399</td>\n",
       "      <td>399</td>\n",
       "      <td>347</td>\n",
       "      <td>7.0</td>\n",
       "    </tr>\n",
       "    <tr>\n",
       "      <th>1067</th>\n",
       "      <td>LY847</td>\n",
       "      <td>Veterinary Nursing</td>\n",
       "      <td>389</td>\n",
       "      <td>367</td>\n",
       "      <td>347</td>\n",
       "      <td>7.0</td>\n",
       "    </tr>\n",
       "    <tr>\n",
       "      <th>1121</th>\n",
       "      <td>LC268</td>\n",
       "      <td>Medical Technology</td>\n",
       "      <td>384</td>\n",
       "      <td>289</td>\n",
       "      <td>287</td>\n",
       "      <td>7.0</td>\n",
       "    </tr>\n",
       "    <tr>\n",
       "      <th>150</th>\n",
       "      <td>CR053</td>\n",
       "      <td>Interior Architecture</td>\n",
       "      <td>375</td>\n",
       "      <td>308</td>\n",
       "      <td>253</td>\n",
       "      <td>7.0</td>\n",
       "    </tr>\n",
       "    <tr>\n",
       "      <th>142</th>\n",
       "      <td>CR031</td>\n",
       "      <td>Social Care Work</td>\n",
       "      <td>360</td>\n",
       "      <td>346</td>\n",
       "      <td>326</td>\n",
       "      <td>7.0</td>\n",
       "    </tr>\n",
       "    <tr>\n",
       "      <th>1122</th>\n",
       "      <td>LC270</td>\n",
       "      <td>Music Technology and Production</td>\n",
       "      <td>354</td>\n",
       "      <td>307</td>\n",
       "      <td>327</td>\n",
       "      <td>7.0</td>\n",
       "    </tr>\n",
       "  </tbody>\n",
       "</table>\n",
       "</div>"
      ],
      "text/plain": [
       "       Code                                 Title  2021Points  2020Points  \\\n",
       "764   TR801                        Dental Nursing         433         367   \n",
       "20    AL731                    Veterinary Nursing         421         400   \n",
       "136   CR006                   Applied Biosciences         420         361   \n",
       "1120  LC267  Forensic and Pharmaceutical Sciences         400         329   \n",
       "829   DK784                    Veterinary Nursing         399         399   \n",
       "1067  LY847                    Veterinary Nursing         389         367   \n",
       "1121  LC268                    Medical Technology         384         289   \n",
       "150   CR053                 Interior Architecture         375         308   \n",
       "142   CR031                      Social Care Work         360         346   \n",
       "1122  LC270       Music Technology and Production         354         307   \n",
       "\n",
       "      2019Points  Level  \n",
       "764          379    7.0  \n",
       "20           393    7.0  \n",
       "136          380    7.0  \n",
       "1120         278    7.0  \n",
       "829          347    7.0  \n",
       "1067         347    7.0  \n",
       "1121         287    7.0  \n",
       "150          253    7.0  \n",
       "142          326    7.0  \n",
       "1122         327    7.0  "
      ]
     },
     "execution_count": 98,
     "metadata": {},
     "output_type": "execute_result"
    }
   ],
   "source": [
    "dfcaoL7[[\"Code\", \"Title\", \"2021Points\", \"2020Points\", \"2019Points\", \"Level\"]].sort_values(\"2021Points\", ascending = False)[:10]"
   ]
  },
  {
   "cell_type": "code",
   "execution_count": 99,
   "metadata": {},
   "outputs": [
    {
     "data": {
      "text/html": [
       "<div>\n",
       "<style scoped>\n",
       "    .dataframe tbody tr th:only-of-type {\n",
       "        vertical-align: middle;\n",
       "    }\n",
       "\n",
       "    .dataframe tbody tr th {\n",
       "        vertical-align: top;\n",
       "    }\n",
       "\n",
       "    .dataframe thead th {\n",
       "        text-align: right;\n",
       "    }\n",
       "</style>\n",
       "<table border=\"1\" class=\"dataframe\">\n",
       "  <thead>\n",
       "    <tr style=\"text-align: right;\">\n",
       "      <th></th>\n",
       "      <th>Code</th>\n",
       "      <th>Title</th>\n",
       "      <th>2021Points</th>\n",
       "      <th>2020Points</th>\n",
       "      <th>2019Points</th>\n",
       "      <th>Level</th>\n",
       "    </tr>\n",
       "  </thead>\n",
       "  <tbody>\n",
       "    <tr>\n",
       "      <th>1062</th>\n",
       "      <td>LY826</td>\n",
       "      <td>Health Science with Physiotherapy Studies</td>\n",
       "      <td>463</td>\n",
       "      <td>339</td>\n",
       "      <td>309</td>\n",
       "      <td>6.0</td>\n",
       "    </tr>\n",
       "    <tr>\n",
       "      <th>75</th>\n",
       "      <td>CW106</td>\n",
       "      <td>Physiology and Health Science</td>\n",
       "      <td>451</td>\n",
       "      <td>451</td>\n",
       "      <td>454</td>\n",
       "      <td>6.0</td>\n",
       "    </tr>\n",
       "    <tr>\n",
       "      <th>1064</th>\n",
       "      <td>LY836</td>\n",
       "      <td>Health Science with Occupational Therapy Studies</td>\n",
       "      <td>419</td>\n",
       "      <td>278</td>\n",
       "      <td>245</td>\n",
       "      <td>6.0</td>\n",
       "    </tr>\n",
       "    <tr>\n",
       "      <th>1392</th>\n",
       "      <td>WD010</td>\n",
       "      <td>Electronic Engineering</td>\n",
       "      <td>419</td>\n",
       "      <td>181</td>\n",
       "      <td>224</td>\n",
       "      <td>6.0</td>\n",
       "    </tr>\n",
       "    <tr>\n",
       "      <th>1321</th>\n",
       "      <td>SG406</td>\n",
       "      <td>Health and Exercise Science</td>\n",
       "      <td>396</td>\n",
       "      <td>367</td>\n",
       "      <td>397</td>\n",
       "      <td>6.0</td>\n",
       "    </tr>\n",
       "    <tr>\n",
       "      <th>1220</th>\n",
       "      <td>LM180</td>\n",
       "      <td>Equine Science</td>\n",
       "      <td>351</td>\n",
       "      <td>328</td>\n",
       "      <td>338</td>\n",
       "      <td>6.0</td>\n",
       "    </tr>\n",
       "    <tr>\n",
       "      <th>2</th>\n",
       "      <td>AL631</td>\n",
       "      <td>Dental Nursing</td>\n",
       "      <td>311</td>\n",
       "      <td>298</td>\n",
       "      <td>326</td>\n",
       "      <td>6.0</td>\n",
       "    </tr>\n",
       "    <tr>\n",
       "      <th>1</th>\n",
       "      <td>AL630</td>\n",
       "      <td>Pharmacy Technician</td>\n",
       "      <td>308</td>\n",
       "      <td>295</td>\n",
       "      <td>306</td>\n",
       "      <td>6.0</td>\n",
       "    </tr>\n",
       "    <tr>\n",
       "      <th>3</th>\n",
       "      <td>AL632</td>\n",
       "      <td>Applied Science</td>\n",
       "      <td>297</td>\n",
       "      <td>234</td>\n",
       "      <td>243</td>\n",
       "      <td>6.0</td>\n",
       "    </tr>\n",
       "    <tr>\n",
       "      <th>1129</th>\n",
       "      <td>LC281</td>\n",
       "      <td>Automobile Technology</td>\n",
       "      <td>277</td>\n",
       "      <td>208</td>\n",
       "      <td>208</td>\n",
       "      <td>6.0</td>\n",
       "    </tr>\n",
       "  </tbody>\n",
       "</table>\n",
       "</div>"
      ],
      "text/plain": [
       "       Code                                             Title  2021Points  \\\n",
       "1062  LY826         Health Science with Physiotherapy Studies         463   \n",
       "75    CW106                     Physiology and Health Science         451   \n",
       "1064  LY836  Health Science with Occupational Therapy Studies         419   \n",
       "1392  WD010                            Electronic Engineering         419   \n",
       "1321  SG406                       Health and Exercise Science         396   \n",
       "1220  LM180                                    Equine Science         351   \n",
       "2     AL631                                    Dental Nursing         311   \n",
       "1     AL630                               Pharmacy Technician         308   \n",
       "3     AL632                                   Applied Science         297   \n",
       "1129  LC281                             Automobile Technology         277   \n",
       "\n",
       "      2020Points  2019Points  Level  \n",
       "1062         339         309    6.0  \n",
       "75           451         454    6.0  \n",
       "1064         278         245    6.0  \n",
       "1392         181         224    6.0  \n",
       "1321         367         397    6.0  \n",
       "1220         328         338    6.0  \n",
       "2            298         326    6.0  \n",
       "1            295         306    6.0  \n",
       "3            234         243    6.0  \n",
       "1129         208         208    6.0  "
      ]
     },
     "execution_count": 99,
     "metadata": {},
     "output_type": "execute_result"
    }
   ],
   "source": [
    "dfcaoL6[[\"Code\", \"Title\", \"2021Points\", \"2020Points\", \"2019Points\", \"Level\"]].sort_values(\"2021Points\", ascending = False)[:10]"
   ]
  },
  {
   "cell_type": "markdown",
   "metadata": {},
   "source": [
    "At level 8, 4 courses this year required the full 625 points in the Leaving Cert, with the other 6 in the top top requiring 613. The competition for these courses is much higher than years previous (although we do not have access to the Leaving Cert points in this analysis so points may be higher on average).\n",
    "\n",
    "At level 7, The courses at the top points requirements had a very large increase ove the last 2 years, with Forensic and Pharmaceutical Sciences jumping by 122 points in the last 2 years. Other course in the top 10 at level 7 have also jumped over by over 100 points.\n",
    "\n",
    "When looking at the plots for level 6 courses, we notices that a few courses at the top of level 6 had higher points requirements than level 7. Health Science with Physiotherapy Studies increase by 127 points from the previous year. The next 2 courses are also health related. This could possible be due to the rise in points requirements of some related level 8 courses (e.g. physiotherapy) where students are looking for other ways to get in to these courses."
   ]
  },
  {
   "cell_type": "markdown",
   "metadata": {},
   "source": [
    "---\n",
    "# End"
   ]
  }
 ],
 "metadata": {
  "kernelspec": {
   "display_name": "Python 3",
   "language": "python",
   "name": "python3"
  },
  "language_info": {
   "codemirror_mode": {
    "name": "ipython",
    "version": 3
   },
   "file_extension": ".py",
   "mimetype": "text/x-python",
   "name": "python",
   "nbconvert_exporter": "python",
   "pygments_lexer": "ipython3",
   "version": "3.8.5"
  }
 },
 "nbformat": 4,
 "nbformat_minor": 4
}
