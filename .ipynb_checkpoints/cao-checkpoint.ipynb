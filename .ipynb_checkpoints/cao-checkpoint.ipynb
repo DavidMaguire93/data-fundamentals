{
 "cells": [
  {
   "cell_type": "markdown",
   "metadata": {},
   "source": [
    "# An analysis of CAO point from 2019, 2020 and 2021\n",
    "\n",
    "---"
   ]
  },
  {
   "cell_type": "code",
   "execution_count": 1,
   "metadata": {},
   "outputs": [],
   "source": [
    "# Regular expressions\n",
    "import re\n",
    "\n",
    "# For HTTP requests\n",
    "import requests as rq\n",
    "\n",
    "# Dates and Times\n",
    "import datetime as dt\n",
    "\n",
    "# Pandas\n",
    "import pandas as pd\n",
    "\n",
    "# For saving urls\n",
    "import urllib.request as urlrq\n",
    "\n",
    "# FOr only printing top few lines of large datasets\n",
    "from itertools import islice"
   ]
  },
  {
   "cell_type": "code",
   "execution_count": 2,
   "metadata": {},
   "outputs": [],
   "source": [
    "# Get current date and time\n",
    "now = dt.datetime.now()\n",
    "\n",
    "# Format as string\n",
    "nowstr = now.strftime('%Y%m%d_%H%M%S')"
   ]
  },
  {
   "cell_type": "markdown",
   "metadata": {},
   "source": [
    "***\n",
    "\n",
    "# 2021 CAO Points\n",
    "\n",
    "https://www.cao.ie/index.php?page=points&p=2021\n",
    "\n",
    "***"
   ]
  },
  {
   "cell_type": "markdown",
   "metadata": {},
   "source": [
    "## Note on HTML format for 2021 CAO Points\n",
    "\n",
    "At the time of starting this project, the CAO points for 2021 were only available in on a HTML webpage. The link above would have another link taking you to this webpage. Presently, that link now links to a .xlsx file. Although the web address for the old HTML webpage of 2021 points still works, it cannot be accessed from the main 2021 page linked to above. While the .xlsx will presumably be updated with any new points, the same cannot be said of the HTML page. I have left the code to access the HTML webpage in but for the analysis of the data, I will be using the data from the .xlsx file."
   ]
  },
  {
   "cell_type": "markdown",
   "metadata": {},
   "source": [
    "### Level 8 Courses (HTML)"
   ]
  },
  {
   "cell_type": "code",
   "execution_count": 3,
   "metadata": {},
   "outputs": [
    {
     "data": {
      "text/plain": [
       "<Response [200]>"
      ]
     },
     "execution_count": 3,
     "metadata": {},
     "output_type": "execute_result"
    }
   ],
   "source": [
    "resp = rq.get('http://www2.cao.ie/points/l8.php')\n",
    "\n",
    "# Check if working\n",
    "# Response [200] if working\n",
    "resp"
   ]
  },
  {
   "cell_type": "code",
   "execution_count": 4,
   "metadata": {},
   "outputs": [],
   "source": [
    "# Compile the regular expression for matching lines\n",
    "\n",
    "# This compiler has some issues and does not get all lines needed\n",
    "# A simpler compiler might be possible\n",
    "# re_course = re.compile('([A-Z]{2}[0-9]{3})  (.*)([0-9]{3})(\\*?) *')\n",
    "\n",
    "re_course = re.compile('([A-Z]{2}[0-9]{3}.*)')\n",
    "\n"
   ]
  },
  {
   "cell_type": "code",
   "execution_count": 59,
   "metadata": {
    "scrolled": true
   },
   "outputs": [
    {
     "name": "stdout",
     "output_type": "stream",
     "text": [
      "----------------------------------------------------------------------------- \n",
      " Total number of lines is 416.\n"
     ]
    }
   ],
   "source": [
    "# Loop through line of the response content\n",
    "no_lines = 0\n",
    "for line in resp.iter_lines():\n",
    "    dline = line.decode('cp1252')\n",
    "    # Only match lines with courses / points\n",
    "    if re_course.fullmatch(dline):\n",
    "        no_lines +=1\n",
    "        # print(line)\n",
    "        csv_version = re_course.sub(r'\\1', dline)\n",
    "        # print(csv_version)\n",
    "print(f\"----------------------------------------------------------------------------- \\n Total number of lines is {no_lines}.\")"
   ]
  },
  {
   "cell_type": "code",
   "execution_count": 6,
   "metadata": {},
   "outputs": [
    {
     "name": "stdout",
     "output_type": "stream",
     "text": [
      "Total number of lines is 949.\n"
     ]
    }
   ],
   "source": [
    "# Create file path for saving csv file\n",
    "path = 'data/cao2021_l8' + nowstr + '.csv'\n",
    "\n",
    "# Keep track of number of lines\n",
    "no_lines = 0\n",
    "\n",
    "with open(path, 'w') as f:\n",
    "    \n",
    "    for line in resp.iter_lines():\n",
    "        dline = line.decode('cp1252')\n",
    "        if re_course.fullmatch(dline):\n",
    "            no_lines = no_lines + 1\n",
    "            linesplit = re.split('  +', dline)\n",
    "            f.write(','.join(linesplit) + '\\n')\n",
    "        \n",
    "print(f\"Total number of lines is {no_lines}.\")"
   ]
  },
  {
   "cell_type": "markdown",
   "metadata": {},
   "source": [
    "### Level 6/7 Courses (HTML)"
   ]
  },
  {
   "cell_type": "code",
   "execution_count": 7,
   "metadata": {},
   "outputs": [
    {
     "data": {
      "text/plain": [
       "<Response [200]>"
      ]
     },
     "execution_count": 7,
     "metadata": {},
     "output_type": "execute_result"
    }
   ],
   "source": [
    "resp = rq.get('http://www2.cao.ie/points/l76.php')\n",
    "\n",
    "# Check if working\n",
    "# Response [200] if working\n",
    "resp"
   ]
  },
  {
   "cell_type": "code",
   "execution_count": 8,
   "metadata": {},
   "outputs": [],
   "source": [
    "# Compile the regular expression for matching lines\n",
    "\n",
    "# This compiler has some issues and does not get all lines needed\n",
    "# A simpler compiler might be possible\n",
    "# re_course = re.compile('([A-Z]{2}[0-9]{3})  (.*)([0-9]{3})(\\*?) *')\n",
    "\n",
    "re_course = re.compile('([A-Z]{2}[0-9]{3}.*)')\n",
    "\n"
   ]
  },
  {
   "cell_type": "code",
   "execution_count": 30,
   "metadata": {
    "scrolled": true
   },
   "outputs": [
    {
     "name": "stdout",
     "output_type": "stream",
     "text": [
      "----------------------------------------------------------------------------- \n",
      " Total number of lines is 416.\n"
     ]
    }
   ],
   "source": [
    "# Loop through line of the response content\n",
    "no_lines = 0\n",
    "for line in resp.iter_lines():\n",
    "    dline = line.decode('cp1252')\n",
    "    # Only match lines with courses / points\n",
    "    if re_course.fullmatch(dline):\n",
    "        no_lines +=1\n",
    "        # print(line)\n",
    "        csv_version = re_course.sub(r'\\1', dline)\n",
    "        # print(csv_version)\n",
    "print(f\"----------------------------------------------------------------------------- \\n Total number of lines is {no_lines}.\")"
   ]
  },
  {
   "cell_type": "code",
   "execution_count": 10,
   "metadata": {},
   "outputs": [
    {
     "name": "stdout",
     "output_type": "stream",
     "text": [
      "Total number of lines is 416.\n"
     ]
    }
   ],
   "source": [
    "# Create file path for saving csv file\n",
    "path = 'data/cao2021_l76' + nowstr + '.csv'\n",
    "\n",
    "# Keep track of number of lines\n",
    "no_lines = 0\n",
    "\n",
    "with open(path, 'w') as f:\n",
    "    \n",
    "    for line in resp.iter_lines():\n",
    "        dline = line.decode('cp1252')\n",
    "        if re_course.fullmatch(dline):\n",
    "            no_lines = no_lines + 1\n",
    "            linesplit = re.split('  +', dline)\n",
    "            f.write(','.join(linesplit) + '\\n')\n",
    "        \n",
    "print(f\"Total number of lines is {no_lines}.\")"
   ]
  },
  {
   "cell_type": "markdown",
   "metadata": {},
   "source": [
    "### Level 6/7/8 Courses (xlsx)"
   ]
  },
  {
   "cell_type": "code",
   "execution_count": 11,
   "metadata": {},
   "outputs": [],
   "source": [
    "# Name new excel save files\n",
    "path = 'data/cao2021_' + nowstr + '.xlsx'"
   ]
  },
  {
   "cell_type": "code",
   "execution_count": 12,
   "metadata": {},
   "outputs": [
    {
     "data": {
      "text/plain": [
       "('data/cao2021_20211228_191548.xlsx',\n",
       " <http.client.HTTPMessage at 0x1fb10a74fa0>)"
      ]
     },
     "execution_count": 12,
     "metadata": {},
     "output_type": "execute_result"
    }
   ],
   "source": [
    "# Save Excel File\n",
    "urlrq.urlretrieve('http://www2.cao.ie/points/CAOPointsCharts2021.xlsx', path)"
   ]
  },
  {
   "cell_type": "code",
   "execution_count": 13,
   "metadata": {},
   "outputs": [],
   "source": [
    "# Download and parse the excel spreadsheet\n",
    "df2021 = pd.read_excel('http://www2.cao.ie/points/CAOPointsCharts2021.xlsx', skiprows=11)"
   ]
  },
  {
   "cell_type": "code",
   "execution_count": 14,
   "metadata": {},
   "outputs": [],
   "source": [
    "# Save Pandas dataframe to file\n",
    "path = 'data/cao2021_' + nowstr + '.csv'\n",
    "\n",
    "df2021.to_csv(path)"
   ]
  },
  {
   "cell_type": "code",
   "execution_count": 57,
   "metadata": {},
   "outputs": [],
   "source": [
    "# Filter columns that we want to see\n",
    "df2021 = df2021[[\"Course Code\", \"Course Title\", \"EOS Points\", \"EOS Midpoints\", \"Course Level\"]]"
   ]
  },
  {
   "cell_type": "code",
   "execution_count": 60,
   "metadata": {},
   "outputs": [],
   "source": [
    " columns = [\"Code\", \"Title\", \"Points\", \"MidPoints\", \"Level\"]"
   ]
  },
  {
   "cell_type": "code",
   "execution_count": 61,
   "metadata": {},
   "outputs": [],
   "source": [
    "df2021.columns = columns"
   ]
  },
  {
   "cell_type": "code",
   "execution_count": 62,
   "metadata": {},
   "outputs": [
    {
     "data": {
      "text/html": [
       "<div>\n",
       "<style scoped>\n",
       "    .dataframe tbody tr th:only-of-type {\n",
       "        vertical-align: middle;\n",
       "    }\n",
       "\n",
       "    .dataframe tbody tr th {\n",
       "        vertical-align: top;\n",
       "    }\n",
       "\n",
       "    .dataframe thead th {\n",
       "        text-align: right;\n",
       "    }\n",
       "</style>\n",
       "<table border=\"1\" class=\"dataframe\">\n",
       "  <thead>\n",
       "    <tr style=\"text-align: right;\">\n",
       "      <th></th>\n",
       "      <th>Code</th>\n",
       "      <th>Title</th>\n",
       "      <th>Points</th>\n",
       "      <th>MidPoints</th>\n",
       "      <th>Level</th>\n",
       "    </tr>\n",
       "  </thead>\n",
       "  <tbody>\n",
       "    <tr>\n",
       "      <th>0</th>\n",
       "      <td>AL605</td>\n",
       "      <td>Music and Instrument Technology</td>\n",
       "      <td>211</td>\n",
       "      <td>319</td>\n",
       "      <td>6</td>\n",
       "    </tr>\n",
       "    <tr>\n",
       "      <th>1</th>\n",
       "      <td>AL630</td>\n",
       "      <td>Pharmacy Technician</td>\n",
       "      <td>308</td>\n",
       "      <td>409</td>\n",
       "      <td>6</td>\n",
       "    </tr>\n",
       "    <tr>\n",
       "      <th>2</th>\n",
       "      <td>AL631</td>\n",
       "      <td>Dental Nursing</td>\n",
       "      <td>311</td>\n",
       "      <td>400</td>\n",
       "      <td>6</td>\n",
       "    </tr>\n",
       "    <tr>\n",
       "      <th>3</th>\n",
       "      <td>AL632</td>\n",
       "      <td>Applied Science</td>\n",
       "      <td>297</td>\n",
       "      <td>454</td>\n",
       "      <td>6</td>\n",
       "    </tr>\n",
       "    <tr>\n",
       "      <th>4</th>\n",
       "      <td>AL650</td>\n",
       "      <td>Business</td>\n",
       "      <td>AQA</td>\n",
       "      <td>351</td>\n",
       "      <td>6</td>\n",
       "    </tr>\n",
       "  </tbody>\n",
       "</table>\n",
       "</div>"
      ],
      "text/plain": [
       "    Code                            Title Points MidPoints  Level\n",
       "0  AL605  Music and Instrument Technology    211       319      6\n",
       "1  AL630              Pharmacy Technician    308       409      6\n",
       "2  AL631                   Dental Nursing    311       400      6\n",
       "3  AL632                  Applied Science    297       454      6\n",
       "4  AL650                         Business    AQA       351      6"
      ]
     },
     "execution_count": 62,
     "metadata": {},
     "output_type": "execute_result"
    }
   ],
   "source": [
    "df2021.head()"
   ]
  },
  {
   "cell_type": "markdown",
   "metadata": {},
   "source": [
    "***\n",
    "\n",
    "# 2020 CAO Points\n",
    "\n",
    "https://www.cao.ie/index.php?page=points&p=2020\n",
    "\n",
    "***"
   ]
  },
  {
   "cell_type": "code",
   "execution_count": 15,
   "metadata": {},
   "outputs": [],
   "source": [
    "# Name new excel save files\n",
    "path = 'data/cao2020_' + nowstr + '.xlsx'"
   ]
  },
  {
   "cell_type": "code",
   "execution_count": 16,
   "metadata": {},
   "outputs": [
    {
     "data": {
      "text/plain": [
       "('data/cao2020_20211228_191548.xlsx',\n",
       " <http.client.HTTPMessage at 0x1fb10b5c0d0>)"
      ]
     },
     "execution_count": 16,
     "metadata": {},
     "output_type": "execute_result"
    }
   ],
   "source": [
    "# Save Excel File\n",
    "urlrq.urlretrieve('http://www2.cao.ie/points/CAOPointsCharts2020.xlsx', path)"
   ]
  },
  {
   "cell_type": "code",
   "execution_count": 53,
   "metadata": {},
   "outputs": [],
   "source": [
    "# Download and parse the excel spreadsheet\n",
    "df2020 = pd.read_excel('http://www2.cao.ie/points/CAOPointsCharts2020.xlsx', skiprows=10)"
   ]
  },
  {
   "cell_type": "code",
   "execution_count": 51,
   "metadata": {},
   "outputs": [],
   "source": [
    "# Save Pandas dataframe to file\n",
    "path = 'data/cao2020_' + nowstr + '.csv'\n",
    "\n",
    "df2020.to_csv(path)"
   ]
  },
  {
   "cell_type": "code",
   "execution_count": 55,
   "metadata": {},
   "outputs": [],
   "source": [
    "# Filter columns that we want to see\n",
    "df2020 = df2020[[\"COURSE CODE2\", \"COURSE TITLE\", \"EOS\", \"EOS Mid-point\", \"LEVEL\"]]"
   ]
  },
  {
   "cell_type": "code",
   "execution_count": 63,
   "metadata": {},
   "outputs": [],
   "source": [
    "df2020.columns = columns"
   ]
  },
  {
   "cell_type": "code",
   "execution_count": 64,
   "metadata": {},
   "outputs": [
    {
     "data": {
      "text/html": [
       "<div>\n",
       "<style scoped>\n",
       "    .dataframe tbody tr th:only-of-type {\n",
       "        vertical-align: middle;\n",
       "    }\n",
       "\n",
       "    .dataframe tbody tr th {\n",
       "        vertical-align: top;\n",
       "    }\n",
       "\n",
       "    .dataframe thead th {\n",
       "        text-align: right;\n",
       "    }\n",
       "</style>\n",
       "<table border=\"1\" class=\"dataframe\">\n",
       "  <thead>\n",
       "    <tr style=\"text-align: right;\">\n",
       "      <th></th>\n",
       "      <th>Code</th>\n",
       "      <th>Title</th>\n",
       "      <th>Points</th>\n",
       "      <th>MidPoints</th>\n",
       "      <th>Level</th>\n",
       "    </tr>\n",
       "  </thead>\n",
       "  <tbody>\n",
       "    <tr>\n",
       "      <th>0</th>\n",
       "      <td>AC120</td>\n",
       "      <td>International Business</td>\n",
       "      <td>209</td>\n",
       "      <td>280</td>\n",
       "      <td>8</td>\n",
       "    </tr>\n",
       "    <tr>\n",
       "      <th>1</th>\n",
       "      <td>AC137</td>\n",
       "      <td>Liberal Arts</td>\n",
       "      <td>252</td>\n",
       "      <td>270</td>\n",
       "      <td>8</td>\n",
       "    </tr>\n",
       "    <tr>\n",
       "      <th>2</th>\n",
       "      <td>AD101</td>\n",
       "      <td>First Year Art &amp; Design (Common Entry,portfolio)</td>\n",
       "      <td>#+matric</td>\n",
       "      <td>#+matric</td>\n",
       "      <td>8</td>\n",
       "    </tr>\n",
       "    <tr>\n",
       "      <th>3</th>\n",
       "      <td>AD102</td>\n",
       "      <td>Graphic Design and Moving Image Design (portfo...</td>\n",
       "      <td>#+matric</td>\n",
       "      <td>#+matric</td>\n",
       "      <td>8</td>\n",
       "    </tr>\n",
       "    <tr>\n",
       "      <th>4</th>\n",
       "      <td>AD103</td>\n",
       "      <td>Textile &amp; Surface Design and Jewellery &amp; Objec...</td>\n",
       "      <td>#+matric</td>\n",
       "      <td>#+matric</td>\n",
       "      <td>8</td>\n",
       "    </tr>\n",
       "  </tbody>\n",
       "</table>\n",
       "</div>"
      ],
      "text/plain": [
       "    Code                                              Title    Points  \\\n",
       "0  AC120                             International Business       209   \n",
       "1  AC137                                       Liberal Arts       252   \n",
       "2  AD101   First Year Art & Design (Common Entry,portfolio)  #+matric   \n",
       "3  AD102  Graphic Design and Moving Image Design (portfo...  #+matric   \n",
       "4  AD103  Textile & Surface Design and Jewellery & Objec...  #+matric   \n",
       "\n",
       "  MidPoints  Level  \n",
       "0       280      8  \n",
       "1       270      8  \n",
       "2  #+matric      8  \n",
       "3  #+matric      8  \n",
       "4  #+matric      8  "
      ]
     },
     "execution_count": 64,
     "metadata": {},
     "output_type": "execute_result"
    }
   ],
   "source": [
    "df2020.head()"
   ]
  },
  {
   "cell_type": "markdown",
   "metadata": {},
   "source": [
    "***\n",
    "\n",
    "# 2019 CAO Points\n",
    "\n",
    "https://www.cao.ie/index.php?page=points&p=2019\n",
    "\n",
    "***"
   ]
  },
  {
   "cell_type": "markdown",
   "metadata": {},
   "source": [
    "### Steps to reproduce\n",
    "\n",
    "1. Download original pdf file\n",
    "2. Open original pdf file in Microsoft Word\n",
    "3. Save Microsoft Word's converted pdf in docx format\n",
    "4. Re-save Word document for editing\n",
    "5. Delete headers and footers\n",
    "6. Delete preamble on page 1\n",
    "7. Select all and copy\n",
    "8. Paste into Excel\n",
    "9. Manually delete blank lines\n",
    "10. Save as xlsx document"
   ]
  },
  {
   "cell_type": "markdown",
   "metadata": {},
   "source": [
    "### Level 8 Courses"
   ]
  },
  {
   "cell_type": "code",
   "execution_count": 35,
   "metadata": {},
   "outputs": [],
   "source": [
    "# assign name for saving data\n",
    "path = 'data/cao2019_l8' + nowstr + '.tsv'"
   ]
  },
  {
   "cell_type": "code",
   "execution_count": 36,
   "metadata": {},
   "outputs": [],
   "source": [
    "# Convert downlaoded excel to dataframe\n",
    "df2019L8 = pd.read_excel('data/cao2019_20211102_200630.xlsx')"
   ]
  },
  {
   "cell_type": "code",
   "execution_count": 72,
   "metadata": {},
   "outputs": [],
   "source": [
    "# Save as csv\n",
    "df2019L8.to_csv(path, sep= '\\t')"
   ]
  },
  {
   "cell_type": "code",
   "execution_count": 65,
   "metadata": {},
   "outputs": [],
   "source": [
    "# Rename columns to match other dfs\n",
    "df2019L8.columns = columns[:-1]"
   ]
  },
  {
   "cell_type": "code",
   "execution_count": 77,
   "metadata": {},
   "outputs": [],
   "source": [
    "df2019L8[\"Level\"] = \"8\""
   ]
  },
  {
   "cell_type": "code",
   "execution_count": 76,
   "metadata": {},
   "outputs": [
    {
     "data": {
      "text/html": [
       "<div>\n",
       "<style scoped>\n",
       "    .dataframe tbody tr th:only-of-type {\n",
       "        vertical-align: middle;\n",
       "    }\n",
       "\n",
       "    .dataframe tbody tr th {\n",
       "        vertical-align: top;\n",
       "    }\n",
       "\n",
       "    .dataframe thead th {\n",
       "        text-align: right;\n",
       "    }\n",
       "</style>\n",
       "<table border=\"1\" class=\"dataframe\">\n",
       "  <thead>\n",
       "    <tr style=\"text-align: right;\">\n",
       "      <th></th>\n",
       "      <th>Code</th>\n",
       "      <th>Title</th>\n",
       "      <th>Points</th>\n",
       "      <th>MidPoints</th>\n",
       "      <th>Level</th>\n",
       "    </tr>\n",
       "  </thead>\n",
       "  <tbody>\n",
       "    <tr>\n",
       "      <th>0</th>\n",
       "      <td>AL801</td>\n",
       "      <td>Software Design with Virtual Reality and Gaming</td>\n",
       "      <td>304</td>\n",
       "      <td>328.0</td>\n",
       "      <td>8</td>\n",
       "    </tr>\n",
       "    <tr>\n",
       "      <th>1</th>\n",
       "      <td>AL802</td>\n",
       "      <td>Software Design with Cloud Computing</td>\n",
       "      <td>301</td>\n",
       "      <td>306.0</td>\n",
       "      <td>8</td>\n",
       "    </tr>\n",
       "    <tr>\n",
       "      <th>2</th>\n",
       "      <td>AL803</td>\n",
       "      <td>Software Design with Mobile Apps and Connected...</td>\n",
       "      <td>309</td>\n",
       "      <td>337.0</td>\n",
       "      <td>8</td>\n",
       "    </tr>\n",
       "    <tr>\n",
       "      <th>3</th>\n",
       "      <td>AL805</td>\n",
       "      <td>Network Management and Cloud Infrastructure</td>\n",
       "      <td>329</td>\n",
       "      <td>442.0</td>\n",
       "      <td>8</td>\n",
       "    </tr>\n",
       "    <tr>\n",
       "      <th>4</th>\n",
       "      <td>AL810</td>\n",
       "      <td>Quantity Surveying</td>\n",
       "      <td>307</td>\n",
       "      <td>349.0</td>\n",
       "      <td>8</td>\n",
       "    </tr>\n",
       "  </tbody>\n",
       "</table>\n",
       "</div>"
      ],
      "text/plain": [
       "    Code                                              Title Points  MidPoints  \\\n",
       "0  AL801    Software Design with Virtual Reality and Gaming    304      328.0   \n",
       "1  AL802               Software Design with Cloud Computing    301      306.0   \n",
       "2  AL803  Software Design with Mobile Apps and Connected...    309      337.0   \n",
       "3  AL805        Network Management and Cloud Infrastructure    329      442.0   \n",
       "4  AL810                                 Quantity Surveying    307      349.0   \n",
       "\n",
       "  Level  \n",
       "0     8  \n",
       "1     8  \n",
       "2     8  \n",
       "3     8  \n",
       "4     8  "
      ]
     },
     "execution_count": 76,
     "metadata": {},
     "output_type": "execute_result"
    }
   ],
   "source": [
    "df2019L8.head()"
   ]
  },
  {
   "cell_type": "markdown",
   "metadata": {},
   "source": [
    "### Level 6/7 Courses"
   ]
  },
  {
   "cell_type": "code",
   "execution_count": 73,
   "metadata": {},
   "outputs": [],
   "source": [
    "# assign name for saving data\n",
    "path = 'data/cao2019_l67' + nowstr + '.tsv'"
   ]
  },
  {
   "cell_type": "code",
   "execution_count": 74,
   "metadata": {},
   "outputs": [],
   "source": [
    "# Convert downlaoded excel to dataframe\n",
    "df2019L67 = pd.read_excel('data/cao2019_20211202_193530_l67.xlsx')"
   ]
  },
  {
   "cell_type": "code",
   "execution_count": 69,
   "metadata": {},
   "outputs": [],
   "source": [
    "# Save as csv\n",
    "df2019L67.to_csv(path, sep= '\\t')"
   ]
  },
  {
   "cell_type": "code",
   "execution_count": 70,
   "metadata": {},
   "outputs": [],
   "source": [
    "# Rename columns to match other dfs\n",
    "df2019L67.columns = columns[:-1]"
   ]
  },
  {
   "cell_type": "code",
   "execution_count": 78,
   "metadata": {},
   "outputs": [],
   "source": [
    "df2019L67[\"Level\"] = \"6/7\""
   ]
  },
  {
   "cell_type": "code",
   "execution_count": 79,
   "metadata": {},
   "outputs": [
    {
     "data": {
      "text/html": [
       "<div>\n",
       "<style scoped>\n",
       "    .dataframe tbody tr th:only-of-type {\n",
       "        vertical-align: middle;\n",
       "    }\n",
       "\n",
       "    .dataframe tbody tr th {\n",
       "        vertical-align: top;\n",
       "    }\n",
       "\n",
       "    .dataframe thead th {\n",
       "        text-align: right;\n",
       "    }\n",
       "</style>\n",
       "<table border=\"1\" class=\"dataframe\">\n",
       "  <thead>\n",
       "    <tr style=\"text-align: right;\">\n",
       "      <th></th>\n",
       "      <th>Course Code</th>\n",
       "      <th>INSTITUTION and COURSE</th>\n",
       "      <th>EOS</th>\n",
       "      <th>Mid</th>\n",
       "      <th>Level</th>\n",
       "    </tr>\n",
       "  </thead>\n",
       "  <tbody>\n",
       "    <tr>\n",
       "      <th>0</th>\n",
       "      <td>AL600</td>\n",
       "      <td>Software Design</td>\n",
       "      <td>205</td>\n",
       "      <td>306.0</td>\n",
       "      <td>6/7</td>\n",
       "    </tr>\n",
       "    <tr>\n",
       "      <th>1</th>\n",
       "      <td>AL601</td>\n",
       "      <td>Computer Engineering</td>\n",
       "      <td>196</td>\n",
       "      <td>272.0</td>\n",
       "      <td>6/7</td>\n",
       "    </tr>\n",
       "    <tr>\n",
       "      <th>2</th>\n",
       "      <td>AL602</td>\n",
       "      <td>Mechanical Engineering</td>\n",
       "      <td>258</td>\n",
       "      <td>424.0</td>\n",
       "      <td>6/7</td>\n",
       "    </tr>\n",
       "    <tr>\n",
       "      <th>3</th>\n",
       "      <td>AL604</td>\n",
       "      <td>Civil Engineering</td>\n",
       "      <td>252</td>\n",
       "      <td>360.0</td>\n",
       "      <td>6/7</td>\n",
       "    </tr>\n",
       "    <tr>\n",
       "      <th>4</th>\n",
       "      <td>AL630</td>\n",
       "      <td>Pharmacy Technician</td>\n",
       "      <td>306</td>\n",
       "      <td>366.0</td>\n",
       "      <td>6/7</td>\n",
       "    </tr>\n",
       "  </tbody>\n",
       "</table>\n",
       "</div>"
      ],
      "text/plain": [
       "  Course Code  INSTITUTION and COURSE  EOS    Mid Level\n",
       "0       AL600         Software Design  205  306.0   6/7\n",
       "1       AL601    Computer Engineering  196  272.0   6/7\n",
       "2       AL602  Mechanical Engineering  258  424.0   6/7\n",
       "3       AL604       Civil Engineering  252  360.0   6/7\n",
       "4       AL630     Pharmacy Technician  306  366.0   6/7"
      ]
     },
     "execution_count": 79,
     "metadata": {},
     "output_type": "execute_result"
    }
   ],
   "source": [
    "df2019L67.head()"
   ]
  },
  {
   "cell_type": "code",
   "execution_count": null,
   "metadata": {},
   "outputs": [],
   "source": []
  },
  {
   "cell_type": "code",
   "execution_count": null,
   "metadata": {},
   "outputs": [],
   "source": []
  },
  {
   "cell_type": "markdown",
   "metadata": {},
   "source": [
    "---\n",
    "# End"
   ]
  }
 ],
 "metadata": {
  "kernelspec": {
   "display_name": "Python 3",
   "language": "python",
   "name": "python3"
  },
  "language_info": {
   "codemirror_mode": {
    "name": "ipython",
    "version": 3
   },
   "file_extension": ".py",
   "mimetype": "text/x-python",
   "name": "python",
   "nbconvert_exporter": "python",
   "pygments_lexer": "ipython3",
   "version": "3.8.5"
  }
 },
 "nbformat": 4,
 "nbformat_minor": 4
}
