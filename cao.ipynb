{
 "cells": [
  {
   "cell_type": "markdown",
   "metadata": {},
   "source": [
    "# An analysis of CAO point from 2019, 2020 and 2021\n",
    "\n",
    "---"
   ]
  },
  {
   "cell_type": "code",
   "execution_count": 1,
   "metadata": {},
   "outputs": [],
   "source": [
    "# Regular expressions\n",
    "import re\n",
    "\n",
    "# For HTTP requests\n",
    "import requests as rq\n",
    "\n",
    "# Dates and Times\n",
    "import datetime as dt\n",
    "\n",
    "# Pandas\n",
    "import pandas as pd\n",
    "\n",
    "# For saving urls\n",
    "import urllib.request as urlrq\n",
    "\n",
    "# FOr only printing top few lines of large datasets\n",
    "from itertools import islice"
   ]
  },
  {
   "cell_type": "code",
   "execution_count": 2,
   "metadata": {},
   "outputs": [],
   "source": [
    "# Get current date and time\n",
    "now = dt.datetime.now()\n",
    "\n",
    "# Format as string\n",
    "nowstr = now.strftime('%Y%m%d_%H%M%S')"
   ]
  },
  {
   "cell_type": "markdown",
   "metadata": {},
   "source": [
    "***\n",
    "\n",
    "# 2021 CAO Points\n",
    "\n",
    "https://www.cao.ie/index.php?page=points&p=2021\n",
    "\n",
    "***"
   ]
  },
  {
   "cell_type": "markdown",
   "metadata": {},
   "source": [
    "## Note on HTML format for 2021 CAO Points\n",
    "\n",
    "At the time of starting this project, the CAO points for 2021 were only available in on a HTML webpage. The link above would have another link taking you to this webpage. Presently, that link now links to a .xlsx file. Although the web address for the old HTML webpage of 2021 points still works, it cannot be accessed from the main 2021 page linked to above. While the .xlsx will presumably be updated with any new points, the same cannot be said of the HTML page. I have left the code to access the HTML webpage in but for the analysis of the data, I will be using the data from the .xlsx file."
   ]
  },
  {
   "cell_type": "markdown",
   "metadata": {},
   "source": [
    "### Level 8 Courses (HTML)"
   ]
  },
  {
   "cell_type": "code",
   "execution_count": 3,
   "metadata": {},
   "outputs": [
    {
     "data": {
      "text/plain": [
       "<Response [200]>"
      ]
     },
     "execution_count": 3,
     "metadata": {},
     "output_type": "execute_result"
    }
   ],
   "source": [
    "resp = rq.get('http://www2.cao.ie/points/l8.php')\n",
    "\n",
    "# Check if working\n",
    "# Response [200] if working\n",
    "resp"
   ]
  },
  {
   "cell_type": "code",
   "execution_count": 4,
   "metadata": {},
   "outputs": [],
   "source": [
    "# Compile the regular expression for matching lines\n",
    "\n",
    "# This compiler has some issues and does not get all lines needed\n",
    "# A simpler compiler might be possible\n",
    "# re_course = re.compile('([A-Z]{2}[0-9]{3})  (.*)([0-9]{3})(\\*?) *')\n",
    "\n",
    "re_course = re.compile('([A-Z]{2}[0-9]{3}.*)')\n",
    "\n"
   ]
  },
  {
   "cell_type": "code",
   "execution_count": 5,
   "metadata": {
    "scrolled": true
   },
   "outputs": [
    {
     "name": "stdout",
     "output_type": "stream",
     "text": [
      "----------------------------------------------------------------------------- \n",
      " Total number of lines is 949.\n"
     ]
    }
   ],
   "source": [
    "# Loop through line of the response content\n",
    "no_lines = 0\n",
    "for line in resp.iter_lines():\n",
    "    dline = line.decode('cp1252')\n",
    "    # Only match lines with courses / points\n",
    "    if re_course.fullmatch(dline):\n",
    "        no_lines +=1\n",
    "        # print(line)\n",
    "        csv_version = re_course.sub(r'\\1', dline)\n",
    "        # print(csv_version)\n",
    "print(f\"----------------------------------------------------------------------------- \\n Total number of lines is {no_lines}.\")"
   ]
  },
  {
   "cell_type": "code",
   "execution_count": 6,
   "metadata": {},
   "outputs": [
    {
     "name": "stdout",
     "output_type": "stream",
     "text": [
      "Total number of lines is 949.\n"
     ]
    }
   ],
   "source": [
    "# Create file path for saving csv file\n",
    "path = 'data/cao2021_l8' + nowstr + '.csv'\n",
    "\n",
    "# Keep track of number of lines\n",
    "no_lines = 0\n",
    "\n",
    "with open(path, 'w') as f:\n",
    "    \n",
    "    for line in resp.iter_lines():\n",
    "        dline = line.decode('cp1252')\n",
    "        if re_course.fullmatch(dline):\n",
    "            no_lines = no_lines + 1\n",
    "            linesplit = re.split('  +', dline)\n",
    "            f.write(','.join(linesplit) + '\\n')\n",
    "        \n",
    "print(f\"Total number of lines is {no_lines}.\")"
   ]
  },
  {
   "cell_type": "markdown",
   "metadata": {},
   "source": [
    "### Level 6/7 Courses (HTML)"
   ]
  },
  {
   "cell_type": "code",
   "execution_count": 7,
   "metadata": {},
   "outputs": [
    {
     "data": {
      "text/plain": [
       "<Response [200]>"
      ]
     },
     "execution_count": 7,
     "metadata": {},
     "output_type": "execute_result"
    }
   ],
   "source": [
    "resp = rq.get('http://www2.cao.ie/points/l76.php')\n",
    "\n",
    "# Check if working\n",
    "# Response [200] if working\n",
    "resp"
   ]
  },
  {
   "cell_type": "code",
   "execution_count": 8,
   "metadata": {},
   "outputs": [],
   "source": [
    "# Compile the regular expression for matching lines\n",
    "\n",
    "# This compiler has some issues and does not get all lines needed\n",
    "# A simpler compiler might be possible\n",
    "# re_course = re.compile('([A-Z]{2}[0-9]{3})  (.*)([0-9]{3})(\\*?) *')\n",
    "\n",
    "re_course = re.compile('([A-Z]{2}[0-9]{3}.*)')\n",
    "\n"
   ]
  },
  {
   "cell_type": "code",
   "execution_count": 9,
   "metadata": {
    "scrolled": true
   },
   "outputs": [
    {
     "name": "stdout",
     "output_type": "stream",
     "text": [
      "----------------------------------------------------------------------------- \n",
      " Total number of lines is 416.\n"
     ]
    }
   ],
   "source": [
    "# Loop through line of the response content\n",
    "no_lines = 0\n",
    "for line in resp.iter_lines():\n",
    "    dline = line.decode('cp1252')\n",
    "    # Only match lines with courses / points\n",
    "    if re_course.fullmatch(dline):\n",
    "        no_lines +=1\n",
    "        # print(line)\n",
    "        csv_version = re_course.sub(r'\\1', dline)\n",
    "        # print(csv_version)\n",
    "print(f\"----------------------------------------------------------------------------- \\n Total number of lines is {no_lines}.\")"
   ]
  },
  {
   "cell_type": "code",
   "execution_count": 10,
   "metadata": {},
   "outputs": [
    {
     "name": "stdout",
     "output_type": "stream",
     "text": [
      "Total number of lines is 416.\n"
     ]
    }
   ],
   "source": [
    "# Create file path for saving csv file\n",
    "path = 'data/cao2021_l76' + nowstr + '.csv'\n",
    "\n",
    "# Keep track of number of lines\n",
    "no_lines = 0\n",
    "\n",
    "with open(path, 'w') as f:\n",
    "    \n",
    "    for line in resp.iter_lines():\n",
    "        dline = line.decode('cp1252')\n",
    "        if re_course.fullmatch(dline):\n",
    "            no_lines = no_lines + 1\n",
    "            linesplit = re.split('  +', dline)\n",
    "            f.write(','.join(linesplit) + '\\n')\n",
    "        \n",
    "print(f\"Total number of lines is {no_lines}.\")"
   ]
  },
  {
   "cell_type": "markdown",
   "metadata": {},
   "source": [
    "### Level 6/7/8 Courses (xlsx)"
   ]
  },
  {
   "cell_type": "code",
   "execution_count": 11,
   "metadata": {},
   "outputs": [],
   "source": [
    "# Name new excel save files\n",
    "path = 'data/cao2021_' + nowstr + '.xlsx'"
   ]
  },
  {
   "cell_type": "code",
   "execution_count": 12,
   "metadata": {},
   "outputs": [
    {
     "data": {
      "text/plain": [
       "('data/cao2021_20220101_170726.xlsx',\n",
       " <http.client.HTTPMessage at 0x25d0fb99f40>)"
      ]
     },
     "execution_count": 12,
     "metadata": {},
     "output_type": "execute_result"
    }
   ],
   "source": [
    "# Save Excel File\n",
    "urlrq.urlretrieve('http://www2.cao.ie/points/CAOPointsCharts2021.xlsx', path)"
   ]
  },
  {
   "cell_type": "code",
   "execution_count": 13,
   "metadata": {},
   "outputs": [],
   "source": [
    "# Download and parse the excel spreadsheet\n",
    "df2021 = pd.read_excel('http://www2.cao.ie/points/CAOPointsCharts2021.xlsx', skiprows=11)"
   ]
  },
  {
   "cell_type": "code",
   "execution_count": 14,
   "metadata": {},
   "outputs": [],
   "source": [
    "# Save Pandas dataframe to file\n",
    "path = 'data/cao2021_' + nowstr + '.csv'\n",
    "\n",
    "df2021.to_csv(path)"
   ]
  },
  {
   "cell_type": "code",
   "execution_count": 15,
   "metadata": {},
   "outputs": [],
   "source": [
    "# Filter columns that we want to see\n",
    "df2021 = df2021[[\"Course Code\", \"Course Title\", \"EOS Points\", \"EOS Midpoints\", \"Course Level\"]]"
   ]
  },
  {
   "cell_type": "code",
   "execution_count": 16,
   "metadata": {},
   "outputs": [],
   "source": [
    " columns = [\"Code\", \"Title\", \"Points\", \"MidPoints\", \"Level\"]"
   ]
  },
  {
   "cell_type": "code",
   "execution_count": 17,
   "metadata": {},
   "outputs": [],
   "source": [
    "df2021.columns = columns"
   ]
  },
  {
   "cell_type": "code",
   "execution_count": 18,
   "metadata": {},
   "outputs": [
    {
     "data": {
      "text/html": [
       "<div>\n",
       "<style scoped>\n",
       "    .dataframe tbody tr th:only-of-type {\n",
       "        vertical-align: middle;\n",
       "    }\n",
       "\n",
       "    .dataframe tbody tr th {\n",
       "        vertical-align: top;\n",
       "    }\n",
       "\n",
       "    .dataframe thead th {\n",
       "        text-align: right;\n",
       "    }\n",
       "</style>\n",
       "<table border=\"1\" class=\"dataframe\">\n",
       "  <thead>\n",
       "    <tr style=\"text-align: right;\">\n",
       "      <th></th>\n",
       "      <th>Code</th>\n",
       "      <th>Title</th>\n",
       "      <th>Points</th>\n",
       "      <th>MidPoints</th>\n",
       "      <th>Level</th>\n",
       "    </tr>\n",
       "  </thead>\n",
       "  <tbody>\n",
       "    <tr>\n",
       "      <th>0</th>\n",
       "      <td>AL605</td>\n",
       "      <td>Music and Instrument Technology</td>\n",
       "      <td>211</td>\n",
       "      <td>319</td>\n",
       "      <td>6</td>\n",
       "    </tr>\n",
       "    <tr>\n",
       "      <th>1</th>\n",
       "      <td>AL630</td>\n",
       "      <td>Pharmacy Technician</td>\n",
       "      <td>308</td>\n",
       "      <td>409</td>\n",
       "      <td>6</td>\n",
       "    </tr>\n",
       "    <tr>\n",
       "      <th>2</th>\n",
       "      <td>AL631</td>\n",
       "      <td>Dental Nursing</td>\n",
       "      <td>311</td>\n",
       "      <td>400</td>\n",
       "      <td>6</td>\n",
       "    </tr>\n",
       "    <tr>\n",
       "      <th>3</th>\n",
       "      <td>AL632</td>\n",
       "      <td>Applied Science</td>\n",
       "      <td>297</td>\n",
       "      <td>454</td>\n",
       "      <td>6</td>\n",
       "    </tr>\n",
       "    <tr>\n",
       "      <th>4</th>\n",
       "      <td>AL650</td>\n",
       "      <td>Business</td>\n",
       "      <td>AQA</td>\n",
       "      <td>351</td>\n",
       "      <td>6</td>\n",
       "    </tr>\n",
       "  </tbody>\n",
       "</table>\n",
       "</div>"
      ],
      "text/plain": [
       "    Code                            Title Points MidPoints  Level\n",
       "0  AL605  Music and Instrument Technology    211       319      6\n",
       "1  AL630              Pharmacy Technician    308       409      6\n",
       "2  AL631                   Dental Nursing    311       400      6\n",
       "3  AL632                  Applied Science    297       454      6\n",
       "4  AL650                         Business    AQA       351      6"
      ]
     },
     "execution_count": 18,
     "metadata": {},
     "output_type": "execute_result"
    }
   ],
   "source": [
    "df2021.head()"
   ]
  },
  {
   "cell_type": "markdown",
   "metadata": {},
   "source": [
    "***\n",
    "\n",
    "# 2020 CAO Points\n",
    "\n",
    "https://www.cao.ie/index.php?page=points&p=2020\n",
    "\n",
    "***"
   ]
  },
  {
   "cell_type": "code",
   "execution_count": 19,
   "metadata": {},
   "outputs": [],
   "source": [
    "# Name new excel save files\n",
    "path = 'data/cao2020_' + nowstr + '.xlsx'"
   ]
  },
  {
   "cell_type": "code",
   "execution_count": 20,
   "metadata": {},
   "outputs": [
    {
     "data": {
      "text/plain": [
       "('data/cao2020_20220101_170726.xlsx',\n",
       " <http.client.HTTPMessage at 0x25d21333550>)"
      ]
     },
     "execution_count": 20,
     "metadata": {},
     "output_type": "execute_result"
    }
   ],
   "source": [
    "# Save Excel File\n",
    "urlrq.urlretrieve('http://www2.cao.ie/points/CAOPointsCharts2020.xlsx', path)"
   ]
  },
  {
   "cell_type": "code",
   "execution_count": 21,
   "metadata": {},
   "outputs": [],
   "source": [
    "# Download and parse the excel spreadsheet\n",
    "df2020 = pd.read_excel('http://www2.cao.ie/points/CAOPointsCharts2020.xlsx', skiprows=10)"
   ]
  },
  {
   "cell_type": "code",
   "execution_count": 22,
   "metadata": {},
   "outputs": [],
   "source": [
    "# Save Pandas dataframe to file\n",
    "path = 'data/cao2020_' + nowstr + '.csv'\n",
    "\n",
    "df2020.to_csv(path)"
   ]
  },
  {
   "cell_type": "code",
   "execution_count": 23,
   "metadata": {},
   "outputs": [],
   "source": [
    "# Filter columns that we want to see\n",
    "df2020 = df2020[[\"COURSE CODE2\", \"COURSE TITLE\", \"EOS\", \"EOS Mid-point\", \"LEVEL\"]]"
   ]
  },
  {
   "cell_type": "code",
   "execution_count": 24,
   "metadata": {},
   "outputs": [],
   "source": [
    "df2020.columns = columns"
   ]
  },
  {
   "cell_type": "code",
   "execution_count": 25,
   "metadata": {},
   "outputs": [
    {
     "data": {
      "text/html": [
       "<div>\n",
       "<style scoped>\n",
       "    .dataframe tbody tr th:only-of-type {\n",
       "        vertical-align: middle;\n",
       "    }\n",
       "\n",
       "    .dataframe tbody tr th {\n",
       "        vertical-align: top;\n",
       "    }\n",
       "\n",
       "    .dataframe thead th {\n",
       "        text-align: right;\n",
       "    }\n",
       "</style>\n",
       "<table border=\"1\" class=\"dataframe\">\n",
       "  <thead>\n",
       "    <tr style=\"text-align: right;\">\n",
       "      <th></th>\n",
       "      <th>Code</th>\n",
       "      <th>Title</th>\n",
       "      <th>Points</th>\n",
       "      <th>MidPoints</th>\n",
       "      <th>Level</th>\n",
       "    </tr>\n",
       "  </thead>\n",
       "  <tbody>\n",
       "    <tr>\n",
       "      <th>0</th>\n",
       "      <td>AC120</td>\n",
       "      <td>International Business</td>\n",
       "      <td>209</td>\n",
       "      <td>280</td>\n",
       "      <td>8</td>\n",
       "    </tr>\n",
       "    <tr>\n",
       "      <th>1</th>\n",
       "      <td>AC137</td>\n",
       "      <td>Liberal Arts</td>\n",
       "      <td>252</td>\n",
       "      <td>270</td>\n",
       "      <td>8</td>\n",
       "    </tr>\n",
       "    <tr>\n",
       "      <th>2</th>\n",
       "      <td>AD101</td>\n",
       "      <td>First Year Art &amp; Design (Common Entry,portfolio)</td>\n",
       "      <td>#+matric</td>\n",
       "      <td>#+matric</td>\n",
       "      <td>8</td>\n",
       "    </tr>\n",
       "    <tr>\n",
       "      <th>3</th>\n",
       "      <td>AD102</td>\n",
       "      <td>Graphic Design and Moving Image Design (portfo...</td>\n",
       "      <td>#+matric</td>\n",
       "      <td>#+matric</td>\n",
       "      <td>8</td>\n",
       "    </tr>\n",
       "    <tr>\n",
       "      <th>4</th>\n",
       "      <td>AD103</td>\n",
       "      <td>Textile &amp; Surface Design and Jewellery &amp; Objec...</td>\n",
       "      <td>#+matric</td>\n",
       "      <td>#+matric</td>\n",
       "      <td>8</td>\n",
       "    </tr>\n",
       "  </tbody>\n",
       "</table>\n",
       "</div>"
      ],
      "text/plain": [
       "    Code                                              Title    Points  \\\n",
       "0  AC120                             International Business       209   \n",
       "1  AC137                                       Liberal Arts       252   \n",
       "2  AD101   First Year Art & Design (Common Entry,portfolio)  #+matric   \n",
       "3  AD102  Graphic Design and Moving Image Design (portfo...  #+matric   \n",
       "4  AD103  Textile & Surface Design and Jewellery & Objec...  #+matric   \n",
       "\n",
       "  MidPoints  Level  \n",
       "0       280      8  \n",
       "1       270      8  \n",
       "2  #+matric      8  \n",
       "3  #+matric      8  \n",
       "4  #+matric      8  "
      ]
     },
     "execution_count": 25,
     "metadata": {},
     "output_type": "execute_result"
    }
   ],
   "source": [
    "df2020.head()"
   ]
  },
  {
   "cell_type": "markdown",
   "metadata": {},
   "source": [
    "***\n",
    "\n",
    "# 2019 CAO Points\n",
    "\n",
    "https://www.cao.ie/index.php?page=points&p=2019\n",
    "\n",
    "***"
   ]
  },
  {
   "cell_type": "markdown",
   "metadata": {},
   "source": [
    "### Steps to reproduce\n",
    "\n",
    "1. Download original pdf file\n",
    "2. Open original pdf file in Microsoft Word\n",
    "3. Save Microsoft Word's converted pdf in docx format\n",
    "4. Re-save Word document for editing\n",
    "5. Delete headers and footers\n",
    "6. Delete preamble on page 1\n",
    "7. Select all and copy\n",
    "8. Paste into Excel\n",
    "9. Manually delete blank lines\n",
    "10. Save as xlsx document"
   ]
  },
  {
   "cell_type": "markdown",
   "metadata": {},
   "source": [
    "### Level 8 Courses"
   ]
  },
  {
   "cell_type": "code",
   "execution_count": 26,
   "metadata": {},
   "outputs": [],
   "source": [
    "# assign name for saving data\n",
    "path = 'data/cao2019_l8' + nowstr + '.tsv'"
   ]
  },
  {
   "cell_type": "code",
   "execution_count": 27,
   "metadata": {},
   "outputs": [],
   "source": [
    "# Convert downlaoded excel to dataframe\n",
    "df2019L8 = pd.read_excel('data/cao2019_20211102_200630.xlsx')"
   ]
  },
  {
   "cell_type": "code",
   "execution_count": 28,
   "metadata": {},
   "outputs": [],
   "source": [
    "# Save as csv\n",
    "df2019L8.to_csv(path, sep= '\\t')"
   ]
  },
  {
   "cell_type": "code",
   "execution_count": 29,
   "metadata": {},
   "outputs": [],
   "source": [
    "# Rename columns to match other dfs\n",
    "df2019L8.columns = columns[:-1]"
   ]
  },
  {
   "cell_type": "code",
   "execution_count": 30,
   "metadata": {},
   "outputs": [],
   "source": [
    "df2019L8[\"Level\"] = \"8\""
   ]
  },
  {
   "cell_type": "code",
   "execution_count": 31,
   "metadata": {},
   "outputs": [
    {
     "data": {
      "text/html": [
       "<div>\n",
       "<style scoped>\n",
       "    .dataframe tbody tr th:only-of-type {\n",
       "        vertical-align: middle;\n",
       "    }\n",
       "\n",
       "    .dataframe tbody tr th {\n",
       "        vertical-align: top;\n",
       "    }\n",
       "\n",
       "    .dataframe thead th {\n",
       "        text-align: right;\n",
       "    }\n",
       "</style>\n",
       "<table border=\"1\" class=\"dataframe\">\n",
       "  <thead>\n",
       "    <tr style=\"text-align: right;\">\n",
       "      <th></th>\n",
       "      <th>Code</th>\n",
       "      <th>Title</th>\n",
       "      <th>Points</th>\n",
       "      <th>MidPoints</th>\n",
       "      <th>Level</th>\n",
       "    </tr>\n",
       "  </thead>\n",
       "  <tbody>\n",
       "    <tr>\n",
       "      <th>0</th>\n",
       "      <td>AL801</td>\n",
       "      <td>Software Design with Virtual Reality and Gaming</td>\n",
       "      <td>304</td>\n",
       "      <td>328.0</td>\n",
       "      <td>8</td>\n",
       "    </tr>\n",
       "    <tr>\n",
       "      <th>1</th>\n",
       "      <td>AL802</td>\n",
       "      <td>Software Design with Cloud Computing</td>\n",
       "      <td>301</td>\n",
       "      <td>306.0</td>\n",
       "      <td>8</td>\n",
       "    </tr>\n",
       "    <tr>\n",
       "      <th>2</th>\n",
       "      <td>AL803</td>\n",
       "      <td>Software Design with Mobile Apps and Connected...</td>\n",
       "      <td>309</td>\n",
       "      <td>337.0</td>\n",
       "      <td>8</td>\n",
       "    </tr>\n",
       "    <tr>\n",
       "      <th>3</th>\n",
       "      <td>AL805</td>\n",
       "      <td>Network Management and Cloud Infrastructure</td>\n",
       "      <td>329</td>\n",
       "      <td>442.0</td>\n",
       "      <td>8</td>\n",
       "    </tr>\n",
       "    <tr>\n",
       "      <th>4</th>\n",
       "      <td>AL810</td>\n",
       "      <td>Quantity Surveying</td>\n",
       "      <td>307</td>\n",
       "      <td>349.0</td>\n",
       "      <td>8</td>\n",
       "    </tr>\n",
       "  </tbody>\n",
       "</table>\n",
       "</div>"
      ],
      "text/plain": [
       "    Code                                              Title Points  MidPoints  \\\n",
       "0  AL801    Software Design with Virtual Reality and Gaming    304      328.0   \n",
       "1  AL802               Software Design with Cloud Computing    301      306.0   \n",
       "2  AL803  Software Design with Mobile Apps and Connected...    309      337.0   \n",
       "3  AL805        Network Management and Cloud Infrastructure    329      442.0   \n",
       "4  AL810                                 Quantity Surveying    307      349.0   \n",
       "\n",
       "  Level  \n",
       "0     8  \n",
       "1     8  \n",
       "2     8  \n",
       "3     8  \n",
       "4     8  "
      ]
     },
     "execution_count": 31,
     "metadata": {},
     "output_type": "execute_result"
    }
   ],
   "source": [
    "df2019L8.head()"
   ]
  },
  {
   "cell_type": "markdown",
   "metadata": {},
   "source": [
    "### Level 6/7 Courses"
   ]
  },
  {
   "cell_type": "code",
   "execution_count": 32,
   "metadata": {},
   "outputs": [],
   "source": [
    "# assign name for saving data\n",
    "path = 'data/cao2019_l67' + nowstr + '.tsv'"
   ]
  },
  {
   "cell_type": "code",
   "execution_count": 33,
   "metadata": {},
   "outputs": [],
   "source": [
    "# Convert downlaoded excel to dataframe\n",
    "df2019L67 = pd.read_excel('data/cao2019_20211202_193530_l67.xlsx')"
   ]
  },
  {
   "cell_type": "code",
   "execution_count": 34,
   "metadata": {},
   "outputs": [],
   "source": [
    "# Save as csv\n",
    "df2019L67.to_csv(path, sep= '\\t')"
   ]
  },
  {
   "cell_type": "code",
   "execution_count": 35,
   "metadata": {},
   "outputs": [],
   "source": [
    "# Rename columns to match other dfs\n",
    "df2019L67.columns = columns[:-1]"
   ]
  },
  {
   "cell_type": "code",
   "execution_count": 36,
   "metadata": {},
   "outputs": [],
   "source": [
    "df2019L67[\"Level\"] = \"6/7\""
   ]
  },
  {
   "cell_type": "code",
   "execution_count": 37,
   "metadata": {},
   "outputs": [
    {
     "data": {
      "text/html": [
       "<div>\n",
       "<style scoped>\n",
       "    .dataframe tbody tr th:only-of-type {\n",
       "        vertical-align: middle;\n",
       "    }\n",
       "\n",
       "    .dataframe tbody tr th {\n",
       "        vertical-align: top;\n",
       "    }\n",
       "\n",
       "    .dataframe thead th {\n",
       "        text-align: right;\n",
       "    }\n",
       "</style>\n",
       "<table border=\"1\" class=\"dataframe\">\n",
       "  <thead>\n",
       "    <tr style=\"text-align: right;\">\n",
       "      <th></th>\n",
       "      <th>Code</th>\n",
       "      <th>Title</th>\n",
       "      <th>Points</th>\n",
       "      <th>MidPoints</th>\n",
       "      <th>Level</th>\n",
       "    </tr>\n",
       "  </thead>\n",
       "  <tbody>\n",
       "    <tr>\n",
       "      <th>0</th>\n",
       "      <td>AL600</td>\n",
       "      <td>Software Design</td>\n",
       "      <td>205</td>\n",
       "      <td>306.0</td>\n",
       "      <td>6/7</td>\n",
       "    </tr>\n",
       "    <tr>\n",
       "      <th>1</th>\n",
       "      <td>AL601</td>\n",
       "      <td>Computer Engineering</td>\n",
       "      <td>196</td>\n",
       "      <td>272.0</td>\n",
       "      <td>6/7</td>\n",
       "    </tr>\n",
       "    <tr>\n",
       "      <th>2</th>\n",
       "      <td>AL602</td>\n",
       "      <td>Mechanical Engineering</td>\n",
       "      <td>258</td>\n",
       "      <td>424.0</td>\n",
       "      <td>6/7</td>\n",
       "    </tr>\n",
       "    <tr>\n",
       "      <th>3</th>\n",
       "      <td>AL604</td>\n",
       "      <td>Civil Engineering</td>\n",
       "      <td>252</td>\n",
       "      <td>360.0</td>\n",
       "      <td>6/7</td>\n",
       "    </tr>\n",
       "    <tr>\n",
       "      <th>4</th>\n",
       "      <td>AL630</td>\n",
       "      <td>Pharmacy Technician</td>\n",
       "      <td>306</td>\n",
       "      <td>366.0</td>\n",
       "      <td>6/7</td>\n",
       "    </tr>\n",
       "  </tbody>\n",
       "</table>\n",
       "</div>"
      ],
      "text/plain": [
       "    Code                   Title Points  MidPoints Level\n",
       "0  AL600         Software Design    205      306.0   6/7\n",
       "1  AL601    Computer Engineering    196      272.0   6/7\n",
       "2  AL602  Mechanical Engineering    258      424.0   6/7\n",
       "3  AL604       Civil Engineering    252      360.0   6/7\n",
       "4  AL630     Pharmacy Technician    306      366.0   6/7"
      ]
     },
     "execution_count": 37,
     "metadata": {},
     "output_type": "execute_result"
    }
   ],
   "source": [
    "df2019L67.head()"
   ]
  },
  {
   "cell_type": "markdown",
   "metadata": {},
   "source": [
    "## Joining of Years"
   ]
  },
  {
   "cell_type": "code",
   "execution_count": 38,
   "metadata": {},
   "outputs": [],
   "source": [
    "# Append level 6/7s to level 8s\n",
    "df2019 = df2019L8.append(df2019L67)"
   ]
  },
  {
   "cell_type": "code",
   "execution_count": 39,
   "metadata": {},
   "outputs": [
    {
     "data": {
      "text/plain": [
       "Code         930\n",
       "Title        930\n",
       "Points       926\n",
       "MidPoints    915\n",
       "Level        930\n",
       "dtype: int64"
      ]
     },
     "execution_count": 39,
     "metadata": {},
     "output_type": "execute_result"
    }
   ],
   "source": [
    "df2019L8.count()"
   ]
  },
  {
   "cell_type": "code",
   "execution_count": 40,
   "metadata": {},
   "outputs": [
    {
     "data": {
      "text/plain": [
       "Code         461\n",
       "Title        461\n",
       "Points       454\n",
       "MidPoints    453\n",
       "Level        461\n",
       "dtype: int64"
      ]
     },
     "execution_count": 40,
     "metadata": {},
     "output_type": "execute_result"
    }
   ],
   "source": [
    "df2019L67.count()"
   ]
  },
  {
   "cell_type": "code",
   "execution_count": 41,
   "metadata": {},
   "outputs": [
    {
     "data": {
      "text/plain": [
       "Code         1391\n",
       "Title        1391\n",
       "Points       1380\n",
       "MidPoints    1368\n",
       "Level        1391\n",
       "dtype: int64"
      ]
     },
     "execution_count": 41,
     "metadata": {},
     "output_type": "execute_result"
    }
   ],
   "source": [
    "df2019.count()"
   ]
  },
  {
   "cell_type": "markdown",
   "metadata": {},
   "source": [
    "## Joining of Dataframes"
   ]
  },
  {
   "cell_type": "code",
   "execution_count": 42,
   "metadata": {},
   "outputs": [],
   "source": [
    "# Assign different column names in preparation for merging\n",
    "columns2021 = [\"Code\", \"Title\", \"2021Points\", \"2021MidPoints\", \"2021Level\"]\n",
    "columns2020 = [\"Code\", \"Title\", \"2020Points\", \"2020MidPoints\", \"2020Level\"]\n",
    "columns2019 = [\"Code\", \"Title\", \"2019Points\", \"2019MidPoints\", \"2019Level\"]"
   ]
  },
  {
   "cell_type": "code",
   "execution_count": 43,
   "metadata": {},
   "outputs": [],
   "source": [
    "df2021.columns = columns2021\n",
    "df2020.columns = columns2020\n",
    "df2019.columns = columns2019"
   ]
  },
  {
   "cell_type": "code",
   "execution_count": 44,
   "metadata": {},
   "outputs": [
    {
     "data": {
      "text/html": [
       "<div>\n",
       "<style scoped>\n",
       "    .dataframe tbody tr th:only-of-type {\n",
       "        vertical-align: middle;\n",
       "    }\n",
       "\n",
       "    .dataframe tbody tr th {\n",
       "        vertical-align: top;\n",
       "    }\n",
       "\n",
       "    .dataframe thead th {\n",
       "        text-align: right;\n",
       "    }\n",
       "</style>\n",
       "<table border=\"1\" class=\"dataframe\">\n",
       "  <thead>\n",
       "    <tr style=\"text-align: right;\">\n",
       "      <th></th>\n",
       "      <th>Code</th>\n",
       "      <th>Title</th>\n",
       "      <th>2021Points</th>\n",
       "      <th>2021MidPoints</th>\n",
       "      <th>2021Level</th>\n",
       "    </tr>\n",
       "  </thead>\n",
       "  <tbody>\n",
       "    <tr>\n",
       "      <th>0</th>\n",
       "      <td>AL605</td>\n",
       "      <td>Music and Instrument Technology</td>\n",
       "      <td>211</td>\n",
       "      <td>319</td>\n",
       "      <td>6</td>\n",
       "    </tr>\n",
       "    <tr>\n",
       "      <th>1</th>\n",
       "      <td>AL630</td>\n",
       "      <td>Pharmacy Technician</td>\n",
       "      <td>308</td>\n",
       "      <td>409</td>\n",
       "      <td>6</td>\n",
       "    </tr>\n",
       "    <tr>\n",
       "      <th>2</th>\n",
       "      <td>AL631</td>\n",
       "      <td>Dental Nursing</td>\n",
       "      <td>311</td>\n",
       "      <td>400</td>\n",
       "      <td>6</td>\n",
       "    </tr>\n",
       "    <tr>\n",
       "      <th>3</th>\n",
       "      <td>AL632</td>\n",
       "      <td>Applied Science</td>\n",
       "      <td>297</td>\n",
       "      <td>454</td>\n",
       "      <td>6</td>\n",
       "    </tr>\n",
       "    <tr>\n",
       "      <th>4</th>\n",
       "      <td>AL650</td>\n",
       "      <td>Business</td>\n",
       "      <td>AQA</td>\n",
       "      <td>351</td>\n",
       "      <td>6</td>\n",
       "    </tr>\n",
       "  </tbody>\n",
       "</table>\n",
       "</div>"
      ],
      "text/plain": [
       "    Code                            Title 2021Points 2021MidPoints  2021Level\n",
       "0  AL605  Music and Instrument Technology        211           319          6\n",
       "1  AL630              Pharmacy Technician        308           409          6\n",
       "2  AL631                   Dental Nursing        311           400          6\n",
       "3  AL632                  Applied Science        297           454          6\n",
       "4  AL650                         Business        AQA           351          6"
      ]
     },
     "execution_count": 44,
     "metadata": {},
     "output_type": "execute_result"
    }
   ],
   "source": [
    "df2021.head()"
   ]
  },
  {
   "cell_type": "code",
   "execution_count": 45,
   "metadata": {},
   "outputs": [
    {
     "data": {
      "text/html": [
       "<div>\n",
       "<style scoped>\n",
       "    .dataframe tbody tr th:only-of-type {\n",
       "        vertical-align: middle;\n",
       "    }\n",
       "\n",
       "    .dataframe tbody tr th {\n",
       "        vertical-align: top;\n",
       "    }\n",
       "\n",
       "    .dataframe thead th {\n",
       "        text-align: right;\n",
       "    }\n",
       "</style>\n",
       "<table border=\"1\" class=\"dataframe\">\n",
       "  <thead>\n",
       "    <tr style=\"text-align: right;\">\n",
       "      <th></th>\n",
       "      <th>Code</th>\n",
       "      <th>Title</th>\n",
       "      <th>2020Points</th>\n",
       "      <th>2020MidPoints</th>\n",
       "      <th>2020Level</th>\n",
       "    </tr>\n",
       "  </thead>\n",
       "  <tbody>\n",
       "    <tr>\n",
       "      <th>0</th>\n",
       "      <td>AC120</td>\n",
       "      <td>International Business</td>\n",
       "      <td>209</td>\n",
       "      <td>280</td>\n",
       "      <td>8</td>\n",
       "    </tr>\n",
       "    <tr>\n",
       "      <th>1</th>\n",
       "      <td>AC137</td>\n",
       "      <td>Liberal Arts</td>\n",
       "      <td>252</td>\n",
       "      <td>270</td>\n",
       "      <td>8</td>\n",
       "    </tr>\n",
       "    <tr>\n",
       "      <th>2</th>\n",
       "      <td>AD101</td>\n",
       "      <td>First Year Art &amp; Design (Common Entry,portfolio)</td>\n",
       "      <td>#+matric</td>\n",
       "      <td>#+matric</td>\n",
       "      <td>8</td>\n",
       "    </tr>\n",
       "    <tr>\n",
       "      <th>3</th>\n",
       "      <td>AD102</td>\n",
       "      <td>Graphic Design and Moving Image Design (portfo...</td>\n",
       "      <td>#+matric</td>\n",
       "      <td>#+matric</td>\n",
       "      <td>8</td>\n",
       "    </tr>\n",
       "    <tr>\n",
       "      <th>4</th>\n",
       "      <td>AD103</td>\n",
       "      <td>Textile &amp; Surface Design and Jewellery &amp; Objec...</td>\n",
       "      <td>#+matric</td>\n",
       "      <td>#+matric</td>\n",
       "      <td>8</td>\n",
       "    </tr>\n",
       "  </tbody>\n",
       "</table>\n",
       "</div>"
      ],
      "text/plain": [
       "    Code                                              Title 2020Points  \\\n",
       "0  AC120                             International Business        209   \n",
       "1  AC137                                       Liberal Arts        252   \n",
       "2  AD101   First Year Art & Design (Common Entry,portfolio)   #+matric   \n",
       "3  AD102  Graphic Design and Moving Image Design (portfo...   #+matric   \n",
       "4  AD103  Textile & Surface Design and Jewellery & Objec...   #+matric   \n",
       "\n",
       "  2020MidPoints  2020Level  \n",
       "0           280          8  \n",
       "1           270          8  \n",
       "2      #+matric          8  \n",
       "3      #+matric          8  \n",
       "4      #+matric          8  "
      ]
     },
     "execution_count": 45,
     "metadata": {},
     "output_type": "execute_result"
    }
   ],
   "source": [
    "df2020.head()"
   ]
  },
  {
   "cell_type": "code",
   "execution_count": 46,
   "metadata": {},
   "outputs": [
    {
     "data": {
      "text/html": [
       "<div>\n",
       "<style scoped>\n",
       "    .dataframe tbody tr th:only-of-type {\n",
       "        vertical-align: middle;\n",
       "    }\n",
       "\n",
       "    .dataframe tbody tr th {\n",
       "        vertical-align: top;\n",
       "    }\n",
       "\n",
       "    .dataframe thead th {\n",
       "        text-align: right;\n",
       "    }\n",
       "</style>\n",
       "<table border=\"1\" class=\"dataframe\">\n",
       "  <thead>\n",
       "    <tr style=\"text-align: right;\">\n",
       "      <th></th>\n",
       "      <th>Code</th>\n",
       "      <th>Title</th>\n",
       "      <th>2019Points</th>\n",
       "      <th>2019MidPoints</th>\n",
       "      <th>2019Level</th>\n",
       "    </tr>\n",
       "  </thead>\n",
       "  <tbody>\n",
       "    <tr>\n",
       "      <th>0</th>\n",
       "      <td>AL801</td>\n",
       "      <td>Software Design with Virtual Reality and Gaming</td>\n",
       "      <td>304</td>\n",
       "      <td>328.0</td>\n",
       "      <td>8</td>\n",
       "    </tr>\n",
       "    <tr>\n",
       "      <th>1</th>\n",
       "      <td>AL802</td>\n",
       "      <td>Software Design with Cloud Computing</td>\n",
       "      <td>301</td>\n",
       "      <td>306.0</td>\n",
       "      <td>8</td>\n",
       "    </tr>\n",
       "    <tr>\n",
       "      <th>2</th>\n",
       "      <td>AL803</td>\n",
       "      <td>Software Design with Mobile Apps and Connected...</td>\n",
       "      <td>309</td>\n",
       "      <td>337.0</td>\n",
       "      <td>8</td>\n",
       "    </tr>\n",
       "    <tr>\n",
       "      <th>3</th>\n",
       "      <td>AL805</td>\n",
       "      <td>Network Management and Cloud Infrastructure</td>\n",
       "      <td>329</td>\n",
       "      <td>442.0</td>\n",
       "      <td>8</td>\n",
       "    </tr>\n",
       "    <tr>\n",
       "      <th>4</th>\n",
       "      <td>AL810</td>\n",
       "      <td>Quantity Surveying</td>\n",
       "      <td>307</td>\n",
       "      <td>349.0</td>\n",
       "      <td>8</td>\n",
       "    </tr>\n",
       "  </tbody>\n",
       "</table>\n",
       "</div>"
      ],
      "text/plain": [
       "    Code                                              Title 2019Points  \\\n",
       "0  AL801    Software Design with Virtual Reality and Gaming        304   \n",
       "1  AL802               Software Design with Cloud Computing        301   \n",
       "2  AL803  Software Design with Mobile Apps and Connected...        309   \n",
       "3  AL805        Network Management and Cloud Infrastructure        329   \n",
       "4  AL810                                 Quantity Surveying        307   \n",
       "\n",
       "   2019MidPoints 2019Level  \n",
       "0          328.0         8  \n",
       "1          306.0         8  \n",
       "2          337.0         8  \n",
       "3          442.0         8  \n",
       "4          349.0         8  "
      ]
     },
     "execution_count": 46,
     "metadata": {},
     "output_type": "execute_result"
    }
   ],
   "source": [
    "df2019.head()"
   ]
  },
  {
   "cell_type": "code",
   "execution_count": 47,
   "metadata": {},
   "outputs": [],
   "source": [
    "dfcao = pd.merge(df2021, df2020, on=\"Code\", how=\"outer\")"
   ]
  },
  {
   "cell_type": "code",
   "execution_count": 48,
   "metadata": {},
   "outputs": [
    {
     "data": {
      "text/plain": [
       "Code             1558\n",
       "Title_x          1451\n",
       "2021Points       1422\n",
       "2021MidPoints    1433\n",
       "2021Level        1451\n",
       "Title_y          1464\n",
       "2020Points       1448\n",
       "2020MidPoints    1437\n",
       "2020Level        1464\n",
       "dtype: int64"
      ]
     },
     "execution_count": 48,
     "metadata": {},
     "output_type": "execute_result"
    }
   ],
   "source": [
    "dfcao.count()"
   ]
  },
  {
   "cell_type": "code",
   "execution_count": 49,
   "metadata": {},
   "outputs": [],
   "source": [
    "dfcao = pd.merge(dfcao, df2019, on = \"Code\", how = \"outer\")"
   ]
  },
  {
   "cell_type": "code",
   "execution_count": 50,
   "metadata": {},
   "outputs": [
    {
     "data": {
      "text/plain": [
       "Code             1812\n",
       "Title_x          1451\n",
       "2021Points       1422\n",
       "2021MidPoints    1433\n",
       "2021Level        1451\n",
       "Title_y          1464\n",
       "2020Points       1448\n",
       "2020MidPoints    1437\n",
       "2020Level        1464\n",
       "Title            1391\n",
       "2019Points       1380\n",
       "2019MidPoints    1368\n",
       "2019Level        1391\n",
       "dtype: int64"
      ]
     },
     "execution_count": 50,
     "metadata": {},
     "output_type": "execute_result"
    }
   ],
   "source": [
    "dfcao.count()"
   ]
  },
  {
   "cell_type": "markdown",
   "metadata": {},
   "source": [
    "### Removing NaNs\n",
    "For the analysis of the points across the years, means etc will be thrown off if we include some courses that are present in some years and not in others. We will create a dataframe that only has courses that were present across all 3 years. We will also have to drop any courses that have non-number points as these cannot be analysed. Likewise for courses requiring portfolios (denoted with a # in the dataset) as we do not know the graded of these portfolios."
   ]
  },
  {
   "cell_type": "code",
   "execution_count": 51,
   "metadata": {},
   "outputs": [],
   "source": [
    "dfcao = dfcao.dropna()"
   ]
  },
  {
   "cell_type": "code",
   "execution_count": 52,
   "metadata": {},
   "outputs": [],
   "source": [
    "# search for rows not containing AQA and # in selected columns\n",
    "# ~ returns the opposite of the search\n",
    "dfcao = dfcao[~dfcao['2021Points'].str.contains(\"AQA\", na=False)]\n",
    "dfcao = dfcao[~dfcao['2020Points'].str.contains(\"AQA\", na=False)]\n",
    "dfcao = dfcao[~dfcao['2019Points'].str.contains(\"AQA\", na=False)]\n",
    "\n",
    "dfcao = dfcao[~dfcao['2021Points'].str.contains(\"#\", na=False)]\n",
    "dfcao = dfcao[~dfcao['2020Points'].str.contains(\"#\", na=False)]\n",
    "dfcao = dfcao[~dfcao['2019Points'].str.contains(\"#\", na=False)]"
   ]
  },
  {
   "cell_type": "code",
   "execution_count": 53,
   "metadata": {},
   "outputs": [
    {
     "data": {
      "text/plain": [
       "Code             936\n",
       "Title_x          936\n",
       "2021Points       936\n",
       "2021MidPoints    936\n",
       "2021Level        936\n",
       "Title_y          936\n",
       "2020Points       936\n",
       "2020MidPoints    936\n",
       "2020Level        936\n",
       "Title            936\n",
       "2019Points       936\n",
       "2019MidPoints    936\n",
       "2019Level        936\n",
       "dtype: int64"
      ]
     },
     "execution_count": 53,
     "metadata": {},
     "output_type": "execute_result"
    }
   ],
   "source": [
    "dfcao.count()"
   ]
  },
  {
   "cell_type": "code",
   "execution_count": 54,
   "metadata": {},
   "outputs": [],
   "source": [
    "dfcao = dfcao.drop([\"Title_y\", \"Title\"], axis = 1)"
   ]
  },
  {
   "cell_type": "code",
   "execution_count": 55,
   "metadata": {},
   "outputs": [
    {
     "data": {
      "text/html": [
       "<div>\n",
       "<style scoped>\n",
       "    .dataframe tbody tr th:only-of-type {\n",
       "        vertical-align: middle;\n",
       "    }\n",
       "\n",
       "    .dataframe tbody tr th {\n",
       "        vertical-align: top;\n",
       "    }\n",
       "\n",
       "    .dataframe thead th {\n",
       "        text-align: right;\n",
       "    }\n",
       "</style>\n",
       "<table border=\"1\" class=\"dataframe\">\n",
       "  <thead>\n",
       "    <tr style=\"text-align: right;\">\n",
       "      <th></th>\n",
       "      <th>Code</th>\n",
       "      <th>Title_x</th>\n",
       "      <th>2021Points</th>\n",
       "      <th>2021MidPoints</th>\n",
       "      <th>2021Level</th>\n",
       "      <th>2020Points</th>\n",
       "      <th>2020MidPoints</th>\n",
       "      <th>2020Level</th>\n",
       "      <th>2019Points</th>\n",
       "      <th>2019MidPoints</th>\n",
       "      <th>2019Level</th>\n",
       "    </tr>\n",
       "  </thead>\n",
       "  <tbody>\n",
       "    <tr>\n",
       "      <th>1</th>\n",
       "      <td>AL630</td>\n",
       "      <td>Pharmacy Technician</td>\n",
       "      <td>308</td>\n",
       "      <td>409</td>\n",
       "      <td>6.0</td>\n",
       "      <td>295</td>\n",
       "      <td>379</td>\n",
       "      <td>6.0</td>\n",
       "      <td>306</td>\n",
       "      <td>366.0</td>\n",
       "      <td>6/7</td>\n",
       "    </tr>\n",
       "    <tr>\n",
       "      <th>2</th>\n",
       "      <td>AL631</td>\n",
       "      <td>Dental Nursing</td>\n",
       "      <td>311</td>\n",
       "      <td>400</td>\n",
       "      <td>6.0</td>\n",
       "      <td>298</td>\n",
       "      <td>388</td>\n",
       "      <td>6.0</td>\n",
       "      <td>326</td>\n",
       "      <td>379.0</td>\n",
       "      <td>6/7</td>\n",
       "    </tr>\n",
       "    <tr>\n",
       "      <th>3</th>\n",
       "      <td>AL632</td>\n",
       "      <td>Applied Science</td>\n",
       "      <td>297</td>\n",
       "      <td>454</td>\n",
       "      <td>6.0</td>\n",
       "      <td>234</td>\n",
       "      <td>434</td>\n",
       "      <td>6.0</td>\n",
       "      <td>243</td>\n",
       "      <td>372.0</td>\n",
       "      <td>6/7</td>\n",
       "    </tr>\n",
       "    <tr>\n",
       "      <th>8</th>\n",
       "      <td>AL701</td>\n",
       "      <td>Computer Engineering for Network Infrastructure</td>\n",
       "      <td>207</td>\n",
       "      <td>382</td>\n",
       "      <td>7.0</td>\n",
       "      <td>216</td>\n",
       "      <td>337</td>\n",
       "      <td>7.0</td>\n",
       "      <td>235</td>\n",
       "      <td>310.0</td>\n",
       "      <td>6/7</td>\n",
       "    </tr>\n",
       "    <tr>\n",
       "      <th>11</th>\n",
       "      <td>AL704</td>\n",
       "      <td>Computer Engineering</td>\n",
       "      <td>210</td>\n",
       "      <td>368</td>\n",
       "      <td>7.0</td>\n",
       "      <td>204</td>\n",
       "      <td>403</td>\n",
       "      <td>7.0</td>\n",
       "      <td>205</td>\n",
       "      <td>307.0</td>\n",
       "      <td>6/7</td>\n",
       "    </tr>\n",
       "    <tr>\n",
       "      <th>...</th>\n",
       "      <td>...</td>\n",
       "      <td>...</td>\n",
       "      <td>...</td>\n",
       "      <td>...</td>\n",
       "      <td>...</td>\n",
       "      <td>...</td>\n",
       "      <td>...</td>\n",
       "      <td>...</td>\n",
       "      <td>...</td>\n",
       "      <td>...</td>\n",
       "      <td>...</td>\n",
       "    </tr>\n",
       "    <tr>\n",
       "      <th>1444</th>\n",
       "      <td>WD208</td>\n",
       "      <td>Manufacturing Engineering</td>\n",
       "      <td>317</td>\n",
       "      <td>368</td>\n",
       "      <td>7.0</td>\n",
       "      <td>188</td>\n",
       "      <td>339</td>\n",
       "      <td>7.0</td>\n",
       "      <td>195</td>\n",
       "      <td>330.0</td>\n",
       "      <td>6/7</td>\n",
       "    </tr>\n",
       "    <tr>\n",
       "      <th>1445</th>\n",
       "      <td>WD210</td>\n",
       "      <td>Software Systems Development</td>\n",
       "      <td>260</td>\n",
       "      <td>373</td>\n",
       "      <td>8.0</td>\n",
       "      <td>279</td>\n",
       "      <td>337</td>\n",
       "      <td>8.0</td>\n",
       "      <td>271</td>\n",
       "      <td>329.0</td>\n",
       "      <td>8</td>\n",
       "    </tr>\n",
       "    <tr>\n",
       "      <th>1446</th>\n",
       "      <td>WD211</td>\n",
       "      <td>Creative Computing</td>\n",
       "      <td>270</td>\n",
       "      <td>392</td>\n",
       "      <td>8.0</td>\n",
       "      <td>271</td>\n",
       "      <td>318</td>\n",
       "      <td>8.0</td>\n",
       "      <td>275</td>\n",
       "      <td>322.0</td>\n",
       "      <td>8</td>\n",
       "    </tr>\n",
       "    <tr>\n",
       "      <th>1447</th>\n",
       "      <td>WD212</td>\n",
       "      <td>Recreation and Sport Management</td>\n",
       "      <td>262</td>\n",
       "      <td>304</td>\n",
       "      <td>8.0</td>\n",
       "      <td>270</td>\n",
       "      <td>349</td>\n",
       "      <td>8.0</td>\n",
       "      <td>274</td>\n",
       "      <td>311.0</td>\n",
       "      <td>8</td>\n",
       "    </tr>\n",
       "    <tr>\n",
       "      <th>1448</th>\n",
       "      <td>WD230</td>\n",
       "      <td>Mechanical and Manufacturing Engineering</td>\n",
       "      <td>230</td>\n",
       "      <td>361</td>\n",
       "      <td>8.0</td>\n",
       "      <td>253</td>\n",
       "      <td>369</td>\n",
       "      <td>8.0</td>\n",
       "      <td>273</td>\n",
       "      <td>348.0</td>\n",
       "      <td>8</td>\n",
       "    </tr>\n",
       "  </tbody>\n",
       "</table>\n",
       "<p>936 rows × 11 columns</p>\n",
       "</div>"
      ],
      "text/plain": [
       "       Code                                          Title_x 2021Points  \\\n",
       "1     AL630                              Pharmacy Technician        308   \n",
       "2     AL631                                   Dental Nursing        311   \n",
       "3     AL632                                  Applied Science        297   \n",
       "8     AL701  Computer Engineering for Network Infrastructure        207   \n",
       "11    AL704                             Computer Engineering        210   \n",
       "...     ...                                              ...        ...   \n",
       "1444  WD208                        Manufacturing Engineering        317   \n",
       "1445  WD210                     Software Systems Development        260   \n",
       "1446  WD211                               Creative Computing        270   \n",
       "1447  WD212                  Recreation and Sport Management        262   \n",
       "1448  WD230         Mechanical and Manufacturing Engineering        230   \n",
       "\n",
       "     2021MidPoints  2021Level 2020Points 2020MidPoints  2020Level 2019Points  \\\n",
       "1              409        6.0        295           379        6.0        306   \n",
       "2              400        6.0        298           388        6.0        326   \n",
       "3              454        6.0        234           434        6.0        243   \n",
       "8              382        7.0        216           337        7.0        235   \n",
       "11             368        7.0        204           403        7.0        205   \n",
       "...            ...        ...        ...           ...        ...        ...   \n",
       "1444           368        7.0        188           339        7.0        195   \n",
       "1445           373        8.0        279           337        8.0        271   \n",
       "1446           392        8.0        271           318        8.0        275   \n",
       "1447           304        8.0        270           349        8.0        274   \n",
       "1448           361        8.0        253           369        8.0        273   \n",
       "\n",
       "      2019MidPoints 2019Level  \n",
       "1             366.0       6/7  \n",
       "2             379.0       6/7  \n",
       "3             372.0       6/7  \n",
       "8             310.0       6/7  \n",
       "11            307.0       6/7  \n",
       "...             ...       ...  \n",
       "1444          330.0       6/7  \n",
       "1445          329.0         8  \n",
       "1446          322.0         8  \n",
       "1447          311.0         8  \n",
       "1448          348.0         8  \n",
       "\n",
       "[936 rows x 11 columns]"
      ]
     },
     "execution_count": 55,
     "metadata": {},
     "output_type": "execute_result"
    }
   ],
   "source": [
    "dfcao"
   ]
  },
  {
   "cell_type": "code",
   "execution_count": 56,
   "metadata": {},
   "outputs": [],
   "source": [
    " #Enabling this option allows for a scan of all rows in dataframe\n",
    " pd.options.display.max_rows = None"
   ]
  },
  {
   "cell_type": "code",
   "execution_count": 57,
   "metadata": {},
   "outputs": [
    {
     "data": {
      "text/html": [
       "<div>\n",
       "<style scoped>\n",
       "    .dataframe tbody tr th:only-of-type {\n",
       "        vertical-align: middle;\n",
       "    }\n",
       "\n",
       "    .dataframe tbody tr th {\n",
       "        vertical-align: top;\n",
       "    }\n",
       "\n",
       "    .dataframe thead th {\n",
       "        text-align: right;\n",
       "    }\n",
       "</style>\n",
       "<table border=\"1\" class=\"dataframe\">\n",
       "  <thead>\n",
       "    <tr style=\"text-align: right;\">\n",
       "      <th></th>\n",
       "      <th>Code</th>\n",
       "      <th>Title_x</th>\n",
       "      <th>2021Points</th>\n",
       "      <th>2021MidPoints</th>\n",
       "      <th>2021Level</th>\n",
       "      <th>2020Points</th>\n",
       "      <th>2020MidPoints</th>\n",
       "      <th>2020Level</th>\n",
       "      <th>2019Points</th>\n",
       "      <th>2019MidPoints</th>\n",
       "      <th>2019Level</th>\n",
       "    </tr>\n",
       "  </thead>\n",
       "  <tbody>\n",
       "  </tbody>\n",
       "</table>\n",
       "</div>"
      ],
      "text/plain": [
       "Empty DataFrame\n",
       "Columns: [Code, Title_x, 2021Points, 2021MidPoints, 2021Level, 2020Points, 2020MidPoints, 2020Level, 2019Points, 2019MidPoints, 2019Level]\n",
       "Index: []"
      ]
     },
     "execution_count": 57,
     "metadata": {},
     "output_type": "execute_result"
    }
   ],
   "source": [
    "# Check for different levels in courses across years\n",
    "dfcao.loc[(dfcao[\"2021Level\"] == 8.0) & (dfcao[\"2020Level\"] != 8.0)]"
   ]
  },
  {
   "cell_type": "code",
   "execution_count": 58,
   "metadata": {},
   "outputs": [
    {
     "data": {
      "text/html": [
       "<div>\n",
       "<style scoped>\n",
       "    .dataframe tbody tr th:only-of-type {\n",
       "        vertical-align: middle;\n",
       "    }\n",
       "\n",
       "    .dataframe tbody tr th {\n",
       "        vertical-align: top;\n",
       "    }\n",
       "\n",
       "    .dataframe thead th {\n",
       "        text-align: right;\n",
       "    }\n",
       "</style>\n",
       "<table border=\"1\" class=\"dataframe\">\n",
       "  <thead>\n",
       "    <tr style=\"text-align: right;\">\n",
       "      <th></th>\n",
       "      <th>Code</th>\n",
       "      <th>Title_x</th>\n",
       "      <th>2021Points</th>\n",
       "      <th>2021MidPoints</th>\n",
       "      <th>2021Level</th>\n",
       "      <th>2020Points</th>\n",
       "      <th>2020MidPoints</th>\n",
       "      <th>2020Level</th>\n",
       "      <th>2019Points</th>\n",
       "      <th>2019MidPoints</th>\n",
       "      <th>2019Level</th>\n",
       "    </tr>\n",
       "  </thead>\n",
       "  <tbody>\n",
       "  </tbody>\n",
       "</table>\n",
       "</div>"
      ],
      "text/plain": [
       "Empty DataFrame\n",
       "Columns: [Code, Title_x, 2021Points, 2021MidPoints, 2021Level, 2020Points, 2020MidPoints, 2020Level, 2019Points, 2019MidPoints, 2019Level]\n",
       "Index: []"
      ]
     },
     "execution_count": 58,
     "metadata": {},
     "output_type": "execute_result"
    }
   ],
   "source": [
    "dfcao.loc[(dfcao[\"2021Level\"] == 8.0) & (dfcao[\"2019Level\"] != \"8\")]"
   ]
  },
  {
   "cell_type": "code",
   "execution_count": 59,
   "metadata": {},
   "outputs": [
    {
     "data": {
      "text/html": [
       "<div>\n",
       "<style scoped>\n",
       "    .dataframe tbody tr th:only-of-type {\n",
       "        vertical-align: middle;\n",
       "    }\n",
       "\n",
       "    .dataframe tbody tr th {\n",
       "        vertical-align: top;\n",
       "    }\n",
       "\n",
       "    .dataframe thead th {\n",
       "        text-align: right;\n",
       "    }\n",
       "</style>\n",
       "<table border=\"1\" class=\"dataframe\">\n",
       "  <thead>\n",
       "    <tr style=\"text-align: right;\">\n",
       "      <th></th>\n",
       "      <th>Code</th>\n",
       "      <th>Title_x</th>\n",
       "      <th>2021Points</th>\n",
       "      <th>2021MidPoints</th>\n",
       "      <th>2021Level</th>\n",
       "      <th>2020Points</th>\n",
       "      <th>2020MidPoints</th>\n",
       "      <th>2020Level</th>\n",
       "      <th>2019Points</th>\n",
       "      <th>2019MidPoints</th>\n",
       "      <th>2019Level</th>\n",
       "    </tr>\n",
       "  </thead>\n",
       "  <tbody>\n",
       "  </tbody>\n",
       "</table>\n",
       "</div>"
      ],
      "text/plain": [
       "Empty DataFrame\n",
       "Columns: [Code, Title_x, 2021Points, 2021MidPoints, 2021Level, 2020Points, 2020MidPoints, 2020Level, 2019Points, 2019MidPoints, 2019Level]\n",
       "Index: []"
      ]
     },
     "execution_count": 59,
     "metadata": {},
     "output_type": "execute_result"
    }
   ],
   "source": [
    "dfcao.loc[(dfcao[\"2021Level\"] == 7.0) & (dfcao[\"2020Level\"] != 7.0)]"
   ]
  },
  {
   "cell_type": "code",
   "execution_count": 60,
   "metadata": {},
   "outputs": [
    {
     "data": {
      "text/html": [
       "<div>\n",
       "<style scoped>\n",
       "    .dataframe tbody tr th:only-of-type {\n",
       "        vertical-align: middle;\n",
       "    }\n",
       "\n",
       "    .dataframe tbody tr th {\n",
       "        vertical-align: top;\n",
       "    }\n",
       "\n",
       "    .dataframe thead th {\n",
       "        text-align: right;\n",
       "    }\n",
       "</style>\n",
       "<table border=\"1\" class=\"dataframe\">\n",
       "  <thead>\n",
       "    <tr style=\"text-align: right;\">\n",
       "      <th></th>\n",
       "      <th>Code</th>\n",
       "      <th>Title_x</th>\n",
       "      <th>2021Points</th>\n",
       "      <th>2021MidPoints</th>\n",
       "      <th>2021Level</th>\n",
       "      <th>2020Points</th>\n",
       "      <th>2020MidPoints</th>\n",
       "      <th>2020Level</th>\n",
       "      <th>2019Points</th>\n",
       "      <th>2019MidPoints</th>\n",
       "      <th>2019Level</th>\n",
       "    </tr>\n",
       "  </thead>\n",
       "  <tbody>\n",
       "  </tbody>\n",
       "</table>\n",
       "</div>"
      ],
      "text/plain": [
       "Empty DataFrame\n",
       "Columns: [Code, Title_x, 2021Points, 2021MidPoints, 2021Level, 2020Points, 2020MidPoints, 2020Level, 2019Points, 2019MidPoints, 2019Level]\n",
       "Index: []"
      ]
     },
     "execution_count": 60,
     "metadata": {},
     "output_type": "execute_result"
    }
   ],
   "source": [
    "dfcao.loc[(dfcao[\"2021Level\"] == 6.0) & (dfcao[\"2020Level\"] != 6.0)]"
   ]
  },
  {
   "cell_type": "code",
   "execution_count": 61,
   "metadata": {},
   "outputs": [
    {
     "data": {
      "text/html": [
       "<div>\n",
       "<style scoped>\n",
       "    .dataframe tbody tr th:only-of-type {\n",
       "        vertical-align: middle;\n",
       "    }\n",
       "\n",
       "    .dataframe tbody tr th {\n",
       "        vertical-align: top;\n",
       "    }\n",
       "\n",
       "    .dataframe thead th {\n",
       "        text-align: right;\n",
       "    }\n",
       "</style>\n",
       "<table border=\"1\" class=\"dataframe\">\n",
       "  <thead>\n",
       "    <tr style=\"text-align: right;\">\n",
       "      <th></th>\n",
       "      <th>Code</th>\n",
       "      <th>Title_x</th>\n",
       "      <th>2021Points</th>\n",
       "      <th>2021MidPoints</th>\n",
       "      <th>2021Level</th>\n",
       "      <th>2020Points</th>\n",
       "      <th>2020MidPoints</th>\n",
       "      <th>2020Level</th>\n",
       "      <th>2019Points</th>\n",
       "      <th>2019MidPoints</th>\n",
       "      <th>2019Level</th>\n",
       "    </tr>\n",
       "  </thead>\n",
       "  <tbody>\n",
       "  </tbody>\n",
       "</table>\n",
       "</div>"
      ],
      "text/plain": [
       "Empty DataFrame\n",
       "Columns: [Code, Title_x, 2021Points, 2021MidPoints, 2021Level, 2020Points, 2020MidPoints, 2020Level, 2019Points, 2019MidPoints, 2019Level]\n",
       "Index: []"
      ]
     },
     "execution_count": 61,
     "metadata": {},
     "output_type": "execute_result"
    }
   ],
   "source": [
    "dfcao.loc[(dfcao[\"2021Level\"] == 7.0) & (dfcao[\"2019Level\"] != \"6/7\")]"
   ]
  },
  {
   "cell_type": "code",
   "execution_count": 62,
   "metadata": {},
   "outputs": [
    {
     "data": {
      "text/html": [
       "<div>\n",
       "<style scoped>\n",
       "    .dataframe tbody tr th:only-of-type {\n",
       "        vertical-align: middle;\n",
       "    }\n",
       "\n",
       "    .dataframe tbody tr th {\n",
       "        vertical-align: top;\n",
       "    }\n",
       "\n",
       "    .dataframe thead th {\n",
       "        text-align: right;\n",
       "    }\n",
       "</style>\n",
       "<table border=\"1\" class=\"dataframe\">\n",
       "  <thead>\n",
       "    <tr style=\"text-align: right;\">\n",
       "      <th></th>\n",
       "      <th>Code</th>\n",
       "      <th>Title_x</th>\n",
       "      <th>2021Points</th>\n",
       "      <th>2021MidPoints</th>\n",
       "      <th>2021Level</th>\n",
       "      <th>2020Points</th>\n",
       "      <th>2020MidPoints</th>\n",
       "      <th>2020Level</th>\n",
       "      <th>2019Points</th>\n",
       "      <th>2019MidPoints</th>\n",
       "      <th>2019Level</th>\n",
       "    </tr>\n",
       "  </thead>\n",
       "  <tbody>\n",
       "  </tbody>\n",
       "</table>\n",
       "</div>"
      ],
      "text/plain": [
       "Empty DataFrame\n",
       "Columns: [Code, Title_x, 2021Points, 2021MidPoints, 2021Level, 2020Points, 2020MidPoints, 2020Level, 2019Points, 2019MidPoints, 2019Level]\n",
       "Index: []"
      ]
     },
     "execution_count": 62,
     "metadata": {},
     "output_type": "execute_result"
    }
   ],
   "source": [
    "dfcao.loc[(dfcao[\"2021Level\"] == 6.0) & (dfcao[\"2019Level\"] != \"6/7\")]"
   ]
  },
  {
   "cell_type": "markdown",
   "metadata": {},
   "source": [
    "Because all course levels are the same across the years, we can remove the 2020 and 2019 levels."
   ]
  },
  {
   "cell_type": "code",
   "execution_count": 63,
   "metadata": {},
   "outputs": [],
   "source": [
    "#Remove 2020 and 2019 levels\n",
    "dfcao = dfcao.drop([\"2020Level\", \"2019Level\"], axis = 1)"
   ]
  },
  {
   "cell_type": "code",
   "execution_count": 64,
   "metadata": {},
   "outputs": [
    {
     "data": {
      "text/html": [
       "<div>\n",
       "<style scoped>\n",
       "    .dataframe tbody tr th:only-of-type {\n",
       "        vertical-align: middle;\n",
       "    }\n",
       "\n",
       "    .dataframe tbody tr th {\n",
       "        vertical-align: top;\n",
       "    }\n",
       "\n",
       "    .dataframe thead th {\n",
       "        text-align: right;\n",
       "    }\n",
       "</style>\n",
       "<table border=\"1\" class=\"dataframe\">\n",
       "  <thead>\n",
       "    <tr style=\"text-align: right;\">\n",
       "      <th></th>\n",
       "      <th>Code</th>\n",
       "      <th>Title_x</th>\n",
       "      <th>2021Points</th>\n",
       "      <th>2021MidPoints</th>\n",
       "      <th>2021Level</th>\n",
       "      <th>2020Points</th>\n",
       "      <th>2020MidPoints</th>\n",
       "      <th>2019Points</th>\n",
       "      <th>2019MidPoints</th>\n",
       "    </tr>\n",
       "  </thead>\n",
       "  <tbody>\n",
       "    <tr>\n",
       "      <th>1</th>\n",
       "      <td>AL630</td>\n",
       "      <td>Pharmacy Technician</td>\n",
       "      <td>308</td>\n",
       "      <td>409</td>\n",
       "      <td>6.0</td>\n",
       "      <td>295</td>\n",
       "      <td>379</td>\n",
       "      <td>306</td>\n",
       "      <td>366.0</td>\n",
       "    </tr>\n",
       "    <tr>\n",
       "      <th>2</th>\n",
       "      <td>AL631</td>\n",
       "      <td>Dental Nursing</td>\n",
       "      <td>311</td>\n",
       "      <td>400</td>\n",
       "      <td>6.0</td>\n",
       "      <td>298</td>\n",
       "      <td>388</td>\n",
       "      <td>326</td>\n",
       "      <td>379.0</td>\n",
       "    </tr>\n",
       "    <tr>\n",
       "      <th>3</th>\n",
       "      <td>AL632</td>\n",
       "      <td>Applied Science</td>\n",
       "      <td>297</td>\n",
       "      <td>454</td>\n",
       "      <td>6.0</td>\n",
       "      <td>234</td>\n",
       "      <td>434</td>\n",
       "      <td>243</td>\n",
       "      <td>372.0</td>\n",
       "    </tr>\n",
       "    <tr>\n",
       "      <th>8</th>\n",
       "      <td>AL701</td>\n",
       "      <td>Computer Engineering for Network Infrastructure</td>\n",
       "      <td>207</td>\n",
       "      <td>382</td>\n",
       "      <td>7.0</td>\n",
       "      <td>216</td>\n",
       "      <td>337</td>\n",
       "      <td>235</td>\n",
       "      <td>310.0</td>\n",
       "    </tr>\n",
       "    <tr>\n",
       "      <th>11</th>\n",
       "      <td>AL704</td>\n",
       "      <td>Computer Engineering</td>\n",
       "      <td>210</td>\n",
       "      <td>368</td>\n",
       "      <td>7.0</td>\n",
       "      <td>204</td>\n",
       "      <td>403</td>\n",
       "      <td>205</td>\n",
       "      <td>307.0</td>\n",
       "    </tr>\n",
       "  </tbody>\n",
       "</table>\n",
       "</div>"
      ],
      "text/plain": [
       "     Code                                          Title_x 2021Points  \\\n",
       "1   AL630                              Pharmacy Technician        308   \n",
       "2   AL631                                   Dental Nursing        311   \n",
       "3   AL632                                  Applied Science        297   \n",
       "8   AL701  Computer Engineering for Network Infrastructure        207   \n",
       "11  AL704                             Computer Engineering        210   \n",
       "\n",
       "   2021MidPoints  2021Level 2020Points 2020MidPoints 2019Points  2019MidPoints  \n",
       "1            409        6.0        295           379        306          366.0  \n",
       "2            400        6.0        298           388        326          379.0  \n",
       "3            454        6.0        234           434        243          372.0  \n",
       "8            382        7.0        216           337        235          310.0  \n",
       "11           368        7.0        204           403        205          307.0  "
      ]
     },
     "execution_count": 64,
     "metadata": {},
     "output_type": "execute_result"
    }
   ],
   "source": [
    "dfcao.head()"
   ]
  },
  {
   "cell_type": "code",
   "execution_count": 65,
   "metadata": {},
   "outputs": [],
   "source": [
    "# Rename title and level columns\n",
    "dfcao = dfcao.rename(columns = {\"Title_x\": \"Title\", \"2021Level\": \"Level\"})"
   ]
  },
  {
   "cell_type": "code",
   "execution_count": 66,
   "metadata": {},
   "outputs": [
    {
     "data": {
      "text/html": [
       "<div>\n",
       "<style scoped>\n",
       "    .dataframe tbody tr th:only-of-type {\n",
       "        vertical-align: middle;\n",
       "    }\n",
       "\n",
       "    .dataframe tbody tr th {\n",
       "        vertical-align: top;\n",
       "    }\n",
       "\n",
       "    .dataframe thead th {\n",
       "        text-align: right;\n",
       "    }\n",
       "</style>\n",
       "<table border=\"1\" class=\"dataframe\">\n",
       "  <thead>\n",
       "    <tr style=\"text-align: right;\">\n",
       "      <th></th>\n",
       "      <th>Code</th>\n",
       "      <th>Title</th>\n",
       "      <th>2021Points</th>\n",
       "      <th>2021MidPoints</th>\n",
       "      <th>Level</th>\n",
       "      <th>2020Points</th>\n",
       "      <th>2020MidPoints</th>\n",
       "      <th>2019Points</th>\n",
       "      <th>2019MidPoints</th>\n",
       "    </tr>\n",
       "  </thead>\n",
       "  <tbody>\n",
       "    <tr>\n",
       "      <th>1</th>\n",
       "      <td>AL630</td>\n",
       "      <td>Pharmacy Technician</td>\n",
       "      <td>308</td>\n",
       "      <td>409</td>\n",
       "      <td>6.0</td>\n",
       "      <td>295</td>\n",
       "      <td>379</td>\n",
       "      <td>306</td>\n",
       "      <td>366.0</td>\n",
       "    </tr>\n",
       "    <tr>\n",
       "      <th>2</th>\n",
       "      <td>AL631</td>\n",
       "      <td>Dental Nursing</td>\n",
       "      <td>311</td>\n",
       "      <td>400</td>\n",
       "      <td>6.0</td>\n",
       "      <td>298</td>\n",
       "      <td>388</td>\n",
       "      <td>326</td>\n",
       "      <td>379.0</td>\n",
       "    </tr>\n",
       "    <tr>\n",
       "      <th>3</th>\n",
       "      <td>AL632</td>\n",
       "      <td>Applied Science</td>\n",
       "      <td>297</td>\n",
       "      <td>454</td>\n",
       "      <td>6.0</td>\n",
       "      <td>234</td>\n",
       "      <td>434</td>\n",
       "      <td>243</td>\n",
       "      <td>372.0</td>\n",
       "    </tr>\n",
       "    <tr>\n",
       "      <th>8</th>\n",
       "      <td>AL701</td>\n",
       "      <td>Computer Engineering for Network Infrastructure</td>\n",
       "      <td>207</td>\n",
       "      <td>382</td>\n",
       "      <td>7.0</td>\n",
       "      <td>216</td>\n",
       "      <td>337</td>\n",
       "      <td>235</td>\n",
       "      <td>310.0</td>\n",
       "    </tr>\n",
       "    <tr>\n",
       "      <th>11</th>\n",
       "      <td>AL704</td>\n",
       "      <td>Computer Engineering</td>\n",
       "      <td>210</td>\n",
       "      <td>368</td>\n",
       "      <td>7.0</td>\n",
       "      <td>204</td>\n",
       "      <td>403</td>\n",
       "      <td>205</td>\n",
       "      <td>307.0</td>\n",
       "    </tr>\n",
       "  </tbody>\n",
       "</table>\n",
       "</div>"
      ],
      "text/plain": [
       "     Code                                            Title 2021Points  \\\n",
       "1   AL630                              Pharmacy Technician        308   \n",
       "2   AL631                                   Dental Nursing        311   \n",
       "3   AL632                                  Applied Science        297   \n",
       "8   AL701  Computer Engineering for Network Infrastructure        207   \n",
       "11  AL704                             Computer Engineering        210   \n",
       "\n",
       "   2021MidPoints  Level 2020Points 2020MidPoints 2019Points  2019MidPoints  \n",
       "1            409    6.0        295           379        306          366.0  \n",
       "2            400    6.0        298           388        326          379.0  \n",
       "3            454    6.0        234           434        243          372.0  \n",
       "8            382    7.0        216           337        235          310.0  \n",
       "11           368    7.0        204           403        205          307.0  "
      ]
     },
     "execution_count": 66,
     "metadata": {},
     "output_type": "execute_result"
    }
   ],
   "source": [
    "dfcao.head()"
   ]
  },
  {
   "cell_type": "code",
   "execution_count": 67,
   "metadata": {},
   "outputs": [],
   "source": [
    "# Rearrange columns\n",
    "dfcao = dfcao[[\"Code\", \"Title\",\"Level\",\"2021Points\",\"2021MidPoints\",\"2020Points\",\"2020MidPoints\",\"2019Points\",\"2019MidPoints\"]]"
   ]
  },
  {
   "cell_type": "code",
   "execution_count": 68,
   "metadata": {},
   "outputs": [
    {
     "data": {
      "text/html": [
       "<div>\n",
       "<style scoped>\n",
       "    .dataframe tbody tr th:only-of-type {\n",
       "        vertical-align: middle;\n",
       "    }\n",
       "\n",
       "    .dataframe tbody tr th {\n",
       "        vertical-align: top;\n",
       "    }\n",
       "\n",
       "    .dataframe thead th {\n",
       "        text-align: right;\n",
       "    }\n",
       "</style>\n",
       "<table border=\"1\" class=\"dataframe\">\n",
       "  <thead>\n",
       "    <tr style=\"text-align: right;\">\n",
       "      <th></th>\n",
       "      <th>Code</th>\n",
       "      <th>Title</th>\n",
       "      <th>Level</th>\n",
       "      <th>2021Points</th>\n",
       "      <th>2021MidPoints</th>\n",
       "      <th>2020Points</th>\n",
       "      <th>2020MidPoints</th>\n",
       "      <th>2019Points</th>\n",
       "      <th>2019MidPoints</th>\n",
       "    </tr>\n",
       "  </thead>\n",
       "  <tbody>\n",
       "    <tr>\n",
       "      <th>1</th>\n",
       "      <td>AL630</td>\n",
       "      <td>Pharmacy Technician</td>\n",
       "      <td>6.0</td>\n",
       "      <td>308</td>\n",
       "      <td>409</td>\n",
       "      <td>295</td>\n",
       "      <td>379</td>\n",
       "      <td>306</td>\n",
       "      <td>366.0</td>\n",
       "    </tr>\n",
       "    <tr>\n",
       "      <th>2</th>\n",
       "      <td>AL631</td>\n",
       "      <td>Dental Nursing</td>\n",
       "      <td>6.0</td>\n",
       "      <td>311</td>\n",
       "      <td>400</td>\n",
       "      <td>298</td>\n",
       "      <td>388</td>\n",
       "      <td>326</td>\n",
       "      <td>379.0</td>\n",
       "    </tr>\n",
       "    <tr>\n",
       "      <th>3</th>\n",
       "      <td>AL632</td>\n",
       "      <td>Applied Science</td>\n",
       "      <td>6.0</td>\n",
       "      <td>297</td>\n",
       "      <td>454</td>\n",
       "      <td>234</td>\n",
       "      <td>434</td>\n",
       "      <td>243</td>\n",
       "      <td>372.0</td>\n",
       "    </tr>\n",
       "    <tr>\n",
       "      <th>8</th>\n",
       "      <td>AL701</td>\n",
       "      <td>Computer Engineering for Network Infrastructure</td>\n",
       "      <td>7.0</td>\n",
       "      <td>207</td>\n",
       "      <td>382</td>\n",
       "      <td>216</td>\n",
       "      <td>337</td>\n",
       "      <td>235</td>\n",
       "      <td>310.0</td>\n",
       "    </tr>\n",
       "    <tr>\n",
       "      <th>11</th>\n",
       "      <td>AL704</td>\n",
       "      <td>Computer Engineering</td>\n",
       "      <td>7.0</td>\n",
       "      <td>210</td>\n",
       "      <td>368</td>\n",
       "      <td>204</td>\n",
       "      <td>403</td>\n",
       "      <td>205</td>\n",
       "      <td>307.0</td>\n",
       "    </tr>\n",
       "  </tbody>\n",
       "</table>\n",
       "</div>"
      ],
      "text/plain": [
       "     Code                                            Title  Level 2021Points  \\\n",
       "1   AL630                              Pharmacy Technician    6.0        308   \n",
       "2   AL631                                   Dental Nursing    6.0        311   \n",
       "3   AL632                                  Applied Science    6.0        297   \n",
       "8   AL701  Computer Engineering for Network Infrastructure    7.0        207   \n",
       "11  AL704                             Computer Engineering    7.0        210   \n",
       "\n",
       "   2021MidPoints 2020Points 2020MidPoints 2019Points  2019MidPoints  \n",
       "1            409        295           379        306          366.0  \n",
       "2            400        298           388        326          379.0  \n",
       "3            454        234           434        243          372.0  \n",
       "8            382        216           337        235          310.0  \n",
       "11           368        204           403        205          307.0  "
      ]
     },
     "execution_count": 68,
     "metadata": {},
     "output_type": "execute_result"
    }
   ],
   "source": [
    "dfcao.head()"
   ]
  },
  {
   "cell_type": "code",
   "execution_count": 69,
   "metadata": {},
   "outputs": [],
   "source": [
    "# Convert 2019 Points to string before removing * (* means not all points got on course)\n",
    "dfcao[\"2019Points\"] = dfcao[\"2019Points\"].astype(str)\n",
    "dfcao['2019Points'] = dfcao['2019Points'].str.replace(r\"\\*\",'')"
   ]
  },
  {
   "cell_type": "code",
   "execution_count": 70,
   "metadata": {},
   "outputs": [
    {
     "data": {
      "text/html": [
       "<div>\n",
       "<style scoped>\n",
       "    .dataframe tbody tr th:only-of-type {\n",
       "        vertical-align: middle;\n",
       "    }\n",
       "\n",
       "    .dataframe tbody tr th {\n",
       "        vertical-align: top;\n",
       "    }\n",
       "\n",
       "    .dataframe thead th {\n",
       "        text-align: right;\n",
       "    }\n",
       "</style>\n",
       "<table border=\"1\" class=\"dataframe\">\n",
       "  <thead>\n",
       "    <tr style=\"text-align: right;\">\n",
       "      <th></th>\n",
       "      <th>Code</th>\n",
       "      <th>Title</th>\n",
       "      <th>Level</th>\n",
       "      <th>2021Points</th>\n",
       "      <th>2021MidPoints</th>\n",
       "      <th>2020Points</th>\n",
       "      <th>2020MidPoints</th>\n",
       "      <th>2019Points</th>\n",
       "      <th>2019MidPoints</th>\n",
       "    </tr>\n",
       "  </thead>\n",
       "  <tbody>\n",
       "    <tr>\n",
       "      <th>1</th>\n",
       "      <td>AL630</td>\n",
       "      <td>Pharmacy Technician</td>\n",
       "      <td>6.0</td>\n",
       "      <td>308</td>\n",
       "      <td>409</td>\n",
       "      <td>295</td>\n",
       "      <td>379</td>\n",
       "      <td>306</td>\n",
       "      <td>366.0</td>\n",
       "    </tr>\n",
       "    <tr>\n",
       "      <th>2</th>\n",
       "      <td>AL631</td>\n",
       "      <td>Dental Nursing</td>\n",
       "      <td>6.0</td>\n",
       "      <td>311</td>\n",
       "      <td>400</td>\n",
       "      <td>298</td>\n",
       "      <td>388</td>\n",
       "      <td>326</td>\n",
       "      <td>379.0</td>\n",
       "    </tr>\n",
       "    <tr>\n",
       "      <th>3</th>\n",
       "      <td>AL632</td>\n",
       "      <td>Applied Science</td>\n",
       "      <td>6.0</td>\n",
       "      <td>297</td>\n",
       "      <td>454</td>\n",
       "      <td>234</td>\n",
       "      <td>434</td>\n",
       "      <td>243</td>\n",
       "      <td>372.0</td>\n",
       "    </tr>\n",
       "    <tr>\n",
       "      <th>8</th>\n",
       "      <td>AL701</td>\n",
       "      <td>Computer Engineering for Network Infrastructure</td>\n",
       "      <td>7.0</td>\n",
       "      <td>207</td>\n",
       "      <td>382</td>\n",
       "      <td>216</td>\n",
       "      <td>337</td>\n",
       "      <td>235</td>\n",
       "      <td>310.0</td>\n",
       "    </tr>\n",
       "    <tr>\n",
       "      <th>11</th>\n",
       "      <td>AL704</td>\n",
       "      <td>Computer Engineering</td>\n",
       "      <td>7.0</td>\n",
       "      <td>210</td>\n",
       "      <td>368</td>\n",
       "      <td>204</td>\n",
       "      <td>403</td>\n",
       "      <td>205</td>\n",
       "      <td>307.0</td>\n",
       "    </tr>\n",
       "  </tbody>\n",
       "</table>\n",
       "</div>"
      ],
      "text/plain": [
       "     Code                                            Title  Level 2021Points  \\\n",
       "1   AL630                              Pharmacy Technician    6.0        308   \n",
       "2   AL631                                   Dental Nursing    6.0        311   \n",
       "3   AL632                                  Applied Science    6.0        297   \n",
       "8   AL701  Computer Engineering for Network Infrastructure    7.0        207   \n",
       "11  AL704                             Computer Engineering    7.0        210   \n",
       "\n",
       "   2021MidPoints 2020Points 2020MidPoints 2019Points  2019MidPoints  \n",
       "1            409        295           379        306          366.0  \n",
       "2            400        298           388        326          379.0  \n",
       "3            454        234           434        243          372.0  \n",
       "8            382        216           337        235          310.0  \n",
       "11           368        204           403        205          307.0  "
      ]
     },
     "execution_count": 70,
     "metadata": {},
     "output_type": "execute_result"
    }
   ],
   "source": [
    "dfcao.head()"
   ]
  },
  {
   "cell_type": "code",
   "execution_count": 71,
   "metadata": {},
   "outputs": [],
   "source": [
    "# Convert Points columns to ints\n",
    "dfcao[\"2021Points\"] = pd.to_numeric(dfcao[\"2021Points\"])\n",
    "dfcao[\"2020Points\"] = pd.to_numeric(dfcao[\"2020Points\"])\n",
    "dfcao[\"2019Points\"] = pd.to_numeric(dfcao[\"2019Points\"])"
   ]
  },
  {
   "cell_type": "code",
   "execution_count": 72,
   "metadata": {},
   "outputs": [
    {
     "name": "stdout",
     "output_type": "stream",
     "text": [
      "                                                  Title  2021Points\n",
      "875                        Contemporary Art (portfolio)         775\n",
      "879                        Contemporary Art (portfolio)         790\n",
      "1362  Animation, Visual Effects and Motion Design (L...         718 \n",
      "\n",
      "\n",
      "                            Title  2020Points\n",
      "875  Contemporary Art (portfolio)         702\n",
      "879  Contemporary Art (portfolio)         679 \n",
      "\n",
      "\n",
      "Empty DataFrame\n",
      "Columns: [Title, 2019Points]\n",
      "Index: [] \n",
      "\n",
      "\n"
     ]
    }
   ],
   "source": [
    "print(dfcao[[\"Title\", \"2021Points\"]].loc[dfcao[\"2021Points\"] > 625], \"\\n\\n\")\n",
    "print(dfcao[[\"Title\", \"2020Points\"]].loc[dfcao[\"2020Points\"] > 625], \"\\n\\n\")\n",
    "print(dfcao[[\"Title\", \"2019Points\"]].loc[dfcao[\"2019Points\"] > 625], \"\\n\\n\")"
   ]
  },
  {
   "cell_type": "markdown",
   "metadata": {},
   "source": [
    "From the above results of points over 625, it appears that 3 courses have portfolios in their points grading but were not marked as such. These will be removed."
   ]
  },
  {
   "cell_type": "code",
   "execution_count": 73,
   "metadata": {},
   "outputs": [],
   "source": [
    "dfcao = dfcao.drop([875,879,1362])"
   ]
  },
  {
   "cell_type": "code",
   "execution_count": 74,
   "metadata": {},
   "outputs": [
    {
     "name": "stdout",
     "output_type": "stream",
     "text": [
      "Empty DataFrame\n",
      "Columns: [Title, 2021Points]\n",
      "Index: [] \n",
      "\n",
      "\n",
      "Empty DataFrame\n",
      "Columns: [Title, 2020Points]\n",
      "Index: [] \n",
      "\n",
      "\n",
      "Empty DataFrame\n",
      "Columns: [Title, 2019Points]\n",
      "Index: [] \n",
      "\n",
      "\n"
     ]
    }
   ],
   "source": [
    "print(dfcao[[\"Title\", \"2021Points\"]].loc[dfcao[\"2021Points\"] > 625], \"\\n\\n\")\n",
    "print(dfcao[[\"Title\", \"2020Points\"]].loc[dfcao[\"2020Points\"] > 625], \"\\n\\n\")\n",
    "print(dfcao[[\"Title\", \"2019Points\"]].loc[dfcao[\"2019Points\"] > 625], \"\\n\\n\")"
   ]
  },
  {
   "cell_type": "code",
   "execution_count": 75,
   "metadata": {},
   "outputs": [],
   "source": [
    "dfcao[\"2021Diff\"] = dfcao[\"2021Points\"] - dfcao[\"2020Points\"]\n",
    "dfcao[\"2020Diff\"] = dfcao[\"2020Points\"] - dfcao[\"2019Points\"]"
   ]
  },
  {
   "cell_type": "code",
   "execution_count": 76,
   "metadata": {},
   "outputs": [
    {
     "data": {
      "text/html": [
       "<div>\n",
       "<style scoped>\n",
       "    .dataframe tbody tr th:only-of-type {\n",
       "        vertical-align: middle;\n",
       "    }\n",
       "\n",
       "    .dataframe tbody tr th {\n",
       "        vertical-align: top;\n",
       "    }\n",
       "\n",
       "    .dataframe thead th {\n",
       "        text-align: right;\n",
       "    }\n",
       "</style>\n",
       "<table border=\"1\" class=\"dataframe\">\n",
       "  <thead>\n",
       "    <tr style=\"text-align: right;\">\n",
       "      <th></th>\n",
       "      <th>Code</th>\n",
       "      <th>Title</th>\n",
       "      <th>Level</th>\n",
       "      <th>2021Points</th>\n",
       "      <th>2021MidPoints</th>\n",
       "      <th>2020Points</th>\n",
       "      <th>2020MidPoints</th>\n",
       "      <th>2019Points</th>\n",
       "      <th>2019MidPoints</th>\n",
       "      <th>2021Diff</th>\n",
       "      <th>2020Diff</th>\n",
       "    </tr>\n",
       "  </thead>\n",
       "  <tbody>\n",
       "    <tr>\n",
       "      <th>1</th>\n",
       "      <td>AL630</td>\n",
       "      <td>Pharmacy Technician</td>\n",
       "      <td>6.0</td>\n",
       "      <td>308</td>\n",
       "      <td>409</td>\n",
       "      <td>295</td>\n",
       "      <td>379</td>\n",
       "      <td>306</td>\n",
       "      <td>366.0</td>\n",
       "      <td>13</td>\n",
       "      <td>-11</td>\n",
       "    </tr>\n",
       "    <tr>\n",
       "      <th>2</th>\n",
       "      <td>AL631</td>\n",
       "      <td>Dental Nursing</td>\n",
       "      <td>6.0</td>\n",
       "      <td>311</td>\n",
       "      <td>400</td>\n",
       "      <td>298</td>\n",
       "      <td>388</td>\n",
       "      <td>326</td>\n",
       "      <td>379.0</td>\n",
       "      <td>13</td>\n",
       "      <td>-28</td>\n",
       "    </tr>\n",
       "    <tr>\n",
       "      <th>3</th>\n",
       "      <td>AL632</td>\n",
       "      <td>Applied Science</td>\n",
       "      <td>6.0</td>\n",
       "      <td>297</td>\n",
       "      <td>454</td>\n",
       "      <td>234</td>\n",
       "      <td>434</td>\n",
       "      <td>243</td>\n",
       "      <td>372.0</td>\n",
       "      <td>63</td>\n",
       "      <td>-9</td>\n",
       "    </tr>\n",
       "    <tr>\n",
       "      <th>8</th>\n",
       "      <td>AL701</td>\n",
       "      <td>Computer Engineering for Network Infrastructure</td>\n",
       "      <td>7.0</td>\n",
       "      <td>207</td>\n",
       "      <td>382</td>\n",
       "      <td>216</td>\n",
       "      <td>337</td>\n",
       "      <td>235</td>\n",
       "      <td>310.0</td>\n",
       "      <td>-9</td>\n",
       "      <td>-19</td>\n",
       "    </tr>\n",
       "    <tr>\n",
       "      <th>11</th>\n",
       "      <td>AL704</td>\n",
       "      <td>Computer Engineering</td>\n",
       "      <td>7.0</td>\n",
       "      <td>210</td>\n",
       "      <td>368</td>\n",
       "      <td>204</td>\n",
       "      <td>403</td>\n",
       "      <td>205</td>\n",
       "      <td>307.0</td>\n",
       "      <td>6</td>\n",
       "      <td>-1</td>\n",
       "    </tr>\n",
       "  </tbody>\n",
       "</table>\n",
       "</div>"
      ],
      "text/plain": [
       "     Code                                            Title  Level  2021Points  \\\n",
       "1   AL630                              Pharmacy Technician    6.0         308   \n",
       "2   AL631                                   Dental Nursing    6.0         311   \n",
       "3   AL632                                  Applied Science    6.0         297   \n",
       "8   AL701  Computer Engineering for Network Infrastructure    7.0         207   \n",
       "11  AL704                             Computer Engineering    7.0         210   \n",
       "\n",
       "   2021MidPoints  2020Points 2020MidPoints  2019Points  2019MidPoints  \\\n",
       "1            409         295           379         306          366.0   \n",
       "2            400         298           388         326          379.0   \n",
       "3            454         234           434         243          372.0   \n",
       "8            382         216           337         235          310.0   \n",
       "11           368         204           403         205          307.0   \n",
       "\n",
       "    2021Diff  2020Diff  \n",
       "1         13       -11  \n",
       "2         13       -28  \n",
       "3         63        -9  \n",
       "8         -9       -19  \n",
       "11         6        -1  "
      ]
     },
     "execution_count": 76,
     "metadata": {},
     "output_type": "execute_result"
    }
   ],
   "source": [
    "dfcao.head()"
   ]
  },
  {
   "cell_type": "markdown",
   "metadata": {},
   "source": [
    "# Analysis of CAO Points"
   ]
  },
  {
   "cell_type": "code",
   "execution_count": 82,
   "metadata": {},
   "outputs": [
    {
     "data": {
      "text/plain": [
       "Code             933\n",
       "Title            933\n",
       "Level            933\n",
       "2021Points       933\n",
       "2021MidPoints    933\n",
       "2020Points       933\n",
       "2020MidPoints    933\n",
       "2019Points       933\n",
       "2019MidPoints    933\n",
       "2021Diff         933\n",
       "2020Diff         933\n",
       "dtype: int64"
      ]
     },
     "execution_count": 82,
     "metadata": {},
     "output_type": "execute_result"
    }
   ],
   "source": [
    "dfcao.count()"
   ]
  },
  {
   "cell_type": "markdown",
   "metadata": {},
   "source": [
    "#### Total number of Courses Analysed\n",
    "In total, 933 course were analysed out of a potential 1812 courses. The majority of the courses not analysed were removed because they were not present across all 3 years. Other courses were removed due to some points data not being present or they courses requiring portfolios which data was not given for."
   ]
  },
  {
   "cell_type": "code",
   "execution_count": 96,
   "metadata": {},
   "outputs": [
    {
     "data": {
      "text/html": [
       "<div>\n",
       "<style scoped>\n",
       "    .dataframe tbody tr th:only-of-type {\n",
       "        vertical-align: middle;\n",
       "    }\n",
       "\n",
       "    .dataframe tbody tr th {\n",
       "        vertical-align: top;\n",
       "    }\n",
       "\n",
       "    .dataframe thead th {\n",
       "        text-align: right;\n",
       "    }\n",
       "</style>\n",
       "<table border=\"1\" class=\"dataframe\">\n",
       "  <thead>\n",
       "    <tr style=\"text-align: right;\">\n",
       "      <th></th>\n",
       "      <th>Level</th>\n",
       "      <th>2021Points</th>\n",
       "      <th>2020Points</th>\n",
       "      <th>2019Points</th>\n",
       "      <th>2019MidPoints</th>\n",
       "      <th>2021Diff</th>\n",
       "      <th>2020Diff</th>\n",
       "    </tr>\n",
       "  </thead>\n",
       "  <tbody>\n",
       "    <tr>\n",
       "      <th>count</th>\n",
       "      <td>933.000000</td>\n",
       "      <td>933.000000</td>\n",
       "      <td>933.000000</td>\n",
       "      <td>933.000000</td>\n",
       "      <td>933.000000</td>\n",
       "      <td>933.000000</td>\n",
       "      <td>933.000000</td>\n",
       "    </tr>\n",
       "    <tr>\n",
       "      <th>mean</th>\n",
       "      <td>7.658092</td>\n",
       "      <td>349.286174</td>\n",
       "      <td>335.355841</td>\n",
       "      <td>324.513398</td>\n",
       "      <td>392.229368</td>\n",
       "      <td>13.930332</td>\n",
       "      <td>10.842444</td>\n",
       "    </tr>\n",
       "    <tr>\n",
       "      <th>std</th>\n",
       "      <td>0.574803</td>\n",
       "      <td>122.874533</td>\n",
       "      <td>110.829277</td>\n",
       "      <td>105.503123</td>\n",
       "      <td>79.604865</td>\n",
       "      <td>34.063694</td>\n",
       "      <td>29.150156</td>\n",
       "    </tr>\n",
       "    <tr>\n",
       "      <th>min</th>\n",
       "      <td>6.000000</td>\n",
       "      <td>100.000000</td>\n",
       "      <td>80.000000</td>\n",
       "      <td>101.000000</td>\n",
       "      <td>190.000000</td>\n",
       "      <td>-181.000000</td>\n",
       "      <td>-157.000000</td>\n",
       "    </tr>\n",
       "    <tr>\n",
       "      <th>25%</th>\n",
       "      <td>7.000000</td>\n",
       "      <td>260.000000</td>\n",
       "      <td>252.000000</td>\n",
       "      <td>249.000000</td>\n",
       "      <td>330.000000</td>\n",
       "      <td>-1.000000</td>\n",
       "      <td>-2.000000</td>\n",
       "    </tr>\n",
       "    <tr>\n",
       "      <th>50%</th>\n",
       "      <td>8.000000</td>\n",
       "      <td>315.000000</td>\n",
       "      <td>309.000000</td>\n",
       "      <td>306.000000</td>\n",
       "      <td>374.000000</td>\n",
       "      <td>12.000000</td>\n",
       "      <td>9.000000</td>\n",
       "    </tr>\n",
       "    <tr>\n",
       "      <th>75%</th>\n",
       "      <td>8.000000</td>\n",
       "      <td>444.000000</td>\n",
       "      <td>419.000000</td>\n",
       "      <td>401.000000</td>\n",
       "      <td>445.000000</td>\n",
       "      <td>32.000000</td>\n",
       "      <td>25.000000</td>\n",
       "    </tr>\n",
       "    <tr>\n",
       "      <th>max</th>\n",
       "      <td>8.000000</td>\n",
       "      <td>625.000000</td>\n",
       "      <td>613.000000</td>\n",
       "      <td>601.000000</td>\n",
       "      <td>613.000000</td>\n",
       "      <td>238.000000</td>\n",
       "      <td>188.000000</td>\n",
       "    </tr>\n",
       "  </tbody>\n",
       "</table>\n",
       "</div>"
      ],
      "text/plain": [
       "            Level  2021Points  2020Points  2019Points  2019MidPoints  \\\n",
       "count  933.000000  933.000000  933.000000  933.000000     933.000000   \n",
       "mean     7.658092  349.286174  335.355841  324.513398     392.229368   \n",
       "std      0.574803  122.874533  110.829277  105.503123      79.604865   \n",
       "min      6.000000  100.000000   80.000000  101.000000     190.000000   \n",
       "25%      7.000000  260.000000  252.000000  249.000000     330.000000   \n",
       "50%      8.000000  315.000000  309.000000  306.000000     374.000000   \n",
       "75%      8.000000  444.000000  419.000000  401.000000     445.000000   \n",
       "max      8.000000  625.000000  613.000000  601.000000     613.000000   \n",
       "\n",
       "         2021Diff    2020Diff  \n",
       "count  933.000000  933.000000  \n",
       "mean    13.930332   10.842444  \n",
       "std     34.063694   29.150156  \n",
       "min   -181.000000 -157.000000  \n",
       "25%     -1.000000   -2.000000  \n",
       "50%     12.000000    9.000000  \n",
       "75%     32.000000   25.000000  \n",
       "max    238.000000  188.000000  "
      ]
     },
     "execution_count": 96,
     "metadata": {},
     "output_type": "execute_result"
    }
   ],
   "source": [
    "dfcao.describe()"
   ]
  },
  {
   "cell_type": "code",
   "execution_count": 88,
   "metadata": {},
   "outputs": [],
   "source": [
    "# Separate courses by level\n",
    "dfcaoL6 = dfcao.loc[dfcao[\"Level\"] == 6]\n",
    "dfcaoL7 = dfcao.loc[dfcao[\"Level\"] == 7]\n",
    "dfcaoL8 = dfcao.loc[dfcao[\"Level\"] == 8]"
   ]
  },
  {
   "cell_type": "code",
   "execution_count": 97,
   "metadata": {},
   "outputs": [
    {
     "data": {
      "text/html": [
       "<div>\n",
       "<style scoped>\n",
       "    .dataframe tbody tr th:only-of-type {\n",
       "        vertical-align: middle;\n",
       "    }\n",
       "\n",
       "    .dataframe tbody tr th {\n",
       "        vertical-align: top;\n",
       "    }\n",
       "\n",
       "    .dataframe thead th {\n",
       "        text-align: right;\n",
       "    }\n",
       "</style>\n",
       "<table border=\"1\" class=\"dataframe\">\n",
       "  <thead>\n",
       "    <tr style=\"text-align: right;\">\n",
       "      <th></th>\n",
       "      <th>Level</th>\n",
       "      <th>2021Points</th>\n",
       "      <th>2020Points</th>\n",
       "      <th>2019Points</th>\n",
       "      <th>2019MidPoints</th>\n",
       "      <th>2021Diff</th>\n",
       "      <th>2020Diff</th>\n",
       "    </tr>\n",
       "  </thead>\n",
       "  <tbody>\n",
       "    <tr>\n",
       "      <th>count</th>\n",
       "      <td>663.0</td>\n",
       "      <td>663.000000</td>\n",
       "      <td>663.000000</td>\n",
       "      <td>663.000000</td>\n",
       "      <td>663.000000</td>\n",
       "      <td>663.000000</td>\n",
       "      <td>663.000000</td>\n",
       "    </tr>\n",
       "    <tr>\n",
       "      <th>mean</th>\n",
       "      <td>8.0</td>\n",
       "      <td>394.508296</td>\n",
       "      <td>377.693816</td>\n",
       "      <td>365.895928</td>\n",
       "      <td>410.114630</td>\n",
       "      <td>16.814480</td>\n",
       "      <td>11.797888</td>\n",
       "    </tr>\n",
       "    <tr>\n",
       "      <th>std</th>\n",
       "      <td>0.0</td>\n",
       "      <td>110.662150</td>\n",
       "      <td>98.780608</td>\n",
       "      <td>91.380102</td>\n",
       "      <td>81.420946</td>\n",
       "      <td>30.189387</td>\n",
       "      <td>25.839527</td>\n",
       "    </tr>\n",
       "    <tr>\n",
       "      <th>min</th>\n",
       "      <td>8.0</td>\n",
       "      <td>176.000000</td>\n",
       "      <td>195.000000</td>\n",
       "      <td>168.000000</td>\n",
       "      <td>262.000000</td>\n",
       "      <td>-181.000000</td>\n",
       "      <td>-99.000000</td>\n",
       "    </tr>\n",
       "    <tr>\n",
       "      <th>25%</th>\n",
       "      <td>8.0</td>\n",
       "      <td>301.000000</td>\n",
       "      <td>300.000000</td>\n",
       "      <td>298.000000</td>\n",
       "      <td>346.000000</td>\n",
       "      <td>0.000000</td>\n",
       "      <td>0.000000</td>\n",
       "    </tr>\n",
       "    <tr>\n",
       "      <th>50%</th>\n",
       "      <td>8.0</td>\n",
       "      <td>384.000000</td>\n",
       "      <td>363.000000</td>\n",
       "      <td>349.000000</td>\n",
       "      <td>393.000000</td>\n",
       "      <td>18.000000</td>\n",
       "      <td>11.000000</td>\n",
       "    </tr>\n",
       "    <tr>\n",
       "      <th>75%</th>\n",
       "      <td>8.0</td>\n",
       "      <td>488.000000</td>\n",
       "      <td>454.500000</td>\n",
       "      <td>434.000000</td>\n",
       "      <td>476.000000</td>\n",
       "      <td>34.000000</td>\n",
       "      <td>25.000000</td>\n",
       "    </tr>\n",
       "    <tr>\n",
       "      <th>max</th>\n",
       "      <td>8.0</td>\n",
       "      <td>625.000000</td>\n",
       "      <td>613.000000</td>\n",
       "      <td>601.000000</td>\n",
       "      <td>613.000000</td>\n",
       "      <td>101.000000</td>\n",
       "      <td>148.000000</td>\n",
       "    </tr>\n",
       "  </tbody>\n",
       "</table>\n",
       "</div>"
      ],
      "text/plain": [
       "       Level  2021Points  2020Points  2019Points  2019MidPoints    2021Diff  \\\n",
       "count  663.0  663.000000  663.000000  663.000000     663.000000  663.000000   \n",
       "mean     8.0  394.508296  377.693816  365.895928     410.114630   16.814480   \n",
       "std      0.0  110.662150   98.780608   91.380102      81.420946   30.189387   \n",
       "min      8.0  176.000000  195.000000  168.000000     262.000000 -181.000000   \n",
       "25%      8.0  301.000000  300.000000  298.000000     346.000000    0.000000   \n",
       "50%      8.0  384.000000  363.000000  349.000000     393.000000   18.000000   \n",
       "75%      8.0  488.000000  454.500000  434.000000     476.000000   34.000000   \n",
       "max      8.0  625.000000  613.000000  601.000000     613.000000  101.000000   \n",
       "\n",
       "         2020Diff  \n",
       "count  663.000000  \n",
       "mean    11.797888  \n",
       "std     25.839527  \n",
       "min    -99.000000  \n",
       "25%      0.000000  \n",
       "50%     11.000000  \n",
       "75%     25.000000  \n",
       "max    148.000000  "
      ]
     },
     "execution_count": 97,
     "metadata": {},
     "output_type": "execute_result"
    }
   ],
   "source": [
    "dfcaoL8.describe()"
   ]
  },
  {
   "cell_type": "code",
   "execution_count": 98,
   "metadata": {},
   "outputs": [
    {
     "data": {
      "text/html": [
       "<div>\n",
       "<style scoped>\n",
       "    .dataframe tbody tr th:only-of-type {\n",
       "        vertical-align: middle;\n",
       "    }\n",
       "\n",
       "    .dataframe tbody tr th {\n",
       "        vertical-align: top;\n",
       "    }\n",
       "\n",
       "    .dataframe thead th {\n",
       "        text-align: right;\n",
       "    }\n",
       "</style>\n",
       "<table border=\"1\" class=\"dataframe\">\n",
       "  <thead>\n",
       "    <tr style=\"text-align: right;\">\n",
       "      <th></th>\n",
       "      <th>Level</th>\n",
       "      <th>2021Points</th>\n",
       "      <th>2020Points</th>\n",
       "      <th>2019Points</th>\n",
       "      <th>2019MidPoints</th>\n",
       "      <th>2021Diff</th>\n",
       "      <th>2020Diff</th>\n",
       "    </tr>\n",
       "  </thead>\n",
       "  <tbody>\n",
       "    <tr>\n",
       "      <th>count</th>\n",
       "      <td>221.0</td>\n",
       "      <td>221.000000</td>\n",
       "      <td>221.000000</td>\n",
       "      <td>221.000000</td>\n",
       "      <td>221.000000</td>\n",
       "      <td>221.000000</td>\n",
       "      <td>221.000000</td>\n",
       "    </tr>\n",
       "    <tr>\n",
       "      <th>mean</th>\n",
       "      <td>7.0</td>\n",
       "      <td>240.126697</td>\n",
       "      <td>232.579186</td>\n",
       "      <td>223.692308</td>\n",
       "      <td>351.067873</td>\n",
       "      <td>7.547511</td>\n",
       "      <td>8.886878</td>\n",
       "    </tr>\n",
       "    <tr>\n",
       "      <th>std</th>\n",
       "      <td>0.0</td>\n",
       "      <td>64.403573</td>\n",
       "      <td>56.659263</td>\n",
       "      <td>55.873114</td>\n",
       "      <td>51.247793</td>\n",
       "      <td>37.770404</td>\n",
       "      <td>35.931258</td>\n",
       "    </tr>\n",
       "    <tr>\n",
       "      <th>min</th>\n",
       "      <td>7.0</td>\n",
       "      <td>100.000000</td>\n",
       "      <td>80.000000</td>\n",
       "      <td>101.000000</td>\n",
       "      <td>255.000000</td>\n",
       "      <td>-154.000000</td>\n",
       "      <td>-154.000000</td>\n",
       "    </tr>\n",
       "    <tr>\n",
       "      <th>25%</th>\n",
       "      <td>7.0</td>\n",
       "      <td>200.000000</td>\n",
       "      <td>195.000000</td>\n",
       "      <td>186.000000</td>\n",
       "      <td>311.000000</td>\n",
       "      <td>-8.000000</td>\n",
       "      <td>-8.000000</td>\n",
       "    </tr>\n",
       "    <tr>\n",
       "      <th>50%</th>\n",
       "      <td>7.0</td>\n",
       "      <td>234.000000</td>\n",
       "      <td>233.000000</td>\n",
       "      <td>222.000000</td>\n",
       "      <td>347.000000</td>\n",
       "      <td>8.000000</td>\n",
       "      <td>3.000000</td>\n",
       "    </tr>\n",
       "    <tr>\n",
       "      <th>75%</th>\n",
       "      <td>7.0</td>\n",
       "      <td>280.000000</td>\n",
       "      <td>269.000000</td>\n",
       "      <td>260.000000</td>\n",
       "      <td>382.000000</td>\n",
       "      <td>20.000000</td>\n",
       "      <td>21.000000</td>\n",
       "    </tr>\n",
       "    <tr>\n",
       "      <th>max</th>\n",
       "      <td>7.0</td>\n",
       "      <td>433.000000</td>\n",
       "      <td>400.000000</td>\n",
       "      <td>393.000000</td>\n",
       "      <td>520.000000</td>\n",
       "      <td>136.000000</td>\n",
       "      <td>188.000000</td>\n",
       "    </tr>\n",
       "  </tbody>\n",
       "</table>\n",
       "</div>"
      ],
      "text/plain": [
       "       Level  2021Points  2020Points  2019Points  2019MidPoints    2021Diff  \\\n",
       "count  221.0  221.000000  221.000000  221.000000     221.000000  221.000000   \n",
       "mean     7.0  240.126697  232.579186  223.692308     351.067873    7.547511   \n",
       "std      0.0   64.403573   56.659263   55.873114      51.247793   37.770404   \n",
       "min      7.0  100.000000   80.000000  101.000000     255.000000 -154.000000   \n",
       "25%      7.0  200.000000  195.000000  186.000000     311.000000   -8.000000   \n",
       "50%      7.0  234.000000  233.000000  222.000000     347.000000    8.000000   \n",
       "75%      7.0  280.000000  269.000000  260.000000     382.000000   20.000000   \n",
       "max      7.0  433.000000  400.000000  393.000000     520.000000  136.000000   \n",
       "\n",
       "         2020Diff  \n",
       "count  221.000000  \n",
       "mean     8.886878  \n",
       "std     35.931258  \n",
       "min   -154.000000  \n",
       "25%     -8.000000  \n",
       "50%      3.000000  \n",
       "75%     21.000000  \n",
       "max    188.000000  "
      ]
     },
     "execution_count": 98,
     "metadata": {},
     "output_type": "execute_result"
    }
   ],
   "source": [
    "dfcaoL7.describe()"
   ]
  },
  {
   "cell_type": "code",
   "execution_count": 99,
   "metadata": {},
   "outputs": [
    {
     "data": {
      "text/html": [
       "<div>\n",
       "<style scoped>\n",
       "    .dataframe tbody tr th:only-of-type {\n",
       "        vertical-align: middle;\n",
       "    }\n",
       "\n",
       "    .dataframe tbody tr th {\n",
       "        vertical-align: top;\n",
       "    }\n",
       "\n",
       "    .dataframe thead th {\n",
       "        text-align: right;\n",
       "    }\n",
       "</style>\n",
       "<table border=\"1\" class=\"dataframe\">\n",
       "  <thead>\n",
       "    <tr style=\"text-align: right;\">\n",
       "      <th></th>\n",
       "      <th>Level</th>\n",
       "      <th>2021Points</th>\n",
       "      <th>2020Points</th>\n",
       "      <th>2019Points</th>\n",
       "      <th>2019MidPoints</th>\n",
       "      <th>2021Diff</th>\n",
       "      <th>2020Diff</th>\n",
       "    </tr>\n",
       "  </thead>\n",
       "  <tbody>\n",
       "    <tr>\n",
       "      <th>count</th>\n",
       "      <td>49.0</td>\n",
       "      <td>49.000000</td>\n",
       "      <td>49.000000</td>\n",
       "      <td>49.000000</td>\n",
       "      <td>49.000000</td>\n",
       "      <td>49.000000</td>\n",
       "      <td>49.000000</td>\n",
       "    </tr>\n",
       "    <tr>\n",
       "      <th>mean</th>\n",
       "      <td>6.0</td>\n",
       "      <td>229.734694</td>\n",
       "      <td>226.040816</td>\n",
       "      <td>219.306122</td>\n",
       "      <td>335.877551</td>\n",
       "      <td>3.693878</td>\n",
       "      <td>6.734694</td>\n",
       "    </tr>\n",
       "    <tr>\n",
       "      <th>std</th>\n",
       "      <td>0.0</td>\n",
       "      <td>86.895957</td>\n",
       "      <td>60.152223</td>\n",
       "      <td>69.984881</td>\n",
       "      <td>64.140027</td>\n",
       "      <td>54.882528</td>\n",
       "      <td>36.410722</td>\n",
       "    </tr>\n",
       "    <tr>\n",
       "      <th>min</th>\n",
       "      <td>6.0</td>\n",
       "      <td>113.000000</td>\n",
       "      <td>148.000000</td>\n",
       "      <td>116.000000</td>\n",
       "      <td>190.000000</td>\n",
       "      <td>-81.000000</td>\n",
       "      <td>-157.000000</td>\n",
       "    </tr>\n",
       "    <tr>\n",
       "      <th>25%</th>\n",
       "      <td>6.0</td>\n",
       "      <td>171.000000</td>\n",
       "      <td>181.000000</td>\n",
       "      <td>173.000000</td>\n",
       "      <td>297.000000</td>\n",
       "      <td>-24.000000</td>\n",
       "      <td>-9.000000</td>\n",
       "    </tr>\n",
       "    <tr>\n",
       "      <th>50%</th>\n",
       "      <td>6.0</td>\n",
       "      <td>214.000000</td>\n",
       "      <td>210.000000</td>\n",
       "      <td>206.000000</td>\n",
       "      <td>329.000000</td>\n",
       "      <td>-1.000000</td>\n",
       "      <td>9.000000</td>\n",
       "    </tr>\n",
       "    <tr>\n",
       "      <th>75%</th>\n",
       "      <td>6.0</td>\n",
       "      <td>259.000000</td>\n",
       "      <td>251.000000</td>\n",
       "      <td>245.000000</td>\n",
       "      <td>377.000000</td>\n",
       "      <td>11.000000</td>\n",
       "      <td>29.000000</td>\n",
       "    </tr>\n",
       "    <tr>\n",
       "      <th>max</th>\n",
       "      <td>6.0</td>\n",
       "      <td>463.000000</td>\n",
       "      <td>451.000000</td>\n",
       "      <td>454.000000</td>\n",
       "      <td>499.000000</td>\n",
       "      <td>238.000000</td>\n",
       "      <td>82.000000</td>\n",
       "    </tr>\n",
       "  </tbody>\n",
       "</table>\n",
       "</div>"
      ],
      "text/plain": [
       "       Level  2021Points  2020Points  2019Points  2019MidPoints    2021Diff  \\\n",
       "count   49.0   49.000000   49.000000   49.000000      49.000000   49.000000   \n",
       "mean     6.0  229.734694  226.040816  219.306122     335.877551    3.693878   \n",
       "std      0.0   86.895957   60.152223   69.984881      64.140027   54.882528   \n",
       "min      6.0  113.000000  148.000000  116.000000     190.000000  -81.000000   \n",
       "25%      6.0  171.000000  181.000000  173.000000     297.000000  -24.000000   \n",
       "50%      6.0  214.000000  210.000000  206.000000     329.000000   -1.000000   \n",
       "75%      6.0  259.000000  251.000000  245.000000     377.000000   11.000000   \n",
       "max      6.0  463.000000  451.000000  454.000000     499.000000  238.000000   \n",
       "\n",
       "         2020Diff  \n",
       "count   49.000000  \n",
       "mean     6.734694  \n",
       "std     36.410722  \n",
       "min   -157.000000  \n",
       "25%     -9.000000  \n",
       "50%      9.000000  \n",
       "75%     29.000000  \n",
       "max     82.000000  "
      ]
     },
     "execution_count": 99,
     "metadata": {},
     "output_type": "execute_result"
    }
   ],
   "source": [
    "dfcaoL6.describe()"
   ]
  },
  {
   "cell_type": "code",
   "execution_count": null,
   "metadata": {},
   "outputs": [],
   "source": []
  },
  {
   "cell_type": "markdown",
   "metadata": {},
   "source": [
    "---\n",
    "# End"
   ]
  }
 ],
 "metadata": {
  "kernelspec": {
   "display_name": "Python 3",
   "language": "python",
   "name": "python3"
  },
  "language_info": {
   "codemirror_mode": {
    "name": "ipython",
    "version": 3
   },
   "file_extension": ".py",
   "mimetype": "text/x-python",
   "name": "python",
   "nbconvert_exporter": "python",
   "pygments_lexer": "ipython3",
   "version": "3.8.5"
  }
 },
 "nbformat": 4,
 "nbformat_minor": 4
}
